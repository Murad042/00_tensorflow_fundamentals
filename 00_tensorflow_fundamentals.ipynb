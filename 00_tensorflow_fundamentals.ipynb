{
  "nbformat": 4,
  "nbformat_minor": 0,
  "metadata": {
    "colab": {
      "name": "00_tensorflow_fundamentals.ipynb",
      "provenance": [],
      "authorship_tag": "ABX9TyNyhPm5vjCfJ7oB88IgCZYN",
      "include_colab_link": true
    },
    "kernelspec": {
      "name": "python3",
      "display_name": "Python 3"
    },
    "language_info": {
      "name": "python"
    },
    "accelerator": "GPU"
  },
  "cells": [
    {
      "cell_type": "markdown",
      "metadata": {
        "id": "view-in-github",
        "colab_type": "text"
      },
      "source": [
        "<a href=\"https://colab.research.google.com/github/Murad042/00_tensorflow_fundamentals/blob/main/00_tensorflow_fundamentals.ipynb\" target=\"_parent\"><img src=\"https://colab.research.google.com/assets/colab-badge.svg\" alt=\"Open In Colab\"/></a>"
      ]
    },
    {
      "cell_type": "markdown",
      "metadata": {
        "id": "ocQc6QkeVz3z"
      },
      "source": [
        "#in this notebook, we're going to cover some of the most fundamental concepts of tensors using Tensorflow\n",
        "\n",
        "More specificially ,we're going to cover:\n",
        "\n",
        "* Introduction to tensors\n",
        "* Getting information from tensors\n",
        "* Manipulating tensors\n",
        "* Tensors & Numpy\n",
        "* Using @tf.function(a way tp speed up your Python functions)\n",
        "* Using GPUs with Tensorflow( or TPUs)\n",
        "* Exercises to try for yourself"
      ]
    },
    {
      "cell_type": "markdown",
      "metadata": {
        "id": "hgCGmhBLXvCx"
      },
      "source": [
        "#Introduction to Tensors"
      ]
    },
    {
      "cell_type": "code",
      "metadata": {
        "colab": {
          "base_uri": "https://localhost:8080/"
        },
        "id": "yTI6FgaMZlnN",
        "outputId": "12539628-2524-4b7d-c61d-4e7f73d276d3"
      },
      "source": [
        "#import tensorflow\n",
        "import tensorflow as tf\n",
        "print(tf.__version__)"
      ],
      "execution_count": 1,
      "outputs": [
        {
          "output_type": "stream",
          "text": [
            "2.5.0\n"
          ],
          "name": "stdout"
        }
      ]
    },
    {
      "cell_type": "code",
      "metadata": {
        "colab": {
          "base_uri": "https://localhost:8080/"
        },
        "id": "xuFD14VEZ1FI",
        "outputId": "917ff32e-c80e-4b48-a47f-27e4104b9a7b"
      },
      "source": [
        "#create tensors with tf.constant\n",
        "scalar = tf.constant(7)\n",
        "scalar"
      ],
      "execution_count": 2,
      "outputs": [
        {
          "output_type": "execute_result",
          "data": {
            "text/plain": [
              "<tf.Tensor: shape=(), dtype=int32, numpy=7>"
            ]
          },
          "metadata": {
            "tags": []
          },
          "execution_count": 2
        }
      ]
    },
    {
      "cell_type": "code",
      "metadata": {
        "colab": {
          "base_uri": "https://localhost:8080/"
        },
        "id": "cF3BXgh0bmNi",
        "outputId": "db7662f1-c8f7-402d-dee2-a3b85b4f18e6"
      },
      "source": [
        "# Constant 1-D Tensor from a python list.\n",
        "tensor=tf.constant([1, 2, 3, 4, 5, 6])\n",
        "tensor"
      ],
      "execution_count": 3,
      "outputs": [
        {
          "output_type": "execute_result",
          "data": {
            "text/plain": [
              "<tf.Tensor: shape=(6,), dtype=int32, numpy=array([1, 2, 3, 4, 5, 6], dtype=int32)>"
            ]
          },
          "metadata": {
            "tags": []
          },
          "execution_count": 3
        }
      ]
    },
    {
      "cell_type": "code",
      "metadata": {
        "colab": {
          "base_uri": "https://localhost:8080/"
        },
        "id": "KqqdpKUVgJU7",
        "outputId": "6f41ee4f-fc79-4bbf-c2d5-00d7ca6707a4"
      },
      "source": [
        "# Or a numpy array\n",
        "import numpy as np\n",
        "a = np.array([[1, 2, 3], [4, 5, 6]])\n",
        "tf.constant(a)"
      ],
      "execution_count": 4,
      "outputs": [
        {
          "output_type": "execute_result",
          "data": {
            "text/plain": [
              "<tf.Tensor: shape=(2, 3), dtype=int64, numpy=\n",
              "array([[1, 2, 3],\n",
              "       [4, 5, 6]])>"
            ]
          },
          "metadata": {
            "tags": []
          },
          "execution_count": 4
        }
      ]
    },
    {
      "cell_type": "code",
      "metadata": {
        "colab": {
          "base_uri": "https://localhost:8080/"
        },
        "id": "i1pf_aT5gUr5",
        "outputId": "44141d80-16d8-4273-db28-091206d90633"
      },
      "source": [
        "#If dtype is specified, the resulting tensor values are cast to the requested dtype.\n",
        "tf.constant([1, 2, 3, 4, 5, 6], dtype=tf.float64)"
      ],
      "execution_count": 5,
      "outputs": [
        {
          "output_type": "execute_result",
          "data": {
            "text/plain": [
              "<tf.Tensor: shape=(6,), dtype=float64, numpy=array([1., 2., 3., 4., 5., 6.])>"
            ]
          },
          "metadata": {
            "tags": []
          },
          "execution_count": 5
        }
      ]
    },
    {
      "cell_type": "code",
      "metadata": {
        "colab": {
          "base_uri": "https://localhost:8080/"
        },
        "id": "gpIoeLntgjao",
        "outputId": "f955a95d-b023-4d48-8fef-ddc8fa503f53"
      },
      "source": [
        "#If shape is set, the value is reshaped to match. Scalars are expanded to fill the shape:\n",
        "tf.constant(0, shape=(2, 3))"
      ],
      "execution_count": 6,
      "outputs": [
        {
          "output_type": "execute_result",
          "data": {
            "text/plain": [
              "<tf.Tensor: shape=(2, 3), dtype=int32, numpy=\n",
              "array([[0, 0, 0],\n",
              "       [0, 0, 0]], dtype=int32)>"
            ]
          },
          "metadata": {
            "tags": []
          },
          "execution_count": 6
        }
      ]
    },
    {
      "cell_type": "code",
      "metadata": {
        "colab": {
          "base_uri": "https://localhost:8080/"
        },
        "id": "h7VVECQdgyBt",
        "outputId": "fc57bb22-5e40-48b2-d386-a1994ae98cce"
      },
      "source": [
        "tf.constant([1, 2, 3, 4, 5, 6], shape=[2, 3])"
      ],
      "execution_count": 7,
      "outputs": [
        {
          "output_type": "execute_result",
          "data": {
            "text/plain": [
              "<tf.Tensor: shape=(2, 3), dtype=int32, numpy=\n",
              "array([[1, 2, 3],\n",
              "       [4, 5, 6]], dtype=int32)>"
            ]
          },
          "metadata": {
            "tags": []
          },
          "execution_count": 7
        }
      ]
    },
    {
      "cell_type": "code",
      "metadata": {
        "colab": {
          "base_uri": "https://localhost:8080/"
        },
        "id": "-YiKS4rZg7Y9",
        "outputId": "2c52a242-ca18-41be-b1bc-82a24b406ead"
      },
      "source": [
        "#tf.constant  has no effect if an eager Tensor is passed as the value, it even transmits gradients:\n",
        "v = tf.Variable([0.0])\n",
        "with tf.GradientTape() as g:\n",
        "    loss = tf.constant(v + v)\n",
        "g.gradient(loss, v).numpy()"
      ],
      "execution_count": 8,
      "outputs": [
        {
          "output_type": "execute_result",
          "data": {
            "text/plain": [
              "array([2.], dtype=float32)"
            ]
          },
          "metadata": {
            "tags": []
          },
          "execution_count": 8
        }
      ]
    },
    {
      "cell_type": "code",
      "metadata": {
        "colab": {
          "base_uri": "https://localhost:8080/",
          "height": 485
        },
        "id": "PH88zj-2haRy",
        "outputId": "7c547a58-7944-4ca9-c8ea-12dbf3d20ef9"
      },
      "source": [
        "#But, since tf.constant embeds the value in the tf.Graph this fails for symbolic tensors:\n",
        "with tf.compat.v1.Graph().as_default():\n",
        "  i = tf.compat.v1.placeholder(shape=[None, None], dtype=tf.float32)\n",
        "  t = tf.constant(i)\n",
        "\n",
        "\n"
      ],
      "execution_count": 9,
      "outputs": [
        {
          "output_type": "error",
          "ename": "TypeError",
          "evalue": "ignored",
          "traceback": [
            "\u001b[0;31m---------------------------------------------------------------------------\u001b[0m",
            "\u001b[0;31mValueError\u001b[0m                                Traceback (most recent call last)",
            "\u001b[0;32m/usr/local/lib/python3.7/dist-packages/tensorflow/python/framework/tensor_util.py\u001b[0m in \u001b[0;36m_AssertCompatible\u001b[0;34m(values, dtype)\u001b[0m\n\u001b[1;32m    329\u001b[0m   \u001b[0;32mtry\u001b[0m\u001b[0;34m:\u001b[0m\u001b[0;34m\u001b[0m\u001b[0;34m\u001b[0m\u001b[0m\n\u001b[0;32m--> 330\u001b[0;31m     \u001b[0mfn\u001b[0m\u001b[0;34m(\u001b[0m\u001b[0mvalues\u001b[0m\u001b[0;34m)\u001b[0m\u001b[0;34m\u001b[0m\u001b[0;34m\u001b[0m\u001b[0m\n\u001b[0m\u001b[1;32m    331\u001b[0m   \u001b[0;32mexcept\u001b[0m \u001b[0mValueError\u001b[0m \u001b[0;32mas\u001b[0m \u001b[0me\u001b[0m\u001b[0;34m:\u001b[0m\u001b[0;34m\u001b[0m\u001b[0;34m\u001b[0m\u001b[0m\n",
            "\u001b[0;32m/usr/local/lib/python3.7/dist-packages/tensorflow/python/framework/tensor_util.py\u001b[0m in \u001b[0;36m_check_not_tensor\u001b[0;34m(values)\u001b[0m\n\u001b[1;32m    281\u001b[0m \u001b[0;32mdef\u001b[0m \u001b[0m_check_not_tensor\u001b[0m\u001b[0;34m(\u001b[0m\u001b[0mvalues\u001b[0m\u001b[0;34m)\u001b[0m\u001b[0;34m:\u001b[0m\u001b[0;34m\u001b[0m\u001b[0;34m\u001b[0m\u001b[0m\n\u001b[0;32m--> 282\u001b[0;31m   _ = [_check_failed(v) for v in nest.flatten(values)\n\u001b[0m\u001b[1;32m    283\u001b[0m        if isinstance(v, ops.Tensor)]\n",
            "\u001b[0;32m/usr/local/lib/python3.7/dist-packages/tensorflow/python/framework/tensor_util.py\u001b[0m in \u001b[0;36m<listcomp>\u001b[0;34m(.0)\u001b[0m\n\u001b[1;32m    282\u001b[0m   _ = [_check_failed(v) for v in nest.flatten(values)\n\u001b[0;32m--> 283\u001b[0;31m        if isinstance(v, ops.Tensor)]\n\u001b[0m\u001b[1;32m    284\u001b[0m \u001b[0;31m# pylint: enable=invalid-name\u001b[0m\u001b[0;34m\u001b[0m\u001b[0;34m\u001b[0m\u001b[0;34m\u001b[0m\u001b[0m\n",
            "\u001b[0;32m/usr/local/lib/python3.7/dist-packages/tensorflow/python/framework/tensor_util.py\u001b[0m in \u001b[0;36m_check_failed\u001b[0;34m(v)\u001b[0m\n\u001b[1;32m    249\u001b[0m   \u001b[0;31m# it is safe to use here.\u001b[0m\u001b[0;34m\u001b[0m\u001b[0;34m\u001b[0m\u001b[0;34m\u001b[0m\u001b[0m\n\u001b[0;32m--> 250\u001b[0;31m   \u001b[0;32mraise\u001b[0m \u001b[0mValueError\u001b[0m\u001b[0;34m(\u001b[0m\u001b[0mv\u001b[0m\u001b[0;34m)\u001b[0m\u001b[0;34m\u001b[0m\u001b[0;34m\u001b[0m\u001b[0m\n\u001b[0m\u001b[1;32m    251\u001b[0m \u001b[0;34m\u001b[0m\u001b[0m\n",
            "\u001b[0;31mValueError\u001b[0m: Tensor(\"Placeholder:0\", shape=(None, None), dtype=float32)",
            "\nDuring handling of the above exception, another exception occurred:\n",
            "\u001b[0;31mTypeError\u001b[0m                                 Traceback (most recent call last)",
            "\u001b[0;32m<ipython-input-9-a29331587713>\u001b[0m in \u001b[0;36m<module>\u001b[0;34m()\u001b[0m\n\u001b[1;32m      2\u001b[0m \u001b[0;32mwith\u001b[0m \u001b[0mtf\u001b[0m\u001b[0;34m.\u001b[0m\u001b[0mcompat\u001b[0m\u001b[0;34m.\u001b[0m\u001b[0mv1\u001b[0m\u001b[0;34m.\u001b[0m\u001b[0mGraph\u001b[0m\u001b[0;34m(\u001b[0m\u001b[0;34m)\u001b[0m\u001b[0;34m.\u001b[0m\u001b[0mas_default\u001b[0m\u001b[0;34m(\u001b[0m\u001b[0;34m)\u001b[0m\u001b[0;34m:\u001b[0m\u001b[0;34m\u001b[0m\u001b[0;34m\u001b[0m\u001b[0m\n\u001b[1;32m      3\u001b[0m   \u001b[0mi\u001b[0m \u001b[0;34m=\u001b[0m \u001b[0mtf\u001b[0m\u001b[0;34m.\u001b[0m\u001b[0mcompat\u001b[0m\u001b[0;34m.\u001b[0m\u001b[0mv1\u001b[0m\u001b[0;34m.\u001b[0m\u001b[0mplaceholder\u001b[0m\u001b[0;34m(\u001b[0m\u001b[0mshape\u001b[0m\u001b[0;34m=\u001b[0m\u001b[0;34m[\u001b[0m\u001b[0;32mNone\u001b[0m\u001b[0;34m,\u001b[0m \u001b[0;32mNone\u001b[0m\u001b[0;34m]\u001b[0m\u001b[0;34m,\u001b[0m \u001b[0mdtype\u001b[0m\u001b[0;34m=\u001b[0m\u001b[0mtf\u001b[0m\u001b[0;34m.\u001b[0m\u001b[0mfloat32\u001b[0m\u001b[0;34m)\u001b[0m\u001b[0;34m\u001b[0m\u001b[0;34m\u001b[0m\u001b[0m\n\u001b[0;32m----> 4\u001b[0;31m   \u001b[0mt\u001b[0m \u001b[0;34m=\u001b[0m \u001b[0mtf\u001b[0m\u001b[0;34m.\u001b[0m\u001b[0mconstant\u001b[0m\u001b[0;34m(\u001b[0m\u001b[0mi\u001b[0m\u001b[0;34m)\u001b[0m\u001b[0;34m\u001b[0m\u001b[0;34m\u001b[0m\u001b[0m\n\u001b[0m\u001b[1;32m      5\u001b[0m \u001b[0;34m\u001b[0m\u001b[0m\n\u001b[1;32m      6\u001b[0m \u001b[0;34m\u001b[0m\u001b[0m\n",
            "\u001b[0;32m/usr/local/lib/python3.7/dist-packages/tensorflow/python/framework/constant_op.py\u001b[0m in \u001b[0;36mconstant\u001b[0;34m(value, dtype, shape, name)\u001b[0m\n\u001b[1;32m    263\u001b[0m   \"\"\"\n\u001b[1;32m    264\u001b[0m   return _constant_impl(value, dtype, shape, name, verify_shape=False,\n\u001b[0;32m--> 265\u001b[0;31m                         allow_broadcast=True)\n\u001b[0m\u001b[1;32m    266\u001b[0m \u001b[0;34m\u001b[0m\u001b[0m\n\u001b[1;32m    267\u001b[0m \u001b[0;34m\u001b[0m\u001b[0m\n",
            "\u001b[0;32m/usr/local/lib/python3.7/dist-packages/tensorflow/python/framework/constant_op.py\u001b[0m in \u001b[0;36m_constant_impl\u001b[0;34m(value, dtype, shape, name, verify_shape, allow_broadcast)\u001b[0m\n\u001b[1;32m    281\u001b[0m       tensor_util.make_tensor_proto(\n\u001b[1;32m    282\u001b[0m           \u001b[0mvalue\u001b[0m\u001b[0;34m,\u001b[0m \u001b[0mdtype\u001b[0m\u001b[0;34m=\u001b[0m\u001b[0mdtype\u001b[0m\u001b[0;34m,\u001b[0m \u001b[0mshape\u001b[0m\u001b[0;34m=\u001b[0m\u001b[0mshape\u001b[0m\u001b[0;34m,\u001b[0m \u001b[0mverify_shape\u001b[0m\u001b[0;34m=\u001b[0m\u001b[0mverify_shape\u001b[0m\u001b[0;34m,\u001b[0m\u001b[0;34m\u001b[0m\u001b[0;34m\u001b[0m\u001b[0m\n\u001b[0;32m--> 283\u001b[0;31m           allow_broadcast=allow_broadcast))\n\u001b[0m\u001b[1;32m    284\u001b[0m   \u001b[0mdtype_value\u001b[0m \u001b[0;34m=\u001b[0m \u001b[0mattr_value_pb2\u001b[0m\u001b[0;34m.\u001b[0m\u001b[0mAttrValue\u001b[0m\u001b[0;34m(\u001b[0m\u001b[0mtype\u001b[0m\u001b[0;34m=\u001b[0m\u001b[0mtensor_value\u001b[0m\u001b[0;34m.\u001b[0m\u001b[0mtensor\u001b[0m\u001b[0;34m.\u001b[0m\u001b[0mdtype\u001b[0m\u001b[0;34m)\u001b[0m\u001b[0;34m\u001b[0m\u001b[0;34m\u001b[0m\u001b[0m\n\u001b[1;32m    285\u001b[0m   \u001b[0mattrs\u001b[0m \u001b[0;34m=\u001b[0m \u001b[0;34m{\u001b[0m\u001b[0;34m\"value\"\u001b[0m\u001b[0;34m:\u001b[0m \u001b[0mtensor_value\u001b[0m\u001b[0;34m,\u001b[0m \u001b[0;34m\"dtype\"\u001b[0m\u001b[0;34m:\u001b[0m \u001b[0mdtype_value\u001b[0m\u001b[0;34m}\u001b[0m\u001b[0;34m\u001b[0m\u001b[0;34m\u001b[0m\u001b[0m\n",
            "\u001b[0;32m/usr/local/lib/python3.7/dist-packages/tensorflow/python/framework/tensor_util.py\u001b[0m in \u001b[0;36mmake_tensor_proto\u001b[0;34m(values, dtype, shape, verify_shape, allow_broadcast)\u001b[0m\n\u001b[1;32m    455\u001b[0m       \u001b[0mnparray\u001b[0m \u001b[0;34m=\u001b[0m \u001b[0mnp\u001b[0m\u001b[0;34m.\u001b[0m\u001b[0mempty\u001b[0m\u001b[0;34m(\u001b[0m\u001b[0mshape\u001b[0m\u001b[0;34m,\u001b[0m \u001b[0mdtype\u001b[0m\u001b[0;34m=\u001b[0m\u001b[0mnp_dt\u001b[0m\u001b[0;34m)\u001b[0m\u001b[0;34m\u001b[0m\u001b[0;34m\u001b[0m\u001b[0m\n\u001b[1;32m    456\u001b[0m     \u001b[0;32melse\u001b[0m\u001b[0;34m:\u001b[0m\u001b[0;34m\u001b[0m\u001b[0;34m\u001b[0m\u001b[0m\n\u001b[0;32m--> 457\u001b[0;31m       \u001b[0m_AssertCompatible\u001b[0m\u001b[0;34m(\u001b[0m\u001b[0mvalues\u001b[0m\u001b[0;34m,\u001b[0m \u001b[0mdtype\u001b[0m\u001b[0;34m)\u001b[0m\u001b[0;34m\u001b[0m\u001b[0;34m\u001b[0m\u001b[0m\n\u001b[0m\u001b[1;32m    458\u001b[0m       \u001b[0mnparray\u001b[0m \u001b[0;34m=\u001b[0m \u001b[0mnp\u001b[0m\u001b[0;34m.\u001b[0m\u001b[0marray\u001b[0m\u001b[0;34m(\u001b[0m\u001b[0mvalues\u001b[0m\u001b[0;34m,\u001b[0m \u001b[0mdtype\u001b[0m\u001b[0;34m=\u001b[0m\u001b[0mnp_dt\u001b[0m\u001b[0;34m)\u001b[0m\u001b[0;34m\u001b[0m\u001b[0;34m\u001b[0m\u001b[0m\n\u001b[1;32m    459\u001b[0m       \u001b[0;31m# check to them.\u001b[0m\u001b[0;34m\u001b[0m\u001b[0;34m\u001b[0m\u001b[0;34m\u001b[0m\u001b[0m\n",
            "\u001b[0;32m/usr/local/lib/python3.7/dist-packages/tensorflow/python/framework/tensor_util.py\u001b[0m in \u001b[0;36m_AssertCompatible\u001b[0;34m(values, dtype)\u001b[0m\n\u001b[1;32m    332\u001b[0m     \u001b[0;34m[\u001b[0m\u001b[0mmismatch\u001b[0m\u001b[0;34m]\u001b[0m \u001b[0;34m=\u001b[0m \u001b[0me\u001b[0m\u001b[0;34m.\u001b[0m\u001b[0margs\u001b[0m\u001b[0;34m\u001b[0m\u001b[0;34m\u001b[0m\u001b[0m\n\u001b[1;32m    333\u001b[0m     \u001b[0;32mif\u001b[0m \u001b[0mdtype\u001b[0m \u001b[0;32mis\u001b[0m \u001b[0;32mNone\u001b[0m\u001b[0;34m:\u001b[0m\u001b[0;34m\u001b[0m\u001b[0;34m\u001b[0m\u001b[0m\n\u001b[0;32m--> 334\u001b[0;31m       \u001b[0;32mraise\u001b[0m \u001b[0mTypeError\u001b[0m\u001b[0;34m(\u001b[0m\u001b[0;34m\"Expected any non-tensor type, got a tensor instead.\"\u001b[0m\u001b[0;34m)\u001b[0m\u001b[0;34m\u001b[0m\u001b[0;34m\u001b[0m\u001b[0m\n\u001b[0m\u001b[1;32m    335\u001b[0m     \u001b[0;32melse\u001b[0m\u001b[0;34m:\u001b[0m\u001b[0;34m\u001b[0m\u001b[0;34m\u001b[0m\u001b[0m\n\u001b[1;32m    336\u001b[0m       raise TypeError(\"Expected %s, got %s of type '%s' instead.\" %\n",
            "\u001b[0;31mTypeError\u001b[0m: Expected any non-tensor type, got a tensor instead."
          ]
        }
      ]
    },
    {
      "cell_type": "markdown",
      "metadata": {
        "id": "4GATJdRAhoTz"
      },
      "source": [
        "* tf.constant will always create CPU (host) tensors. In order to create tensors on other devices, \n",
        "* use tf.identity. (If the value is an eager Tensor, however, the tensor will be returned unmodified as mentioned above.)"
      ]
    },
    {
      "cell_type": "code",
      "metadata": {
        "id": "0sPAx3xYh9jp"
      },
      "source": [
        "#Check the number of dimensions of a tensor (ndim stands for number of dimensions)\n",
        "scalar.ndim"
      ],
      "execution_count": null,
      "outputs": []
    },
    {
      "cell_type": "code",
      "metadata": {
        "id": "ysMm6jyOifDu"
      },
      "source": [
        "#Create a vector\n",
        "vector = tf.constant([10,10])\n",
        "vector"
      ],
      "execution_count": null,
      "outputs": []
    },
    {
      "cell_type": "code",
      "metadata": {
        "id": "xYbKrSoyjizu"
      },
      "source": [
        "#check the dimension of a vector\n",
        "vector.ndim"
      ],
      "execution_count": null,
      "outputs": []
    },
    {
      "cell_type": "code",
      "metadata": {
        "id": "2-plhZaDjo6w"
      },
      "source": [
        "#create a matrix (has more than 1 dimension)\n",
        "matrix = tf.constant([[10,7],\n",
        "                      [7,10]])\n",
        "matrix"
      ],
      "execution_count": null,
      "outputs": []
    },
    {
      "cell_type": "code",
      "metadata": {
        "id": "a4VYahlIkQmv"
      },
      "source": [
        "matrix.ndim"
      ],
      "execution_count": null,
      "outputs": []
    },
    {
      "cell_type": "code",
      "metadata": {
        "id": "WGwiKUkUlvRh"
      },
      "source": [
        "#Create another matrix\n",
        "another_matrix = tf.constant([[10.,7.],\n",
        "                              [7.,10.],\n",
        "                              [9.,8.]],dtype = tf.float16)#specify the data type with the dtype parameter\n",
        "another_matrix"
      ],
      "execution_count": null,
      "outputs": []
    },
    {
      "cell_type": "code",
      "metadata": {
        "id": "NwPWuq2cnKBX"
      },
      "source": [
        "another_matrix.ndim"
      ],
      "execution_count": null,
      "outputs": []
    },
    {
      "cell_type": "code",
      "metadata": {
        "id": "XNxaDsj8oDed"
      },
      "source": [
        "#let's create a Tensor\n",
        "tensor = tf.constant([[[1,2,3],\n",
        "                       [2,3,4]],\n",
        "                      [[5,6,7],\n",
        "                       [9,8,7]],\n",
        "                      [[4,5,6],\n",
        "                       [9,8,7]]\n",
        "                        \n",
        "])\n",
        "tensor"
      ],
      "execution_count": null,
      "outputs": []
    },
    {
      "cell_type": "code",
      "metadata": {
        "id": "3-3B88S-qcXE"
      },
      "source": [
        "tensor.ndim"
      ],
      "execution_count": null,
      "outputs": []
    },
    {
      "cell_type": "markdown",
      "metadata": {
        "id": "2VP3rbrPrw7x"
      },
      "source": [
        "What we've created so far:\n",
        "\n",
        "* Scalar: a single number\n",
        "* Vector: a number with direction (e.g wind speed and direction)\n",
        "* Matrix: a 2-dimesional array of numbers\n",
        "* Tensor: an n-dimensional a array of numbers(n can be any number)"
      ]
    },
    {
      "cell_type": "markdown",
      "metadata": {
        "id": "gvguHOAs8op6"
      },
      "source": [
        "### Creating  tensors with `tf.variable`"
      ]
    },
    {
      "cell_type": "code",
      "metadata": {
        "id": "0PKYrzdG8yIu"
      },
      "source": [
        "# Create  same tensor with tf.variable as above\n",
        "changeable_tensor = tf.Variable([10,7])\n",
        "unchangeable_tensor = tf.constant([10,7])\n",
        "changeable_tensor,unchangeable_tensor"
      ],
      "execution_count": null,
      "outputs": []
    },
    {
      "cell_type": "code",
      "metadata": {
        "id": "On9oV7Kk_iCJ"
      },
      "source": [
        "## Let's try change one of the elements in our changeable tensor\n",
        "changeable_tensor[0]"
      ],
      "execution_count": null,
      "outputs": []
    },
    {
      "cell_type": "code",
      "metadata": {
        "id": "txurGomeAnNB"
      },
      "source": [
        "changeable_tensor[0] = 7\n",
        "changeable_tensor"
      ],
      "execution_count": null,
      "outputs": []
    },
    {
      "cell_type": "code",
      "metadata": {
        "id": "3tBpRpQgBogp"
      },
      "source": [
        "## How about we try .assign()\n",
        "changeable_tensor[0].assign(7)"
      ],
      "execution_count": null,
      "outputs": []
    },
    {
      "cell_type": "code",
      "metadata": {
        "id": "W2FyaaZ6B2Z6"
      },
      "source": [
        "## Let's try chanfe our unchangeable tensor\n",
        "unchangeable_tensor[0].assign(7)\n",
        "unchangeable_tensor"
      ],
      "execution_count": null,
      "outputs": []
    },
    {
      "cell_type": "markdown",
      "metadata": {
        "id": "JzG-4tOXEaGO"
      },
      "source": [
        "### Creating Random Tensors\n",
        "Random Tensors are tensors of some arbitrary size which contain random numbers"
      ]
    },
    {
      "cell_type": "code",
      "metadata": {
        "id": "209ym2bzI9ZV"
      },
      "source": [
        "## Create two random (but the same )  tensors \n",
        "random_1 = tf.random.Generator.from_seed(42) # set seef for reproducibilty\n",
        "random_1 = random_1.normal(shape = (3,2))\n",
        "random_2 = tf.random.Generator.from_seed(42)\n",
        "random_2 = random_2.normal(shape = (3,2))\n",
        "\n",
        "## Are they equal?\n",
        "random_1,random_2, random_1==random_2"
      ],
      "execution_count": null,
      "outputs": []
    },
    {
      "cell_type": "markdown",
      "metadata": {
        "id": "CczNN2F9NRJs"
      },
      "source": [
        "### Shuffling the order of elements in a tensor"
      ]
    },
    {
      "cell_type": "code",
      "metadata": {
        "id": "fVt2dmHeVsP_"
      },
      "source": [
        "### Shuffle a tensor ( valuable for when you want to shuffle your data  so the inherent order doesn't effect learning)\n",
        "not_shuffled = tf.constant([[10,7],\n",
        "                            [3,4],\n",
        "                            [4,5]])\n",
        "### Shuffle our not_shuffled tensor\n",
        "tf.random.shuffle(not_shuffled)\n"
      ],
      "execution_count": null,
      "outputs": []
    },
    {
      "cell_type": "code",
      "metadata": {
        "id": "wlnMeetbalbs"
      },
      "source": [
        "tf.random.set_seed(42)#doesn't change => global level seed\n",
        "tf.random.shuffle(not_shuffled,seed =42)## change operation level seed"
      ],
      "execution_count": null,
      "outputs": []
    },
    {
      "cell_type": "code",
      "metadata": {
        "id": "cACZ9HKfXY_U"
      },
      "source": [
        "not_shuffled"
      ],
      "execution_count": null,
      "outputs": []
    },
    {
      "cell_type": "markdown",
      "metadata": {
        "id": "JGZ1ijg4Y35N"
      },
      "source": [
        "### Other ways to create tensors"
      ]
    },
    {
      "cell_type": "code",
      "metadata": {
        "id": "O3HY2Dxg5slB"
      },
      "source": [
        "### Create a tensor of all ones\n",
        "tf.ones([10,7])"
      ],
      "execution_count": null,
      "outputs": []
    },
    {
      "cell_type": "code",
      "metadata": {
        "id": "famdp1iw5yFq"
      },
      "source": [
        "### Create a tensor of all zeros\n",
        "tf.zeros(shape=(3,4))"
      ],
      "execution_count": null,
      "outputs": []
    },
    {
      "cell_type": "markdown",
      "metadata": {
        "id": "Ftgj_Twz6zUs"
      },
      "source": [
        "### Turn Numpy arrays into tensors\n",
        "The main difference between NumPy arrays and Tensorflow tensors is that tensors can be run on a GPU(much faster than numerical computing) Otherwise They are very similar"
      ]
    },
    {
      "cell_type": "code",
      "metadata": {
        "id": "lq1Na_0x6Xxh"
      },
      "source": [
        "### You can also turn NumPy arrays into tensors\n",
        "import numpy as np\n",
        "numpy_A = np.arange(1,25,dtype =np.int32)\n",
        "numpy_A\n",
        "\n",
        "\n",
        "#X = tf.constant(some_matrix) #capital for matrix or tensor\n",
        "#y = tf.constant(vector) #non-capital for vector\n"
      ],
      "execution_count": null,
      "outputs": []
    },
    {
      "cell_type": "code",
      "metadata": {
        "id": "XaodfQq98W2_"
      },
      "source": [
        "A = tf.constant(numpy_A)\n",
        "A"
      ],
      "execution_count": null,
      "outputs": []
    },
    {
      "cell_type": "code",
      "metadata": {
        "id": "vJy8THaT8ri6"
      },
      "source": [
        "A = tf.constant(numpy_A,shape=(2,3,4))\n",
        "A\n"
      ],
      "execution_count": null,
      "outputs": []
    },
    {
      "cell_type": "code",
      "metadata": {
        "id": "OO08zFeH-qM6"
      },
      "source": [
        "2*3*4##that is why we use 2,3,4"
      ],
      "execution_count": null,
      "outputs": []
    },
    {
      "cell_type": "markdown",
      "metadata": {
        "id": "ciaI6-4e_CG2"
      },
      "source": [
        "### Getting information from our tensors\n",
        "When dealing with tensors you probably want to be aware of the following attributes:\n",
        "* Shape\n",
        "* Rank\n",
        "* Axis or dimension\n",
        "* Size"
      ]
    },
    {
      "cell_type": "code",
      "metadata": {
        "id": "9QHJoWL7_bCq"
      },
      "source": [
        "### Create a  rank 4 tensor(4 dimensions)\n",
        "rank4_tensors = tf.zeros(shape=(2,3,4,5))\n",
        "rank4_tensors"
      ],
      "execution_count": null,
      "outputs": []
    },
    {
      "cell_type": "code",
      "metadata": {
        "id": "uVVG9YSlNFCV"
      },
      "source": [
        "rank4_tensors[0]"
      ],
      "execution_count": null,
      "outputs": []
    },
    {
      "cell_type": "code",
      "metadata": {
        "id": "v05JAs09NdFL"
      },
      "source": [
        "rank4_tensors.shape,rank4_tensors.ndim,tf.size(rank4_tensors)"
      ],
      "execution_count": null,
      "outputs": []
    },
    {
      "cell_type": "code",
      "metadata": {
        "id": "CId-rXbzOAH7"
      },
      "source": [
        "## Get various attributes of our tensors\n",
        "print(\"Datatype of every elemet: \",rank4_tensors.dtype)\n",
        "print(\"Number of dimension(rank): \",rank4_tensors.ndim)\n",
        "print(\"Shape of tensor: \",rank4_tensors.shape)\n",
        "print(\"Elements along the 0 axis: \",rank4_tensors.shape[0])\n",
        "print(\"Elements along the last axis: \",rank4_tensors.shape[-1])\n",
        "print(\"Total number of element in our tensor: \",tf.size(rank4_tensors))\n",
        "print(\"Total number of element in our tensor: \",tf.size(rank4_tensors).numpy())"
      ],
      "execution_count": null,
      "outputs": []
    },
    {
      "cell_type": "markdown",
      "metadata": {
        "id": "HbBVUgc9Phvq"
      },
      "source": [
        "### Indexing Tensors\n",
        "Tensors can be indexed just like Python lists"
      ]
    },
    {
      "cell_type": "code",
      "metadata": {
        "id": "VYuA4cSFVUjJ"
      },
      "source": [
        "### Get first 2 elements of each dimenions\n",
        "rank4_tensors[:2,:2,:2,:2]"
      ],
      "execution_count": null,
      "outputs": []
    },
    {
      "cell_type": "code",
      "metadata": {
        "id": "VZMuVlRpVkEa"
      },
      "source": [
        "# Get the first element each dimension from each index except for final one\n",
        "rank4_tensors[:1,:1,:1,:]"
      ],
      "execution_count": null,
      "outputs": []
    },
    {
      "cell_type": "code",
      "metadata": {
        "id": "jaKOlr8sZw3J"
      },
      "source": [
        "rank4_tensors[:1,:,:1,:1]"
      ],
      "execution_count": null,
      "outputs": []
    },
    {
      "cell_type": "code",
      "metadata": {
        "id": "1BWEAhFsZ09g"
      },
      "source": [
        "## Create a rank 2 tensor (2 dimesion)\n",
        "rank4_tensors = tf.reshape(rank4_tensors,shape=(30,4))\n",
        "rank4_tensors"
      ],
      "execution_count": null,
      "outputs": []
    },
    {
      "cell_type": "code",
      "metadata": {
        "id": "ov2M3lQraUWw"
      },
      "source": [
        "## Get a rank 2 tensor(2 dimension)\n",
        "rank2_tesnors = tf.constant([[10,7],\n",
        "                             [7,10]])\n",
        "rank2_tesnors.shape, rank2_tesnors.ndim"
      ],
      "execution_count": null,
      "outputs": []
    },
    {
      "cell_type": "code",
      "metadata": {
        "id": "jRw7hA90bOES"
      },
      "source": [
        "## Get the last item of each of row of our rank 2 tensor\n",
        "rank2_tesnors[0][-1],rank2_tesnors[1][-1]##instead"
      ],
      "execution_count": null,
      "outputs": []
    },
    {
      "cell_type": "code",
      "metadata": {
        "id": "Mzar-XO8bsNK"
      },
      "source": [
        "##instead\n",
        "rank2_tesnors[:,-1]"
      ],
      "execution_count": null,
      "outputs": []
    },
    {
      "cell_type": "code",
      "metadata": {
        "id": "aCOysbDjcUbR"
      },
      "source": [
        "## Add in extra dimension to our rank 2 tensor\n",
        "rank3_tensor = rank2_tesnors[...,tf.newaxis]\n",
        "rank3_tensor"
      ],
      "execution_count": null,
      "outputs": []
    },
    {
      "cell_type": "code",
      "metadata": {
        "id": "vQaoDfCxdHWu"
      },
      "source": [
        "# Alternative to tf.newaxis\n",
        "tf.expand_dims(rank2_tesnors,axis=-1)#axis = -1 means expand the final axis"
      ],
      "execution_count": null,
      "outputs": []
    },
    {
      "cell_type": "code",
      "metadata": {
        "id": "21eXw8aEfeSg"
      },
      "source": [
        "tf.expand_dims(rank2_tesnors,axis=0)"
      ],
      "execution_count": null,
      "outputs": []
    },
    {
      "cell_type": "markdown",
      "metadata": {
        "id": "Gd9OlLxvfkQ1"
      },
      "source": [
        "### Manipulating tensors (tensor operations)\n",
        "**Basic operation**\n",
        "\n",
        "`+`,`-`,`*`,`/`"
      ]
    },
    {
      "cell_type": "code",
      "metadata": {
        "id": "qCqCvrlJzpq7"
      },
      "source": [
        "## You can also add values a tensor using addition operaation\n",
        "tensor = tf.constant([[10,7],[3,4]])\n",
        "tensor + 10\n"
      ],
      "execution_count": null,
      "outputs": []
    },
    {
      "cell_type": "code",
      "metadata": {
        "id": "ETzYnvMD17dZ"
      },
      "source": [
        "#Original tensor is unchanged\n",
        "tensor"
      ],
      "execution_count": null,
      "outputs": []
    },
    {
      "cell_type": "code",
      "metadata": {
        "id": "0XcV-X7m2VQN"
      },
      "source": [
        "tensor = tensor +10\n",
        "tensor"
      ],
      "execution_count": null,
      "outputs": []
    },
    {
      "cell_type": "code",
      "metadata": {
        "id": "JEciawTP2iuA"
      },
      "source": [
        "#Multiplication also works\n",
        "tensor*10"
      ],
      "execution_count": null,
      "outputs": []
    },
    {
      "cell_type": "code",
      "metadata": {
        "id": "srD4RQfT2svv"
      },
      "source": [
        "#Substraction if you want\n",
        "tensor -20"
      ],
      "execution_count": null,
      "outputs": []
    },
    {
      "cell_type": "code",
      "metadata": {
        "id": "XwYiwuqA22qB"
      },
      "source": [
        "#We can use tensorflow built-in functions too\n",
        "tf.multiply(tensor,10)"
      ],
      "execution_count": null,
      "outputs": []
    },
    {
      "cell_type": "markdown",
      "metadata": {
        "id": "Qc-uOu-d3RqW"
      },
      "source": [
        "**Matrix Multiplication**\n",
        "\n",
        "In machine learning, matrix multiplication is one of the most common tensor operation\n",
        "\n",
        "There are two rules our tensors (or matrices) to fulfill if we're going to matrix lutiply them\n",
        "> The inner dimensions must match\n",
        "\n",
        "> The resulting matrix has shape of the outer dimensions"
      ]
    },
    {
      "cell_type": "code",
      "metadata": {
        "id": "VJghybZg36Xw"
      },
      "source": [
        "##Matrix multiplication in tensorflow\n",
        "print(tensor)\n",
        "tf.matmul(tensor,tensor)"
      ],
      "execution_count": null,
      "outputs": []
    },
    {
      "cell_type": "code",
      "metadata": {
        "id": "auT6SdWl7SfL"
      },
      "source": [
        "tensor*tensor#because of elemet wise operation"
      ],
      "execution_count": null,
      "outputs": []
    },
    {
      "cell_type": "code",
      "metadata": {
        "id": "wwPki-sl81fd"
      },
      "source": [
        "#Matrix multiplication with Python operator '@'\n",
        "tensor @tensor"
      ],
      "execution_count": null,
      "outputs": []
    },
    {
      "cell_type": "code",
      "metadata": {
        "id": "-uQff_pV95Bz"
      },
      "source": [
        "## Create a tensor (3,2) tensor\n",
        "X = tf.constant([[2,3],\n",
        "                 [3,4],\n",
        "                 [5,6]])\n",
        "y = tf.constant([[7,8],\n",
        "                 [6,4],\n",
        "                 [9,4]])\n",
        "X,y\n"
      ],
      "execution_count": null,
      "outputs": []
    },
    {
      "cell_type": "code",
      "metadata": {
        "id": "umwEGmyz-v0H"
      },
      "source": [
        "## let's try to matrix multiply tensors of same shape\n",
        "X @ y"
      ],
      "execution_count": null,
      "outputs": []
    },
    {
      "cell_type": "code",
      "metadata": {
        "id": "hbKSTzZ9_SNn"
      },
      "source": [
        "tf.matmul(X,y)"
      ],
      "execution_count": null,
      "outputs": []
    },
    {
      "cell_type": "code",
      "metadata": {
        "id": "5M0VPGzb_cKd"
      },
      "source": [
        "## Let's change the shape of y\n",
        "tf.reshape(y,shape=(2,3))"
      ],
      "execution_count": null,
      "outputs": []
    },
    {
      "cell_type": "code",
      "metadata": {
        "id": "AiQMUdqHFa1y"
      },
      "source": [
        "# Try to matrix multiply X with reshaped y\n",
        "tf.matmul(X,tf.reshape(y,shape=(2,3)))"
      ],
      "execution_count": null,
      "outputs": []
    },
    {
      "cell_type": "code",
      "metadata": {
        "id": "AiaMtehTFth4"
      },
      "source": [
        "# try change shape of X instead of y\n",
        "tf.matmul(tf.reshape(X,shape=(2,3)),y)"
      ],
      "execution_count": null,
      "outputs": []
    },
    {
      "cell_type": "code",
      "metadata": {
        "id": "4tFlqyWhGkx4"
      },
      "source": [
        "# Can do the same with transpose\n",
        "X,tf.transpose(X),tf.reshape(X,shape=(2,3))"
      ],
      "execution_count": null,
      "outputs": []
    },
    {
      "cell_type": "code",
      "metadata": {
        "id": "Qx845TAIHqKX"
      },
      "source": [
        "# Try matrix multiplication with transpose rather than reshape\n",
        "tf.transpose(X),y,tf.matmul(tf.transpose(X),y)#transpose flips the Access's rather than shuffles around the elements of a tensorflow."
      ],
      "execution_count": null,
      "outputs": []
    },
    {
      "cell_type": "markdown",
      "metadata": {
        "id": "bcdUTYyyIPzG"
      },
      "source": [
        "**The dot product**\n",
        "\n",
        "Matrix multiplication is also referred to as the dot product\n",
        "\n",
        "You can perform matrix multiplication using:\n",
        "\n",
        "* `tf.matmul()`\n",
        "* `tf.tensordot()`\n",
        "* `@`"
      ]
    },
    {
      "cell_type": "code",
      "metadata": {
        "id": "QMsfL8fCnuJQ"
      },
      "source": [
        "X,y"
      ],
      "execution_count": null,
      "outputs": []
    },
    {
      "cell_type": "code",
      "metadata": {
        "id": "od4W46MOje8E"
      },
      "source": [
        "## Perform the dot product on X and y (requires X or y to be transpose)\n",
        "tf.tensordot(tf.transpose(X),y,axes=1)"
      ],
      "execution_count": null,
      "outputs": []
    },
    {
      "cell_type": "code",
      "metadata": {
        "id": "KnX4gxPeoH5N"
      },
      "source": [
        "## Perform matrix multiplication between X and y(transposed)\n",
        "tf.matmul(X,tf.transpose(y)),tf.tensordot(X,tf.transpose(y),axes=1)"
      ],
      "execution_count": null,
      "outputs": []
    },
    {
      "cell_type": "code",
      "metadata": {
        "id": "Yo4_2SS-puAW"
      },
      "source": [
        "## Perform matrix multiplication between X and y(reshaped)\n",
        "tf.matmul(X,tf.reshape(y,shape=(2,3))),tf.tensordot(X,tf.reshape(y,shape=(2,3)),axes=1)"
      ],
      "execution_count": null,
      "outputs": []
    },
    {
      "cell_type": "code",
      "metadata": {
        "id": "sUYI_wVsqxig"
      },
      "source": [
        "## Check the values of y, reshape y and transpose y\n",
        "print('Normal y:')\n",
        "print(y,\"\\n\")\n",
        "\n",
        "print(\"y rehsped to (2,3): \")\n",
        "print(tf.reshape(y,shape=(2,3)),'\\n')\n",
        "\n",
        "print(\"y transposed: \")\n",
        "print(tf.transpose(y))"
      ],
      "execution_count": null,
      "outputs": []
    },
    {
      "cell_type": "code",
      "metadata": {
        "id": "FxvYGW56vHYJ"
      },
      "source": [
        "  tf.matmul(X,tf.transpose(y))"
      ],
      "execution_count": null,
      "outputs": []
    },
    {
      "cell_type": "markdown",
      "metadata": {
        "id": "u6xnp8QCyAqm"
      },
      "source": [
        "Generally , when performing matrix multiplication on two tensors and on of the axes doesn't line up, you will transpose (rather than reshape) one of the tensors  to get satisfy the matrix mutiplication rules "
      ]
    },
    {
      "cell_type": "markdown",
      "metadata": {
        "id": "1cfBlzyWzjxI"
      },
      "source": [
        "# Changing the datatype of tensors"
      ]
    },
    {
      "cell_type": "code",
      "metadata": {
        "id": "TGOoSYlM0AIM"
      },
      "source": [
        "# Create a new tesnor with default datatype(int32)\n",
        "B= tf.constant([1.7,3.4])\n",
        "B.dtype"
      ],
      "execution_count": null,
      "outputs": []
    },
    {
      "cell_type": "code",
      "metadata": {
        "id": "onPtUmcJ2vNM"
      },
      "source": [
        "C = tf.constant([7,10])\n",
        "C.dtype"
      ],
      "execution_count": null,
      "outputs": []
    },
    {
      "cell_type": "code",
      "metadata": {
        "id": "rvs4Pdzi3-xj"
      },
      "source": [
        "# Change from float32 to float16\n",
        "B = tf.cast(B,dtype=tf.float16)\n",
        "B,B.dtype"
      ],
      "execution_count": null,
      "outputs": []
    },
    {
      "cell_type": "markdown",
      "metadata": {
        "id": "SpOFtvea9Gs_"
      },
      "source": [
        "But if we had a Tensor of a million elements and we reduced the floating point size from 32 to 16, we've basically halved the amount of space our Tensors is taking up on memory, allowing a hardware accelerator\n",
        "to make calculations on it potentially twice as fast."
      ]
    },
    {
      "cell_type": "code",
      "metadata": {
        "id": "VVWfwYg59tZY"
      },
      "source": [
        "# Change from int32 to float32\n",
        "E = tf.cast(C,dtype=tf.float32)\n",
        "E,E.dtype"
      ],
      "execution_count": null,
      "outputs": []
    },
    {
      "cell_type": "code",
      "metadata": {
        "id": "HujOo1K3-SrU"
      },
      "source": [
        "E_float16 = tf.cast(E,dtype=tf.float16)\n",
        "E_float16,E_float16.dtype"
      ],
      "execution_count": null,
      "outputs": []
    },
    {
      "cell_type": "markdown",
      "metadata": {
        "id": "0tSLbYrV-uan"
      },
      "source": [
        "#Aggregating the tensors\n",
        "\n",
        "> Aggregating tensors = condensing them from multiple values down to a smallar amount of values"
      ]
    },
    {
      "cell_type": "code",
      "metadata": {
        "id": "ZWrhso2rO-5Y"
      },
      "source": [
        "# Get the absolute value\n",
        "D = tf.constant([-7,-8])\n",
        "D"
      ],
      "execution_count": null,
      "outputs": []
    },
    {
      "cell_type": "code",
      "metadata": {
        "id": "Y2dWQ4-NYANw"
      },
      "source": [
        "# Get the absolute values\n",
        "tf.abs(D)"
      ],
      "execution_count": null,
      "outputs": []
    },
    {
      "cell_type": "markdown",
      "metadata": {
        "id": "LO4DAksTYJKU"
      },
      "source": [
        "# Let's go through the following aggregating:\n",
        "* Get the minimum\n",
        "* Get the maximum\n",
        "* Get the mean of a tensor\n",
        "* Get the sum of a tensor\n",
        "\n"
      ]
    },
    {
      "cell_type": "code",
      "metadata": {
        "id": "NEFPcN7HZpHm"
      },
      "source": [
        "# Create a random tensor with values between 0 and 100 of 50 size\n",
        "E = tf.constant(np.random.randint(0,100,size=50))\n",
        "E"
      ],
      "execution_count": null,
      "outputs": []
    },
    {
      "cell_type": "code",
      "metadata": {
        "id": "f5kATpXXaTmX"
      },
      "source": [
        "tf.size(E),E.ndim,E.shape"
      ],
      "execution_count": null,
      "outputs": []
    },
    {
      "cell_type": "code",
      "metadata": {
        "id": "B-AEc4lwafzo"
      },
      "source": [
        "# Find the minimum\n",
        "tf.reduce_min(E)"
      ],
      "execution_count": null,
      "outputs": []
    },
    {
      "cell_type": "code",
      "metadata": {
        "id": "IU6KPvFharla"
      },
      "source": [
        "# Find the maximum \n",
        "tf.reduce_max(E)"
      ],
      "execution_count": null,
      "outputs": []
    },
    {
      "cell_type": "code",
      "metadata": {
        "id": "lbViKpBVayT5"
      },
      "source": [
        "#Find the mean of tensor\n",
        "tf.reduce_mean(E)"
      ],
      "execution_count": null,
      "outputs": []
    },
    {
      "cell_type": "code",
      "metadata": {
        "id": "Hm673obia4QE"
      },
      "source": [
        "# Find the sum of tensor\n",
        "tf.reduce_sum(E)"
      ],
      "execution_count": null,
      "outputs": []
    },
    {
      "cell_type": "code",
      "metadata": {
        "id": "7h2KQ6_rbBxJ"
      },
      "source": [
        "# Find the the variance of our tensors\n",
        "import tensorflow_probability as tfp\n",
        "tfp.stats.variance(E)"
      ],
      "execution_count": null,
      "outputs": []
    },
    {
      "cell_type": "code",
      "metadata": {
        "id": "KxJfSEVcboGe"
      },
      "source": [
        "# Find the standard deviation of our tensors\n",
        "tf.math.reduce_std(tf.cast(E,dtype=tf.float32))"
      ],
      "execution_count": null,
      "outputs": []
    },
    {
      "cell_type": "markdown",
      "metadata": {
        "id": "U9--RJzdfWl7"
      },
      "source": [
        "## Find the postional maximum and minumum\n",
        "\n",
        ">you're going to see this a lot when your neural network outputs prediction probabilities, which we haven't seen yet.\n"
      ]
    },
    {
      "cell_type": "code",
      "metadata": {
        "id": "9ISR1bmSjaEH"
      },
      "source": [
        "# Create a new tensor for finding positional maxiumum and minimum\n",
        "tf.random.set_seed(42)\n",
        "F=tf.random.uniform(shape=[50])\n",
        "F"
      ],
      "execution_count": null,
      "outputs": []
    },
    {
      "cell_type": "code",
      "metadata": {
        "id": "yDh4jhVQnDzI"
      },
      "source": [
        "## Find the positional maxiumum\n",
        "tf.argmax(F)"
      ],
      "execution_count": null,
      "outputs": []
    },
    {
      "cell_type": "code",
      "metadata": {
        "id": "r8fNFCiBoX_q"
      },
      "source": [
        "# Index on our largest value position\n",
        "F[tf.argmax(F)]"
      ],
      "execution_count": null,
      "outputs": []
    },
    {
      "cell_type": "code",
      "metadata": {
        "id": "gTf3NOMfpxKf"
      },
      "source": [
        "# Find the max value of F\n",
        "tf.reduce_max(F)"
      ],
      "execution_count": null,
      "outputs": []
    },
    {
      "cell_type": "code",
      "metadata": {
        "id": "mdp5sz0Gp4Ww"
      },
      "source": [
        "# Check for equality\n",
        "assert F[tf.argmax(F)] == tf.reduce_max(F)"
      ],
      "execution_count": null,
      "outputs": []
    },
    {
      "cell_type": "code",
      "metadata": {
        "id": "PIGqEAIVql2t"
      },
      "source": [
        " F[tf.argmax(F)] == tf.reduce_max(F)"
      ],
      "execution_count": null,
      "outputs": []
    },
    {
      "cell_type": "code",
      "metadata": {
        "id": "EbmWoLy-qqzF"
      },
      "source": [
        "# Find the positional minimum\n",
        "tf.argmin(F)"
      ],
      "execution_count": null,
      "outputs": []
    },
    {
      "cell_type": "code",
      "metadata": {
        "id": "bogUCTllrGfD"
      },
      "source": [
        "## Index on our lowest value postion\n",
        "F[tf.argmin(F)]"
      ],
      "execution_count": null,
      "outputs": []
    },
    {
      "cell_type": "markdown",
      "metadata": {
        "id": "ZKN1G771rP8S"
      },
      "source": [
        "### Squeezing a tensor(or remove all single dimensions)"
      ]
    },
    {
      "cell_type": "code",
      "metadata": {
        "id": "vJycXR8bw2yU"
      },
      "source": [
        "## Create a tensor to get started\n",
        "tf.random.set_seed(42)\n",
        "G = tf.constant(tf.random.uniform(shape=[50]),shape=(1,1,1,1,50))\n",
        "G"
      ],
      "execution_count": null,
      "outputs": []
    },
    {
      "cell_type": "code",
      "metadata": {
        "id": "iLsPQ6-xxNDO"
      },
      "source": [
        "G.shape"
      ],
      "execution_count": null,
      "outputs": []
    },
    {
      "cell_type": "code",
      "metadata": {
        "id": "ugFgwWN4yUMf"
      },
      "source": [
        "G_squeezed = tf.squeeze(G)\n",
        "G_squeezed"
      ],
      "execution_count": null,
      "outputs": []
    },
    {
      "cell_type": "markdown",
      "metadata": {
        "id": "M-ws_mwW0Z5V"
      },
      "source": [
        "## One-hot encdoing tensors\n",
        "\n",
        "> One hot encoding is a form of numerical encoding."
      ]
    },
    {
      "cell_type": "code",
      "metadata": {
        "id": "idlsTRBI3vwi"
      },
      "source": [
        "# Create a list of indices\n",
        "some_list = [0,1,2,3]#in another word red,blue,green,purple\n",
        "\n",
        "# One hot encode our indices\n",
        "tf.one_hot(some_list,depth=4)"
      ],
      "execution_count": null,
      "outputs": []
    },
    {
      "cell_type": "code",
      "metadata": {
        "id": "cpyFaAYH71XT"
      },
      "source": [
        "# Specify custom values for one hot encoding\n",
        "tf.one_hot(some_list,depth = 4, on_value='yes',off_value='no')"
      ],
      "execution_count": null,
      "outputs": []
    },
    {
      "cell_type": "markdown",
      "metadata": {
        "id": "079_BJLw9xLl"
      },
      "source": [
        "# Squaring,log,square root"
      ]
    },
    {
      "cell_type": "code",
      "metadata": {
        "colab": {
          "base_uri": "https://localhost:8080/"
        },
        "id": "29LIUKXBgqVm",
        "outputId": "3b9826a3-9f81-4300-e0cb-c84d62b44963"
      },
      "source": [
        "# Create a new tensor\n",
        "H = tf.range(1,10)\n",
        "H"
      ],
      "execution_count": 10,
      "outputs": [
        {
          "output_type": "execute_result",
          "data": {
            "text/plain": [
              "<tf.Tensor: shape=(9,), dtype=int32, numpy=array([1, 2, 3, 4, 5, 6, 7, 8, 9], dtype=int32)>"
            ]
          },
          "metadata": {
            "tags": []
          },
          "execution_count": 10
        }
      ]
    },
    {
      "cell_type": "code",
      "metadata": {
        "colab": {
          "base_uri": "https://localhost:8080/"
        },
        "id": "vlNwJ5Yjg-4_",
        "outputId": "ec64084e-0a2b-40e9-dd73-edfc6bd8094e"
      },
      "source": [
        "# Square it\n",
        "tf.square(H)"
      ],
      "execution_count": 11,
      "outputs": [
        {
          "output_type": "execute_result",
          "data": {
            "text/plain": [
              "<tf.Tensor: shape=(9,), dtype=int32, numpy=array([ 1,  4,  9, 16, 25, 36, 49, 64, 81], dtype=int32)>"
            ]
          },
          "metadata": {
            "tags": []
          },
          "execution_count": 11
        }
      ]
    },
    {
      "cell_type": "code",
      "metadata": {
        "colab": {
          "base_uri": "https://localhost:8080/"
        },
        "id": "b3msGRLghXHZ",
        "outputId": "ab079aa9-fe38-435d-ec1e-00c53dc12b94"
      },
      "source": [
        "# Find the square root\n",
        "tf.sqrt(tf.cast(H,dtype=tf.float32))"
      ],
      "execution_count": 15,
      "outputs": [
        {
          "output_type": "execute_result",
          "data": {
            "text/plain": [
              "<tf.Tensor: shape=(9,), dtype=float32, numpy=\n",
              "array([0.99999994, 1.4142134 , 1.7320508 , 1.9999999 , 2.236068  ,\n",
              "       2.4494896 , 2.6457512 , 2.8284268 , 3.        ], dtype=float32)>"
            ]
          },
          "metadata": {
            "tags": []
          },
          "execution_count": 15
        }
      ]
    },
    {
      "cell_type": "code",
      "metadata": {
        "colab": {
          "base_uri": "https://localhost:8080/"
        },
        "id": "hqpkLIMBhzPX",
        "outputId": "8dce1558-4a06-4d17-8f6e-426e9fa52455"
      },
      "source": [
        "# Find the log\n",
        "tf.math.log(tf.cast(H,dtype=tf.float32))"
      ],
      "execution_count": 19,
      "outputs": [
        {
          "output_type": "execute_result",
          "data": {
            "text/plain": [
              "<tf.Tensor: shape=(9,), dtype=float32, numpy=\n",
              "array([0.       , 0.6931472, 1.0986123, 1.3862944, 1.609438 , 1.7917595,\n",
              "       1.9459102, 2.0794415, 2.1972246], dtype=float32)>"
            ]
          },
          "metadata": {
            "tags": []
          },
          "execution_count": 19
        }
      ]
    },
    {
      "cell_type": "markdown",
      "metadata": {
        "id": "LkafNz8-jYRb"
      },
      "source": [
        "#Tensors and Numpy\n",
        "\n",
        "> Tensorflow interacts beautifully with Numpy array\n",
        "\n"
      ]
    },
    {
      "cell_type": "code",
      "metadata": {
        "colab": {
          "base_uri": "https://localhost:8080/"
        },
        "id": "YcRVABMtl7Kt",
        "outputId": "4d7acdd9-0299-44bf-f40b-0e38d9df76c7"
      },
      "source": [
        "# Create a tensor directly from Numpy array\n",
        "J = tf.constant(np.array([1.,2.,2.,3.]))\n",
        "J"
      ],
      "execution_count": 20,
      "outputs": [
        {
          "output_type": "execute_result",
          "data": {
            "text/plain": [
              "<tf.Tensor: shape=(4,), dtype=float64, numpy=array([1., 2., 2., 3.])>"
            ]
          },
          "metadata": {
            "tags": []
          },
          "execution_count": 20
        }
      ]
    },
    {
      "cell_type": "code",
      "metadata": {
        "colab": {
          "base_uri": "https://localhost:8080/"
        },
        "id": "x3SYL0EWmjxf",
        "outputId": "4f9bd412-6cff-4a50-da0c-396c50ccd278"
      },
      "source": [
        "# Convert our tensor back to a Numpy array\n",
        "np.array(J),type(np.array(J))"
      ],
      "execution_count": 21,
      "outputs": [
        {
          "output_type": "execute_result",
          "data": {
            "text/plain": [
              "(array([1., 2., 2., 3.]), numpy.ndarray)"
            ]
          },
          "metadata": {
            "tags": []
          },
          "execution_count": 21
        }
      ]
    },
    {
      "cell_type": "code",
      "metadata": {
        "colab": {
          "base_uri": "https://localhost:8080/"
        },
        "id": "jS8hFJjknNNU",
        "outputId": "2e6f35c7-8fda-4e1b-cd3b-0c33c8a0fbea"
      },
      "source": [
        "# Convert tensor J to a Numpy array\n",
        "J.numpy(),type(J.numpy())"
      ],
      "execution_count": 23,
      "outputs": [
        {
          "output_type": "execute_result",
          "data": {
            "text/plain": [
              "(array([1., 2., 2., 3.]), numpy.ndarray)"
            ]
          },
          "metadata": {
            "tags": []
          },
          "execution_count": 23
        }
      ]
    },
    {
      "cell_type": "code",
      "metadata": {
        "colab": {
          "base_uri": "https://localhost:8080/"
        },
        "id": "JQjoRpnAnjit",
        "outputId": "17a1b1ea-52c9-4de8-94ad-e01e503a6ada"
      },
      "source": [
        "J = tf.constant([3.])\n",
        "J.numpy(),J.numpy()[0]"
      ],
      "execution_count": 25,
      "outputs": [
        {
          "output_type": "execute_result",
          "data": {
            "text/plain": [
              "(array([3.], dtype=float32), 3.0)"
            ]
          },
          "metadata": {
            "tags": []
          },
          "execution_count": 25
        }
      ]
    },
    {
      "cell_type": "code",
      "metadata": {
        "colab": {
          "base_uri": "https://localhost:8080/"
        },
        "id": "Qo8c65A8nwiN",
        "outputId": "bfc63671-ca41-4035-e26a-29c39d0db507"
      },
      "source": [
        "# The default types of each are slightly different\n",
        "numpy_J = tf.constant(np.array([3.,4.,5.]))\n",
        "tensor_j = tf.constant([3.,4.,5.])\n",
        "\n",
        "# Check the default types\n",
        "numpy_J.dtype,tensor_j.dtype"
      ],
      "execution_count": 26,
      "outputs": [
        {
          "output_type": "execute_result",
          "data": {
            "text/plain": [
              "(tf.float64, tf.float32)"
            ]
          },
          "metadata": {
            "tags": []
          },
          "execution_count": 26
        }
      ]
    },
    {
      "cell_type": "markdown",
      "metadata": {
        "id": "Z1N2J1uCosxU"
      },
      "source": [
        "## The main difference between Tensorflow and Numpy ,Tensorflow can be run a GPU(or TPU) for faster numerical processing"
      ]
    },
    {
      "cell_type": "markdown",
      "metadata": {
        "id": "0MX8EhItrv7_"
      },
      "source": [
        "##Finding access to GPUs"
      ]
    },
    {
      "cell_type": "code",
      "metadata": {
        "colab": {
          "base_uri": "https://localhost:8080/"
        },
        "id": "a7DMFdpUsDZz",
        "outputId": "06f3fe95-62c4-40cd-bb3a-2c4f7b41795e"
      },
      "source": [
        "tf.config.list_physical_devices()"
      ],
      "execution_count": 27,
      "outputs": [
        {
          "output_type": "execute_result",
          "data": {
            "text/plain": [
              "[PhysicalDevice(name='/physical_device:CPU:0', device_type='CPU')]"
            ]
          },
          "metadata": {
            "tags": []
          },
          "execution_count": 27
        }
      ]
    },
    {
      "cell_type": "code",
      "metadata": {
        "colab": {
          "base_uri": "https://localhost:8080/"
        },
        "id": "wWcYFotxseUc",
        "outputId": "8fb58934-0c2b-4cb1-bf7e-d61315bf22f4"
      },
      "source": [
        "tf.config.list_physical_devices(\"GPU\")"
      ],
      "execution_count": 28,
      "outputs": [
        {
          "output_type": "execute_result",
          "data": {
            "text/plain": [
              "[]"
            ]
          },
          "metadata": {
            "tags": []
          },
          "execution_count": 28
        }
      ]
    },
    {
      "cell_type": "code",
      "metadata": {
        "colab": {
          "base_uri": "https://localhost:8080/"
        },
        "id": "Z8P--OIzsxf0",
        "outputId": "e1c2ea1f-7d6d-4db8-b37e-2e40cbeb548e"
      },
      "source": [
        "import tensorflow as tf\n",
        "tf.config.list_physical_devices()"
      ],
      "execution_count": 2,
      "outputs": [
        {
          "output_type": "execute_result",
          "data": {
            "text/plain": [
              "[PhysicalDevice(name='/physical_device:CPU:0', device_type='CPU'),\n",
              " PhysicalDevice(name='/physical_device:GPU:0', device_type='GPU')]"
            ]
          },
          "metadata": {
            "tags": []
          },
          "execution_count": 2
        }
      ]
    },
    {
      "cell_type": "code",
      "metadata": {
        "colab": {
          "base_uri": "https://localhost:8080/"
        },
        "id": "oykiQCCotrAu",
        "outputId": "6b537f4e-39dd-4e9d-e025-aea3d68b74a9"
      },
      "source": [
        "tf.config.list_physical_devices(\"GPU\")"
      ],
      "execution_count": 3,
      "outputs": [
        {
          "output_type": "execute_result",
          "data": {
            "text/plain": [
              "[PhysicalDevice(name='/physical_device:GPU:0', device_type='GPU')]"
            ]
          },
          "metadata": {
            "tags": []
          },
          "execution_count": 3
        }
      ]
    },
    {
      "cell_type": "code",
      "metadata": {
        "colab": {
          "base_uri": "https://localhost:8080/"
        },
        "id": "O6Wc1GA7tyZz",
        "outputId": "3fd3dc0c-0822-46ba-df6b-1192a9724365"
      },
      "source": [
        "!nvidia-smi"
      ],
      "execution_count": 4,
      "outputs": [
        {
          "output_type": "stream",
          "text": [
            "Sun May 30 23:58:51 2021       \n",
            "+-----------------------------------------------------------------------------+\n",
            "| NVIDIA-SMI 465.19.01    Driver Version: 460.32.03    CUDA Version: 11.2     |\n",
            "|-------------------------------+----------------------+----------------------+\n",
            "| GPU  Name        Persistence-M| Bus-Id        Disp.A | Volatile Uncorr. ECC |\n",
            "| Fan  Temp  Perf  Pwr:Usage/Cap|         Memory-Usage | GPU-Util  Compute M. |\n",
            "|                               |                      |               MIG M. |\n",
            "|===============================+======================+======================|\n",
            "|   0  Tesla T4            Off  | 00000000:00:04.0 Off |                    0 |\n",
            "| N/A   58C    P8    11W /  70W |      3MiB / 15109MiB |      0%      Default |\n",
            "|                               |                      |                  N/A |\n",
            "+-------------------------------+----------------------+----------------------+\n",
            "                                                                               \n",
            "+-----------------------------------------------------------------------------+\n",
            "| Processes:                                                                  |\n",
            "|  GPU   GI   CI        PID   Type   Process name                  GPU Memory |\n",
            "|        ID   ID                                                   Usage      |\n",
            "|=============================================================================|\n",
            "|  No running processes found                                                 |\n",
            "+-----------------------------------------------------------------------------+\n"
          ],
          "name": "stdout"
        }
      ]
    },
    {
      "cell_type": "markdown",
      "metadata": {
        "id": "bJYKNMkGt0lb"
      },
      "source": [
        "##Note that: If you have access to Cuda-enabled GPU,Tensorflow will automatically use it whenever posssible"
      ]
    }
  ]
}