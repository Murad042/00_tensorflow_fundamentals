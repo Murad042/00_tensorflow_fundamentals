{
  "nbformat": 4,
  "nbformat_minor": 0,
  "metadata": {
    "colab": {
      "name": "01_regression_tensorflow.ipynb",
      "provenance": [],
      "mount_file_id": "18bhnRPfjlB7PIQdr3ZNwOMfcU_7z-jnC",
      "authorship_tag": "ABX9TyPRF62DJtwYisKRW1ukNSo1",
      "include_colab_link": true
    },
    "kernelspec": {
      "name": "python3",
      "display_name": "Python 3"
    },
    "language_info": {
      "name": "python"
    }
  },
  "cells": [
    {
      "cell_type": "markdown",
      "metadata": {
        "id": "view-in-github",
        "colab_type": "text"
      },
      "source": [
        "<a href=\"https://colab.research.google.com/github/Murad042/00_tensorflow_fundamentals/blob/main/01_regression_tensorflow.ipynb\" target=\"_parent\"><img src=\"https://colab.research.google.com/assets/colab-badge.svg\" alt=\"Open In Colab\"/></a>"
      ]
    },
    {
      "cell_type": "markdown",
      "metadata": {
        "id": "2bWWVlpOy8IW"
      },
      "source": [
        "## What we are going to cover:\n",
        "\n",
        "* Architecture of a neural network regression model\n",
        "* Input shapes and output shapes of a regression model( features and labels)\n",
        "* Creating custom data to view and fit \n",
        "* Steps in modelling\n",
        "    * Creating a model, compiling a model, fitting a model, evaluating the model\n",
        "* Different evaluation models\n",
        "* Saving and loading the models\n"
      ]
    },
    {
      "cell_type": "markdown",
      "metadata": {
        "id": "1iD2tMgc3NP-"
      },
      "source": [
        "> Regression inputs and outputs"
      ]
    },
    {
      "cell_type": "markdown",
      "metadata": {
        "id": "fSnE50sz3oJi"
      },
      "source": [
        ">Anatomy of neural networks"
      ]
    },
    {
      "cell_type": "markdown",
      "metadata": {
        "id": "uT87PiijABKS"
      },
      "source": [
        "Here are the ten steps to improve your problem solving skills and to solve the programming problem in Python:\n",
        "\n",
        "* Read the problem at least three times\n",
        "* Work through the problem manually\n",
        "* Simplify and optimize your steps\n",
        "* Write pseudocode\n",
        "* Translate pseudocode into code and debug\n",
        "* Simplify and optimize your code\n",
        "* Debug\n",
        "* Write useful comments\n",
        "* Get feedback through code reviews\n",
        "* Practice, practice, practice"
      ]
    },
    {
      "cell_type": "markdown",
      "metadata": {
        "id": "WdhFpTI6BWjM"
      },
      "source": [
        "## Introduction to Regression with Neural Network in Tensorflow\n",
        "\n",
        "There are many definitions for a regression problem ,but in our , we are going to simplify it: predicting a numerical variabel based on some other combination of variables, even shorter... predicting a number\n",
        " "
      ]
    },
    {
      "cell_type": "code",
      "metadata": {
        "colab": {
          "base_uri": "https://localhost:8080/"
        },
        "id": "VWDnuHhnPCjh",
        "outputId": "cff8bbe8-85c7-4897-9afc-ec2ede57fe45"
      },
      "source": [
        "# Import Tensorflow\n",
        "import tensorflow as tf\n",
        "print(tf.__version__)"
      ],
      "execution_count": 1,
      "outputs": [
        {
          "output_type": "stream",
          "text": [
            "2.5.0\n"
          ],
          "name": "stdout"
        }
      ]
    },
    {
      "cell_type": "markdown",
      "metadata": {
        "id": "WFJOblc1P-An"
      },
      "source": [
        "# Creating data to view and fit"
      ]
    },
    {
      "cell_type": "code",
      "metadata": {
        "colab": {
          "base_uri": "https://localhost:8080/",
          "height": 283
        },
        "id": "nEYX8dTwQjQ6",
        "outputId": "32fc54b5-936a-42d1-c800-303d004e8fe1"
      },
      "source": [
        "import numpy as np\n",
        "import matplotlib.pyplot as plt\n",
        "\n",
        "# Create features\n",
        "X = np.array([-7.0,-4.0,-8.0,9.0,7.0,5.0,11.0,12.0])\n",
        "\n",
        "# Create labels\n",
        "y = np.array([3.0,6.0,2.0,19.0,17.0,15.0,21.0,22.0])\n",
        "\n",
        "\n",
        "#Visualize\n",
        "plt.scatter(X,y)"
      ],
      "execution_count": 2,
      "outputs": [
        {
          "output_type": "execute_result",
          "data": {
            "text/plain": [
              "<matplotlib.collections.PathCollection at 0x7f405d0a6f10>"
            ]
          },
          "metadata": {
            "tags": []
          },
          "execution_count": 2
        },
        {
          "output_type": "display_data",
          "data": {
            "image/png": "[encoded data removed]",
            "text/plain": [
              "<Figure size 432x288 with 1 Axes>"
            ]
          },
          "metadata": {
            "tags": [],
            "needs_background": "light"
          }
        }
      ]
    },
    {
      "cell_type": "markdown",
      "metadata": {
        "id": "ud-kR0b5R0qV"
      },
      "source": [
        "#Input and putput shapes"
      ]
    },
    {
      "cell_type": "code",
      "metadata": {
        "colab": {
          "base_uri": "https://localhost:8080/"
        },
        "id": "K9LT6hnoTHiP",
        "outputId": "b9173290-17ec-4495-9888-ba5338203213"
      },
      "source": [
        "# Create a demo tensor for our housing price prediction problem\n",
        "house_info = tf.constant([\"bedroom\",\"bathroom\",\"garage\"])\n",
        "house_price = tf.constant([939700])\n",
        "house_info,house_price"
      ],
      "execution_count": 3,
      "outputs": [
        {
          "output_type": "execute_result",
          "data": {
            "text/plain": [
              "(<tf.Tensor: shape=(3,), dtype=string, numpy=array([b'bedroom', b'bathroom', b'garage'], dtype=object)>,\n",
              " <tf.Tensor: shape=(1,), dtype=int32, numpy=array([939700], dtype=int32)>)"
            ]
          },
          "metadata": {
            "tags": []
          },
          "execution_count": 3
        }
      ]
    },
    {
      "cell_type": "code",
      "metadata": {
        "colab": {
          "base_uri": "https://localhost:8080/"
        },
        "id": "8Y40I1DGVcCl",
        "outputId": "ca43c39d-621f-456b-8736-048234c59317"
      },
      "source": [
        "X[0],y[0]"
      ],
      "execution_count": 4,
      "outputs": [
        {
          "output_type": "execute_result",
          "data": {
            "text/plain": [
              "(-7.0, 3.0)"
            ]
          },
          "metadata": {
            "tags": []
          },
          "execution_count": 4
        }
      ]
    },
    {
      "cell_type": "code",
      "metadata": {
        "colab": {
          "base_uri": "https://localhost:8080/"
        },
        "id": "FgF3p-dkVhAo",
        "outputId": "ea8440a1-f322-472f-b653-4e0a702d4c30"
      },
      "source": [
        "X[1],y[1]"
      ],
      "execution_count": 5,
      "outputs": [
        {
          "output_type": "execute_result",
          "data": {
            "text/plain": [
              "(-4.0, 6.0)"
            ]
          },
          "metadata": {
            "tags": []
          },
          "execution_count": 5
        }
      ]
    },
    {
      "cell_type": "code",
      "metadata": {
        "colab": {
          "base_uri": "https://localhost:8080/"
        },
        "id": "I7ZFukYMUfS5",
        "outputId": "a5a14bfb-c83a-4511-8112-7a08ce495b56"
      },
      "source": [
        "input_shape = X.shape\n",
        "output_shape = y.shape\n",
        "input_shape,output_shape"
      ],
      "execution_count": 6,
      "outputs": [
        {
          "output_type": "execute_result",
          "data": {
            "text/plain": [
              "((8,), (8,))"
            ]
          },
          "metadata": {
            "tags": []
          },
          "execution_count": 6
        }
      ]
    },
    {
      "cell_type": "code",
      "metadata": {
        "colab": {
          "base_uri": "https://localhost:8080/"
        },
        "id": "Ta7PnkYHVbaf",
        "outputId": "66439717-3646-4ae2-aca6-a8c09ac0146a"
      },
      "source": [
        "input_shape = X[0].shape\n",
        "output_shape = y[0].shape\n",
        "input_shape,output_shape"
      ],
      "execution_count": 7,
      "outputs": [
        {
          "output_type": "execute_result",
          "data": {
            "text/plain": [
              "((), ())"
            ]
          },
          "metadata": {
            "tags": []
          },
          "execution_count": 7
        }
      ]
    },
    {
      "cell_type": "code",
      "metadata": {
        "colab": {
          "base_uri": "https://localhost:8080/"
        },
        "id": "YX7ZItOqU5fX",
        "outputId": "01f36464-1780-4262-a1af-40c82e83e6a5"
      },
      "source": [
        "##Because of\n",
        "X[0].ndim\n"
      ],
      "execution_count": 8,
      "outputs": [
        {
          "output_type": "execute_result",
          "data": {
            "text/plain": [
              "0"
            ]
          },
          "metadata": {
            "tags": []
          },
          "execution_count": 8
        }
      ]
    },
    {
      "cell_type": "code",
      "metadata": {
        "colab": {
          "base_uri": "https://localhost:8080/"
        },
        "id": "4CjYlrJ_WAnY",
        "outputId": "c5102cfe-a497-456e-d4fd-018e4d13d0a6"
      },
      "source": [
        "X.shape,X.ndim"
      ],
      "execution_count": 9,
      "outputs": [
        {
          "output_type": "execute_result",
          "data": {
            "text/plain": [
              "((8,), 1)"
            ]
          },
          "metadata": {
            "tags": []
          },
          "execution_count": 9
        }
      ]
    },
    {
      "cell_type": "code",
      "metadata": {
        "colab": {
          "base_uri": "https://localhost:8080/"
        },
        "id": "FGRpXWPvhxgb",
        "outputId": "a8c815d3-92d0-4abd-d154-825156c04547"
      },
      "source": [
        "house_info.shape,house_info.ndim"
      ],
      "execution_count": 10,
      "outputs": [
        {
          "output_type": "execute_result",
          "data": {
            "text/plain": [
              "(TensorShape([3]), 1)"
            ]
          },
          "metadata": {
            "tags": []
          },
          "execution_count": 10
        }
      ]
    },
    {
      "cell_type": "code",
      "metadata": {
        "colab": {
          "base_uri": "https://localhost:8080/"
        },
        "id": "kTyYFDvBh8TA",
        "outputId": "b63ab60e-3641-4bb7-a63c-e0638ef8671e"
      },
      "source": [
        "# Turn our numpy arrays to tensors\n",
        "X = tf.constant(tf.cast(X,dtype=tf.float32))\n",
        "y = tf.constant(tf.cast(y,dtype=tf.float32))\n",
        "X,y\n"
      ],
      "execution_count": 11,
      "outputs": [
        {
          "output_type": "execute_result",
          "data": {
            "text/plain": [
              "(<tf.Tensor: shape=(8,), dtype=float32, numpy=array([-7., -4., -8.,  9.,  7.,  5., 11., 12.], dtype=float32)>,\n",
              " <tf.Tensor: shape=(8,), dtype=float32, numpy=array([ 3.,  6.,  2., 19., 17., 15., 21., 22.], dtype=float32)>)"
            ]
          },
          "metadata": {
            "tags": []
          },
          "execution_count": 11
        }
      ]
    },
    {
      "cell_type": "code",
      "metadata": {
        "colab": {
          "base_uri": "https://localhost:8080/"
        },
        "id": "O_i58Y04mooT",
        "outputId": "3b3b4a7f-852e-4509-c49d-935388ebb22d"
      },
      "source": [
        "input_shape = X[0].shape\n",
        "output_shape = y[0].shape\n",
        "input_shape,output_shape"
      ],
      "execution_count": 12,
      "outputs": [
        {
          "output_type": "execute_result",
          "data": {
            "text/plain": [
              "(TensorShape([]), TensorShape([]))"
            ]
          },
          "metadata": {
            "tags": []
          },
          "execution_count": 12
        }
      ]
    },
    {
      "cell_type": "markdown",
      "metadata": {
        "id": "81ufhNlGm0c7"
      },
      "source": [
        "# Steps in modelling with tensorflow\n",
        "\n",
        "1. **Creating a model** - define the input and output layers, as well as the hidden layers of a deep learning model.\n",
        "2. **Compiling a model** - define the loss function (in other words , the function which tell our model how wrong it is) and the optimizer(tells our model how to improve the patterns its learning) and evaluation metrics(what we can  use to interpret the performance of our mode).\n",
        "3. **Fitting a model**  - letting the model try to find the patterns between X & y(features and labels)."
      ]
    },
    {
      "cell_type": "code",
      "metadata": {
        "colab": {
          "base_uri": "https://localhost:8080/"
        },
        "id": "U-npLTgBnPrS",
        "outputId": "1c39a365-f296-4542-d256-77baa7bfd0c4"
      },
      "source": [
        "# Set the random seed\n",
        "tf.random.set_seed(42)\n",
        "\n",
        "# 1. Create a model using a Sequential API\n",
        "model = tf.keras.Sequential([\n",
        " tf.keras.layers.Dense(1)                         \n",
        "])\n",
        "\n",
        "# 2. Compile the model\n",
        "model.compile(loss=tf.keras.losses.mae,\n",
        "              optimizer=tf.keras.optimizers.SGD(),\n",
        "              metrics = [\"mae\"])\n",
        "\n",
        "# 3.Fit the model\n",
        "model.fit(X,y, epochs=5)"
      ],
      "execution_count": 13,
      "outputs": [
        {
          "output_type": "stream",
          "text": [
            "Epoch 1/5\n",
            "1/1 [==============================] - 0s 428ms/step - loss: 11.3436 - mae: 11.3436\n",
            "Epoch 2/5\n",
            "1/1 [==============================] - 0s 6ms/step - loss: 11.2359 - mae: 11.2359\n",
            "Epoch 3/5\n",
            "1/1 [==============================] - 0s 3ms/step - loss: 11.1283 - mae: 11.1283\n",
            "Epoch 4/5\n",
            "1/1 [==============================] - 0s 4ms/step - loss: 11.0206 - mae: 11.0206\n",
            "Epoch 5/5\n",
            "1/1 [==============================] - 0s 7ms/step - loss: 10.9129 - mae: 10.9129\n"
          ],
          "name": "stdout"
        },
        {
          "output_type": "execute_result",
          "data": {
            "text/plain": [
              "<tensorflow.python.keras.callbacks.History at 0x7f4059b09550>"
            ]
          },
          "metadata": {
            "tags": []
          },
          "execution_count": 13
        }
      ]
    },
    {
      "cell_type": "code",
      "metadata": {
        "colab": {
          "base_uri": "https://localhost:8080/"
        },
        "id": "eTOq9m0E3oUz",
        "outputId": "bda92ff1-e37a-4898-f303-f30493c82406"
      },
      "source": [
        "#Check out X and y\n",
        "X,y\n"
      ],
      "execution_count": 14,
      "outputs": [
        {
          "output_type": "execute_result",
          "data": {
            "text/plain": [
              "(<tf.Tensor: shape=(8,), dtype=float32, numpy=array([-7., -4., -8.,  9.,  7.,  5., 11., 12.], dtype=float32)>,\n",
              " <tf.Tensor: shape=(8,), dtype=float32, numpy=array([ 3.,  6.,  2., 19., 17., 15., 21., 22.], dtype=float32)>)"
            ]
          },
          "metadata": {
            "tags": []
          },
          "execution_count": 14
        }
      ]
    },
    {
      "cell_type": "code",
      "metadata": {
        "colab": {
          "base_uri": "https://localhost:8080/"
        },
        "id": "iRJkYQBd9xX1",
        "outputId": "fd1d4cbd-731f-4533-b420-2a8c94e7aa9f"
      },
      "source": [
        "# Try and make a prediction using our model\n",
        "model.predict([17.0])"
      ],
      "execution_count": 15,
      "outputs": [
        {
          "output_type": "execute_result",
          "data": {
            "text/plain": [
              "array([[12.397268]], dtype=float32)"
            ]
          },
          "metadata": {
            "tags": []
          },
          "execution_count": 15
        }
      ]
    },
    {
      "cell_type": "markdown",
      "metadata": {
        "id": "GsA3h5Gm-DJY"
      },
      "source": [
        "# Improving our model"
      ]
    },
    {
      "cell_type": "markdown",
      "metadata": {
        "id": "e845m52dIw6b"
      },
      "source": [
        "# We can improve our model, by altering the steps we took to create a model\n",
        "\n",
        "1. **Create a model** - here we might add more layers, increase the number of hidden units( also called neurons) within each of the hidden layers, change the activation function of each layer.\n",
        "2. **Compiling a model** - here we might change the optimization function or perhaps the **learning rate** of the optimization function.\n",
        "3.**Fitting a model** - here we might fit a model for more **epochs** (leave it training for longer)  or on more data (give the model more examples to learn from)."
      ]
    },
    {
      "cell_type": "code",
      "metadata": {
        "id": "JsUA6cY8w0u_",
        "colab": {
          "base_uri": "https://localhost:8080/"
        },
        "outputId": "8d9fb72a-2235-4cb6-95f2-c63e291ba757"
      },
      "source": [
        "# Let's rebuild our model\n",
        "\n",
        "#Create a model\n",
        "model = tf.keras.Sequential([\n",
        "  tf.keras.layers.Dense(1)\n",
        "])\n",
        "\n",
        "# Compile the model\n",
        "model.compile(loss = tf.keras.losses.mae,\n",
        "              optimizer = tf.keras.optimizers.SGD(),\n",
        "              metrics = [\"mae\"])\n",
        "# Fit the model ( this time we ll train for longer)\n",
        "model.fit(X,y,epochs=100)"
      ],
      "execution_count": 16,
      "outputs": [
        {
          "output_type": "stream",
          "text": [
            "Epoch 1/100\n",
            "1/1 [==============================] - 0s 232ms/step - loss: 11.0910 - mae: 11.0910\n",
            "Epoch 2/100\n",
            "1/1 [==============================] - 0s 10ms/step - loss: 10.9834 - mae: 10.9834\n",
            "Epoch 3/100\n",
            "1/1 [==============================] - 0s 3ms/step - loss: 10.8757 - mae: 10.8757\n",
            "Epoch 4/100\n",
            "1/1 [==============================] - 0s 6ms/step - loss: 10.7680 - mae: 10.7680\n",
            "Epoch 5/100\n",
            "1/1 [==============================] - 0s 7ms/step - loss: 10.6604 - mae: 10.6604\n",
            "Epoch 6/100\n",
            "1/1 [==============================] - 0s 5ms/step - loss: 10.5527 - mae: 10.5527\n",
            "Epoch 7/100\n",
            "1/1 [==============================] - 0s 6ms/step - loss: 10.4451 - mae: 10.4451\n",
            "Epoch 8/100\n",
            "1/1 [==============================] - 0s 4ms/step - loss: 10.3374 - mae: 10.3374\n",
            "Epoch 9/100\n",
            "1/1 [==============================] - 0s 3ms/step - loss: 10.2298 - mae: 10.2298\n",
            "Epoch 10/100\n",
            "1/1 [==============================] - 0s 3ms/step - loss: 10.1221 - mae: 10.1221\n",
            "Epoch 11/100\n",
            "1/1 [==============================] - 0s 5ms/step - loss: 10.0145 - mae: 10.0145\n",
            "Epoch 12/100\n",
            "1/1 [==============================] - 0s 4ms/step - loss: 9.9068 - mae: 9.9068\n",
            "Epoch 13/100\n",
            "1/1 [==============================] - 0s 4ms/step - loss: 9.7991 - mae: 9.7991\n",
            "Epoch 14/100\n",
            "1/1 [==============================] - 0s 13ms/step - loss: 9.6915 - mae: 9.6915\n",
            "Epoch 15/100\n",
            "1/1 [==============================] - 0s 4ms/step - loss: 9.5838 - mae: 9.5838\n",
            "Epoch 16/100\n",
            "1/1 [==============================] - 0s 4ms/step - loss: 9.4762 - mae: 9.4762\n",
            "Epoch 17/100\n",
            "1/1 [==============================] - 0s 6ms/step - loss: 9.3685 - mae: 9.3685\n",
            "Epoch 18/100\n",
            "1/1 [==============================] - 0s 3ms/step - loss: 9.2609 - mae: 9.2609\n",
            "Epoch 19/100\n",
            "1/1 [==============================] - 0s 4ms/step - loss: 9.1532 - mae: 9.1532\n",
            "Epoch 20/100\n",
            "1/1 [==============================] - 0s 3ms/step - loss: 9.0455 - mae: 9.0455\n",
            "Epoch 21/100\n",
            "1/1 [==============================] - 0s 3ms/step - loss: 8.9379 - mae: 8.9379\n",
            "Epoch 22/100\n",
            "1/1 [==============================] - 0s 4ms/step - loss: 8.8302 - mae: 8.8302\n",
            "Epoch 23/100\n",
            "1/1 [==============================] - 0s 6ms/step - loss: 8.7226 - mae: 8.7226\n",
            "Epoch 24/100\n",
            "1/1 [==============================] - 0s 4ms/step - loss: 8.6149 - mae: 8.6149\n",
            "Epoch 25/100\n",
            "1/1 [==============================] - 0s 3ms/step - loss: 8.5073 - mae: 8.5073\n",
            "Epoch 26/100\n",
            "1/1 [==============================] - 0s 3ms/step - loss: 8.3996 - mae: 8.3996\n",
            "Epoch 27/100\n",
            "1/1 [==============================] - 0s 4ms/step - loss: 8.2920 - mae: 8.2920\n",
            "Epoch 28/100\n",
            "1/1 [==============================] - 0s 3ms/step - loss: 8.1843 - mae: 8.1843\n",
            "Epoch 29/100\n",
            "1/1 [==============================] - 0s 3ms/step - loss: 8.0766 - mae: 8.0766\n",
            "Epoch 30/100\n",
            "1/1 [==============================] - 0s 3ms/step - loss: 7.9690 - mae: 7.9690\n",
            "Epoch 31/100\n",
            "1/1 [==============================] - 0s 3ms/step - loss: 7.8613 - mae: 7.8613\n",
            "Epoch 32/100\n",
            "1/1 [==============================] - 0s 5ms/step - loss: 7.7537 - mae: 7.7537\n",
            "Epoch 33/100\n",
            "1/1 [==============================] - 0s 3ms/step - loss: 7.6460 - mae: 7.6460\n",
            "Epoch 34/100\n",
            "1/1 [==============================] - 0s 3ms/step - loss: 7.5384 - mae: 7.5384\n",
            "Epoch 35/100\n",
            "1/1 [==============================] - 0s 3ms/step - loss: 7.4307 - mae: 7.4307\n",
            "Epoch 36/100\n",
            "1/1 [==============================] - 0s 10ms/step - loss: 7.3230 - mae: 7.3230\n",
            "Epoch 37/100\n",
            "1/1 [==============================] - 0s 8ms/step - loss: 7.2154 - mae: 7.2154\n",
            "Epoch 38/100\n",
            "1/1 [==============================] - 0s 18ms/step - loss: 7.1216 - mae: 7.1216\n",
            "Epoch 39/100\n",
            "1/1 [==============================] - 0s 8ms/step - loss: 7.1158 - mae: 7.1158\n",
            "Epoch 40/100\n",
            "1/1 [==============================] - 0s 3ms/step - loss: 7.1100 - mae: 7.1100\n",
            "Epoch 41/100\n",
            "1/1 [==============================] - 0s 3ms/step - loss: 7.1043 - mae: 7.1043\n",
            "Epoch 42/100\n",
            "1/1 [==============================] - 0s 3ms/step - loss: 7.0985 - mae: 7.0985\n",
            "Epoch 43/100\n",
            "1/1 [==============================] - 0s 5ms/step - loss: 7.0927 - mae: 7.0927\n",
            "Epoch 44/100\n",
            "1/1 [==============================] - 0s 18ms/step - loss: 7.0869 - mae: 7.0869\n",
            "Epoch 45/100\n",
            "1/1 [==============================] - 0s 4ms/step - loss: 7.0811 - mae: 7.0811\n",
            "Epoch 46/100\n",
            "1/1 [==============================] - 0s 4ms/step - loss: 7.0754 - mae: 7.0754\n",
            "Epoch 47/100\n",
            "1/1 [==============================] - 0s 3ms/step - loss: 7.0696 - mae: 7.0696\n",
            "Epoch 48/100\n",
            "1/1 [==============================] - 0s 4ms/step - loss: 7.0638 - mae: 7.0638\n",
            "Epoch 49/100\n",
            "1/1 [==============================] - 0s 4ms/step - loss: 7.0580 - mae: 7.0580\n",
            "Epoch 50/100\n",
            "1/1 [==============================] - 0s 5ms/step - loss: 7.0522 - mae: 7.0522\n",
            "Epoch 51/100\n",
            "1/1 [==============================] - 0s 4ms/step - loss: 7.0465 - mae: 7.0465\n",
            "Epoch 52/100\n",
            "1/1 [==============================] - 0s 4ms/step - loss: 7.0407 - mae: 7.0407\n",
            "Epoch 53/100\n",
            "1/1 [==============================] - 0s 5ms/step - loss: 7.0349 - mae: 7.0349\n",
            "Epoch 54/100\n",
            "1/1 [==============================] - 0s 4ms/step - loss: 7.0291 - mae: 7.0291\n",
            "Epoch 55/100\n",
            "1/1 [==============================] - 0s 4ms/step - loss: 7.0233 - mae: 7.0233\n",
            "Epoch 56/100\n",
            "1/1 [==============================] - 0s 4ms/step - loss: 7.0175 - mae: 7.0175\n",
            "Epoch 57/100\n",
            "1/1 [==============================] - 0s 6ms/step - loss: 7.0118 - mae: 7.0118\n",
            "Epoch 58/100\n",
            "1/1 [==============================] - 0s 6ms/step - loss: 7.0060 - mae: 7.0060\n",
            "Epoch 59/100\n",
            "1/1 [==============================] - 0s 5ms/step - loss: 7.0002 - mae: 7.0002\n",
            "Epoch 60/100\n",
            "1/1 [==============================] - 0s 3ms/step - loss: 6.9944 - mae: 6.9944\n",
            "Epoch 61/100\n",
            "1/1 [==============================] - 0s 6ms/step - loss: 6.9886 - mae: 6.9886\n",
            "Epoch 62/100\n",
            "1/1 [==============================] - 0s 3ms/step - loss: 6.9829 - mae: 6.9829\n",
            "Epoch 63/100\n",
            "1/1 [==============================] - 0s 4ms/step - loss: 6.9771 - mae: 6.9771\n",
            "Epoch 64/100\n",
            "1/1 [==============================] - 0s 5ms/step - loss: 6.9713 - mae: 6.9713\n",
            "Epoch 65/100\n",
            "1/1 [==============================] - 0s 8ms/step - loss: 6.9655 - mae: 6.9655\n",
            "Epoch 66/100\n",
            "1/1 [==============================] - 0s 3ms/step - loss: 6.9597 - mae: 6.9597\n",
            "Epoch 67/100\n",
            "1/1 [==============================] - 0s 5ms/step - loss: 6.9540 - mae: 6.9540\n",
            "Epoch 68/100\n",
            "1/1 [==============================] - 0s 3ms/step - loss: 6.9482 - mae: 6.9482\n",
            "Epoch 69/100\n",
            "1/1 [==============================] - 0s 4ms/step - loss: 6.9424 - mae: 6.9424\n",
            "Epoch 70/100\n",
            "1/1 [==============================] - 0s 3ms/step - loss: 6.9366 - mae: 6.9366\n",
            "Epoch 71/100\n",
            "1/1 [==============================] - 0s 5ms/step - loss: 6.9308 - mae: 6.9308\n",
            "Epoch 72/100\n",
            "1/1 [==============================] - 0s 3ms/step - loss: 6.9250 - mae: 6.9250\n",
            "Epoch 73/100\n",
            "1/1 [==============================] - 0s 6ms/step - loss: 6.9193 - mae: 6.9193\n",
            "Epoch 74/100\n",
            "1/1 [==============================] - 0s 3ms/step - loss: 6.9168 - mae: 6.9168\n",
            "Epoch 75/100\n",
            "1/1 [==============================] - 0s 9ms/step - loss: 6.9130 - mae: 6.9130\n",
            "Epoch 76/100\n",
            "1/1 [==============================] - 0s 2ms/step - loss: 6.9072 - mae: 6.9072\n",
            "Epoch 77/100\n",
            "1/1 [==============================] - 0s 5ms/step - loss: 6.9015 - mae: 6.9015\n",
            "Epoch 78/100\n",
            "1/1 [==============================] - 0s 3ms/step - loss: 6.8957 - mae: 6.8957\n",
            "Epoch 79/100\n",
            "1/1 [==============================] - 0s 20ms/step - loss: 6.8899 - mae: 6.8899\n",
            "Epoch 80/100\n",
            "1/1 [==============================] - 0s 6ms/step - loss: 6.8841 - mae: 6.8841\n",
            "Epoch 81/100\n",
            "1/1 [==============================] - 0s 3ms/step - loss: 6.8783 - mae: 6.8783\n",
            "Epoch 82/100\n",
            "1/1 [==============================] - 0s 4ms/step - loss: 6.8725 - mae: 6.8725\n",
            "Epoch 83/100\n",
            "1/1 [==============================] - 0s 9ms/step - loss: 6.8668 - mae: 6.8668\n",
            "Epoch 84/100\n",
            "1/1 [==============================] - 0s 5ms/step - loss: 6.8610 - mae: 6.8610\n",
            "Epoch 85/100\n",
            "1/1 [==============================] - 0s 6ms/step - loss: 6.8552 - mae: 6.8552\n",
            "Epoch 86/100\n",
            "1/1 [==============================] - 0s 3ms/step - loss: 6.8494 - mae: 6.8494\n",
            "Epoch 87/100\n",
            "1/1 [==============================] - 0s 8ms/step - loss: 6.8436 - mae: 6.8436\n",
            "Epoch 88/100\n",
            "1/1 [==============================] - 0s 5ms/step - loss: 6.8393 - mae: 6.8393\n",
            "Epoch 89/100\n",
            "1/1 [==============================] - 0s 3ms/step - loss: 6.8374 - mae: 6.8374\n",
            "Epoch 90/100\n",
            "1/1 [==============================] - 0s 4ms/step - loss: 6.8316 - mae: 6.8316\n",
            "Epoch 91/100\n",
            "1/1 [==============================] - 0s 7ms/step - loss: 6.8258 - mae: 6.8258\n",
            "Epoch 92/100\n",
            "1/1 [==============================] - 0s 3ms/step - loss: 6.8200 - mae: 6.8200\n",
            "Epoch 93/100\n",
            "1/1 [==============================] - 0s 3ms/step - loss: 6.8143 - mae: 6.8143\n",
            "Epoch 94/100\n",
            "1/1 [==============================] - 0s 3ms/step - loss: 6.8085 - mae: 6.8085\n",
            "Epoch 95/100\n",
            "1/1 [==============================] - 0s 4ms/step - loss: 6.8027 - mae: 6.8027\n",
            "Epoch 96/100\n",
            "1/1 [==============================] - 0s 7ms/step - loss: 6.7969 - mae: 6.7969\n",
            "Epoch 97/100\n",
            "1/1 [==============================] - 0s 3ms/step - loss: 6.7911 - mae: 6.7911\n",
            "Epoch 98/100\n",
            "1/1 [==============================] - 0s 3ms/step - loss: 6.7854 - mae: 6.7854\n",
            "Epoch 99/100\n",
            "1/1 [==============================] - 0s 6ms/step - loss: 6.7796 - mae: 6.7796\n",
            "Epoch 100/100\n",
            "1/1 [==============================] - 0s 3ms/step - loss: 6.7738 - mae: 6.7738\n"
          ],
          "name": "stdout"
        },
        {
          "output_type": "execute_result",
          "data": {
            "text/plain": [
              "<tensorflow.python.keras.callbacks.History at 0x7f40578d1790>"
            ]
          },
          "metadata": {
            "tags": []
          },
          "execution_count": 16
        }
      ]
    },
    {
      "cell_type": "code",
      "metadata": {
        "colab": {
          "base_uri": "https://localhost:8080/"
        },
        "id": "EdVoLmf1D5j2",
        "outputId": "7570e9a0-2282-4e5b-84dc-800c52afeab3"
      },
      "source": [
        "model.predict([19.0])"
      ],
      "execution_count": 17,
      "outputs": [
        {
          "output_type": "execute_result",
          "data": {
            "text/plain": [
              "array([[35.62414]], dtype=float32)"
            ]
          },
          "metadata": {
            "tags": []
          },
          "execution_count": 17
        }
      ]
    },
    {
      "cell_type": "code",
      "metadata": {
        "colab": {
          "base_uri": "https://localhost:8080/"
        },
        "id": "qsfN-ylLEW3F",
        "outputId": "3f502035-b680-44c2-9296-9e312f72f36b"
      },
      "source": [
        "# Let's see if we can make another change to improve our model\n",
        "\n",
        "\n",
        "# Create a model (this time with extra hidden layer with 100 hidden units)\n",
        "model = tf.keras.Sequential([\n",
        " tf.keras.layers.Dense(50,activation = None),\n",
        " tf.keras.layers.Dense(1)\n",
        "])\n",
        "\n",
        "# Compile the model\n",
        "model.compile(loss=tf.keras.losses.mae,\n",
        "              optimizer = tf.keras.optimizers.Adam(lr=0.01),\n",
        "              metrics = [\"mae\"])\n",
        "\n",
        "# Fit the model\n",
        "model.fit(X,y,epochs=100)"
      ],
      "execution_count": 18,
      "outputs": [
        {
          "output_type": "stream",
          "text": [
            "/usr/local/lib/python3.7/dist-packages/tensorflow/python/keras/optimizer_v2/optimizer_v2.py:375: UserWarning: The `lr` argument is deprecated, use `learning_rate` instead.\n",
            "  \"The `lr` argument is deprecated, use `learning_rate` instead.\")\n"
          ],
          "name": "stderr"
        },
        {
          "output_type": "stream",
          "text": [
            "Epoch 1/100\n",
            "1/1 [==============================] - 0s 334ms/step - loss: 11.5788 - mae: 11.5788\n",
            "Epoch 2/100\n",
            "1/1 [==============================] - 0s 5ms/step - loss: 10.9691 - mae: 10.9691\n",
            "Epoch 3/100\n",
            "1/1 [==============================] - 0s 4ms/step - loss: 10.3508 - mae: 10.3508\n",
            "Epoch 4/100\n",
            "1/1 [==============================] - 0s 4ms/step - loss: 9.7211 - mae: 9.7211\n",
            "Epoch 5/100\n",
            "1/1 [==============================] - 0s 3ms/step - loss: 9.0755 - mae: 9.0755\n",
            "Epoch 6/100\n",
            "1/1 [==============================] - 0s 5ms/step - loss: 8.4100 - mae: 8.4100\n",
            "Epoch 7/100\n",
            "1/1 [==============================] - 0s 3ms/step - loss: 7.7210 - mae: 7.7210\n",
            "Epoch 8/100\n",
            "1/1 [==============================] - 0s 3ms/step - loss: 7.0057 - mae: 7.0057\n",
            "Epoch 9/100\n",
            "1/1 [==============================] - 0s 3ms/step - loss: 7.0152 - mae: 7.0152\n",
            "Epoch 10/100\n",
            "1/1 [==============================] - 0s 4ms/step - loss: 7.4622 - mae: 7.4622\n",
            "Epoch 11/100\n",
            "1/1 [==============================] - 0s 4ms/step - loss: 7.7071 - mae: 7.7071\n",
            "Epoch 12/100\n",
            "1/1 [==============================] - 0s 7ms/step - loss: 7.6757 - mae: 7.6757\n",
            "Epoch 13/100\n",
            "1/1 [==============================] - 0s 4ms/step - loss: 7.4491 - mae: 7.4491\n",
            "Epoch 14/100\n",
            "1/1 [==============================] - 0s 3ms/step - loss: 7.0822 - mae: 7.0822\n",
            "Epoch 15/100\n",
            "1/1 [==============================] - 0s 3ms/step - loss: 6.7166 - mae: 6.7166\n",
            "Epoch 16/100\n",
            "1/1 [==============================] - 0s 3ms/step - loss: 6.4328 - mae: 6.4328\n",
            "Epoch 17/100\n",
            "1/1 [==============================] - 0s 4ms/step - loss: 6.3043 - mae: 6.3043\n",
            "Epoch 18/100\n",
            "1/1 [==============================] - 0s 4ms/step - loss: 6.5012 - mae: 6.5012\n",
            "Epoch 19/100\n",
            "1/1 [==============================] - 0s 5ms/step - loss: 6.6049 - mae: 6.6049\n",
            "Epoch 20/100\n",
            "1/1 [==============================] - 0s 5ms/step - loss: 6.6159 - mae: 6.6159\n",
            "Epoch 21/100\n",
            "1/1 [==============================] - 0s 5ms/step - loss: 6.5467 - mae: 6.5467\n",
            "Epoch 22/100\n",
            "1/1 [==============================] - 0s 6ms/step - loss: 6.4063 - mae: 6.4063\n",
            "Epoch 23/100\n",
            "1/1 [==============================] - 0s 5ms/step - loss: 6.2014 - mae: 6.2014\n",
            "Epoch 24/100\n",
            "1/1 [==============================] - 0s 6ms/step - loss: 5.9365 - mae: 5.9365\n",
            "Epoch 25/100\n",
            "1/1 [==============================] - 0s 3ms/step - loss: 5.7057 - mae: 5.7057\n",
            "Epoch 26/100\n",
            "1/1 [==============================] - 0s 5ms/step - loss: 5.7022 - mae: 5.7022\n",
            "Epoch 27/100\n",
            "1/1 [==============================] - 0s 7ms/step - loss: 5.7302 - mae: 5.7302\n",
            "Epoch 28/100\n",
            "1/1 [==============================] - 0s 6ms/step - loss: 5.7154 - mae: 5.7154\n",
            "Epoch 29/100\n",
            "1/1 [==============================] - 0s 6ms/step - loss: 5.6613 - mae: 5.6613\n",
            "Epoch 30/100\n",
            "1/1 [==============================] - 0s 5ms/step - loss: 5.5713 - mae: 5.5713\n",
            "Epoch 31/100\n",
            "1/1 [==============================] - 0s 5ms/step - loss: 5.4491 - mae: 5.4491\n",
            "Epoch 32/100\n",
            "1/1 [==============================] - 0s 6ms/step - loss: 5.2980 - mae: 5.2980\n",
            "Epoch 33/100\n",
            "1/1 [==============================] - 0s 3ms/step - loss: 5.1211 - mae: 5.1211\n",
            "Epoch 34/100\n",
            "1/1 [==============================] - 0s 5ms/step - loss: 4.9214 - mae: 4.9214\n",
            "Epoch 35/100\n",
            "1/1 [==============================] - 0s 4ms/step - loss: 4.8664 - mae: 4.8664\n",
            "Epoch 36/100\n",
            "1/1 [==============================] - 0s 11ms/step - loss: 4.8706 - mae: 4.8706\n",
            "Epoch 37/100\n",
            "1/1 [==============================] - 0s 4ms/step - loss: 4.7772 - mae: 4.7772\n",
            "Epoch 38/100\n",
            "1/1 [==============================] - 0s 4ms/step - loss: 4.5949 - mae: 4.5949\n",
            "Epoch 39/100\n",
            "1/1 [==============================] - 0s 4ms/step - loss: 4.4090 - mae: 4.4090\n",
            "Epoch 40/100\n",
            "1/1 [==============================] - 0s 4ms/step - loss: 4.3380 - mae: 4.3380\n",
            "Epoch 41/100\n",
            "1/1 [==============================] - 0s 3ms/step - loss: 4.2762 - mae: 4.2762\n",
            "Epoch 42/100\n",
            "1/1 [==============================] - 0s 3ms/step - loss: 4.1748 - mae: 4.1748\n",
            "Epoch 43/100\n",
            "1/1 [==============================] - 0s 3ms/step - loss: 4.0361 - mae: 4.0361\n",
            "Epoch 44/100\n",
            "1/1 [==============================] - 0s 3ms/step - loss: 3.8628 - mae: 3.8628\n",
            "Epoch 45/100\n",
            "1/1 [==============================] - 0s 5ms/step - loss: 3.6572 - mae: 3.6572\n",
            "Epoch 46/100\n",
            "1/1 [==============================] - 0s 3ms/step - loss: 3.5530 - mae: 3.5530\n",
            "Epoch 47/100\n",
            "1/1 [==============================] - 0s 4ms/step - loss: 3.4638 - mae: 3.4638\n",
            "Epoch 48/100\n",
            "1/1 [==============================] - 0s 4ms/step - loss: 3.2639 - mae: 3.2639\n",
            "Epoch 49/100\n",
            "1/1 [==============================] - 0s 4ms/step - loss: 3.0601 - mae: 3.0601\n",
            "Epoch 50/100\n",
            "1/1 [==============================] - 0s 3ms/step - loss: 2.9449 - mae: 2.9449\n",
            "Epoch 51/100\n",
            "1/1 [==============================] - 0s 4ms/step - loss: 2.7852 - mae: 2.7852\n",
            "Epoch 52/100\n",
            "1/1 [==============================] - 0s 3ms/step - loss: 2.5833 - mae: 2.5833\n",
            "Epoch 53/100\n",
            "1/1 [==============================] - 0s 3ms/step - loss: 2.3853 - mae: 2.3853\n",
            "Epoch 54/100\n",
            "1/1 [==============================] - 0s 5ms/step - loss: 2.2576 - mae: 2.2576\n",
            "Epoch 55/100\n",
            "1/1 [==============================] - 0s 4ms/step - loss: 2.0260 - mae: 2.0260\n",
            "Epoch 56/100\n",
            "1/1 [==============================] - 0s 5ms/step - loss: 1.8277 - mae: 1.8277\n",
            "Epoch 57/100\n",
            "1/1 [==============================] - 0s 14ms/step - loss: 1.6626 - mae: 1.6626\n",
            "Epoch 58/100\n",
            "1/1 [==============================] - 0s 4ms/step - loss: 1.4475 - mae: 1.4475\n",
            "Epoch 59/100\n",
            "1/1 [==============================] - 0s 6ms/step - loss: 1.1459 - mae: 1.1459\n",
            "Epoch 60/100\n",
            "1/1 [==============================] - 0s 5ms/step - loss: 1.0048 - mae: 1.0048\n",
            "Epoch 61/100\n",
            "1/1 [==============================] - 0s 4ms/step - loss: 0.7488 - mae: 0.7488\n",
            "Epoch 62/100\n",
            "1/1 [==============================] - 0s 13ms/step - loss: 0.4747 - mae: 0.4747\n",
            "Epoch 63/100\n",
            "1/1 [==============================] - 0s 3ms/step - loss: 0.2192 - mae: 0.2192\n",
            "Epoch 64/100\n",
            "1/1 [==============================] - 0s 7ms/step - loss: 0.3048 - mae: 0.3048\n",
            "Epoch 65/100\n",
            "1/1 [==============================] - 0s 5ms/step - loss: 0.2999 - mae: 0.2999\n",
            "Epoch 66/100\n",
            "1/1 [==============================] - 0s 6ms/step - loss: 0.6295 - mae: 0.6295\n",
            "Epoch 67/100\n",
            "1/1 [==============================] - 0s 9ms/step - loss: 0.7672 - mae: 0.7672\n",
            "Epoch 68/100\n",
            "1/1 [==============================] - 0s 11ms/step - loss: 0.7223 - mae: 0.7223\n",
            "Epoch 69/100\n",
            "1/1 [==============================] - 0s 8ms/step - loss: 0.7620 - mae: 0.7620\n",
            "Epoch 70/100\n",
            "1/1 [==============================] - 0s 11ms/step - loss: 0.8188 - mae: 0.8188\n",
            "Epoch 71/100\n",
            "1/1 [==============================] - 0s 7ms/step - loss: 0.6256 - mae: 0.6256\n",
            "Epoch 72/100\n",
            "1/1 [==============================] - 0s 10ms/step - loss: 0.7180 - mae: 0.7180\n",
            "Epoch 73/100\n",
            "1/1 [==============================] - 0s 7ms/step - loss: 0.6889 - mae: 0.6889\n",
            "Epoch 74/100\n",
            "1/1 [==============================] - 0s 7ms/step - loss: 0.5105 - mae: 0.5105\n",
            "Epoch 75/100\n",
            "1/1 [==============================] - 0s 5ms/step - loss: 0.2269 - mae: 0.2269\n",
            "Epoch 76/100\n",
            "1/1 [==============================] - 0s 5ms/step - loss: 0.2734 - mae: 0.2734\n",
            "Epoch 77/100\n",
            "1/1 [==============================] - 0s 5ms/step - loss: 0.0781 - mae: 0.0781\n",
            "Epoch 78/100\n",
            "1/1 [==============================] - 0s 3ms/step - loss: 0.1689 - mae: 0.1689\n",
            "Epoch 79/100\n",
            "1/1 [==============================] - 0s 3ms/step - loss: 0.2830 - mae: 0.2830\n",
            "Epoch 80/100\n",
            "1/1 [==============================] - 0s 4ms/step - loss: 0.2612 - mae: 0.2612\n",
            "Epoch 81/100\n",
            "1/1 [==============================] - 0s 3ms/step - loss: 0.3117 - mae: 0.3117\n",
            "Epoch 82/100\n",
            "1/1 [==============================] - 0s 4ms/step - loss: 0.2354 - mae: 0.2354\n",
            "Epoch 83/100\n",
            "1/1 [==============================] - 0s 7ms/step - loss: 0.2802 - mae: 0.2802\n",
            "Epoch 84/100\n",
            "1/1 [==============================] - 0s 5ms/step - loss: 0.1976 - mae: 0.1976\n",
            "Epoch 85/100\n",
            "1/1 [==============================] - 0s 8ms/step - loss: 0.0774 - mae: 0.0774\n",
            "Epoch 86/100\n",
            "1/1 [==============================] - 0s 4ms/step - loss: 0.1862 - mae: 0.1862\n",
            "Epoch 87/100\n",
            "1/1 [==============================] - 0s 4ms/step - loss: 0.1941 - mae: 0.1941\n",
            "Epoch 88/100\n",
            "1/1 [==============================] - 0s 4ms/step - loss: 0.2279 - mae: 0.2279\n",
            "Epoch 89/100\n",
            "1/1 [==============================] - 0s 4ms/step - loss: 0.2609 - mae: 0.2609\n",
            "Epoch 90/100\n",
            "1/1 [==============================] - 0s 4ms/step - loss: 0.1780 - mae: 0.1780\n",
            "Epoch 91/100\n",
            "1/1 [==============================] - 0s 12ms/step - loss: 0.1724 - mae: 0.1724\n",
            "Epoch 92/100\n",
            "1/1 [==============================] - 0s 25ms/step - loss: 0.1017 - mae: 0.1017\n",
            "Epoch 93/100\n",
            "1/1 [==============================] - 0s 3ms/step - loss: 0.1419 - mae: 0.1419\n",
            "Epoch 94/100\n",
            "1/1 [==============================] - 0s 4ms/step - loss: 0.1055 - mae: 0.1055\n",
            "Epoch 95/100\n",
            "1/1 [==============================] - 0s 3ms/step - loss: 0.1255 - mae: 0.1255\n",
            "Epoch 96/100\n",
            "1/1 [==============================] - 0s 3ms/step - loss: 0.1825 - mae: 0.1825\n",
            "Epoch 97/100\n",
            "1/1 [==============================] - 0s 4ms/step - loss: 0.0978 - mae: 0.0978\n",
            "Epoch 98/100\n",
            "1/1 [==============================] - 0s 5ms/step - loss: 0.0458 - mae: 0.0458\n",
            "Epoch 99/100\n",
            "1/1 [==============================] - 0s 3ms/step - loss: 0.1462 - mae: 0.1462\n",
            "Epoch 100/100\n",
            "1/1 [==============================] - 0s 4ms/step - loss: 0.1087 - mae: 0.1087\n"
          ],
          "name": "stdout"
        },
        {
          "output_type": "execute_result",
          "data": {
            "text/plain": [
              "<tensorflow.python.keras.callbacks.History at 0x7f4055f7fdd0>"
            ]
          },
          "metadata": {
            "tags": []
          },
          "execution_count": 18
        }
      ]
    },
    {
      "cell_type": "code",
      "metadata": {
        "colab": {
          "base_uri": "https://localhost:8080/"
        },
        "id": "rO7tzp9aMF7e",
        "outputId": "ce45bebc-e11a-4b30-8b18-7cc8de01662a"
      },
      "source": [
        "model.predict([17.0])"
      ],
      "execution_count": 19,
      "outputs": [
        {
          "output_type": "execute_result",
          "data": {
            "text/plain": [
              "array([[26.228556]], dtype=float32)"
            ]
          },
          "metadata": {
            "tags": []
          },
          "execution_count": 19
        }
      ]
    },
    {
      "cell_type": "markdown",
      "metadata": {
        "id": "fjSJwDWaMkch"
      },
      "source": [
        "# Learning rate is the most important hyper parameter of many different neural networks."
      ]
    },
    {
      "cell_type": "markdown",
      "metadata": {
        "id": "ESKxVp5YO2eQ"
      },
      "source": [
        "# Evaluatin the model\n",
        "\n",
        "In Practice, a typical workflow you ll go through when building neural network is:\n",
        "\n",
        "```\n",
        "Build a model -> fit it -> evaluate it -> tweak a model -> fit it -> evaluate it ->\n",
        "-> tweak a model -> fit the model -> evaluate it....\n",
        "```"
      ]
    },
    {
      "cell_type": "markdown",
      "metadata": {
        "id": "5vXdAKGEnR4n"
      },
      "source": [
        "When it comes to evaluation, there are 3 words you should memorize:\n",
        "\n",
        "> \"visualize, visualize, visualize\"\n",
        "\n",
        "it is good idea to visualize:\n",
        "* The data - what data we are working with? What does it look like?\n",
        "* The model itself - What does our model look like?\n",
        "* The training of a model - How does model perform while it learns?\n",
        "* The prediction of the model - How do the predictions of model line up\n",
        "against the ground truth?(the original label)"
      ]
    },
    {
      "cell_type": "code",
      "metadata": {
        "colab": {
          "base_uri": "https://localhost:8080/"
        },
        "id": "GDmkug7VneX6",
        "outputId": "83ea3d2f-8796-4374-9b88-5105ff73756f"
      },
      "source": [
        "# Make a bigger dataset\n",
        "X = tf.range(-100,100,4)\n",
        "X"
      ],
      "execution_count": 20,
      "outputs": [
        {
          "output_type": "execute_result",
          "data": {
            "text/plain": [
              "<tf.Tensor: shape=(50,), dtype=int32, numpy=\n",
              "array([-100,  -96,  -92,  -88,  -84,  -80,  -76,  -72,  -68,  -64,  -60,\n",
              "        -56,  -52,  -48,  -44,  -40,  -36,  -32,  -28,  -24,  -20,  -16,\n",
              "        -12,   -8,   -4,    0,    4,    8,   12,   16,   20,   24,   28,\n",
              "         32,   36,   40,   44,   48,   52,   56,   60,   64,   68,   72,\n",
              "         76,   80,   84,   88,   92,   96], dtype=int32)>"
            ]
          },
          "metadata": {
            "tags": []
          },
          "execution_count": 20
        }
      ]
    },
    {
      "cell_type": "code",
      "metadata": {
        "colab": {
          "base_uri": "https://localhost:8080/"
        },
        "id": "GR2OntCKqoYW",
        "outputId": "e7af16dd-85a8-43ee-a87c-becbf8779b93"
      },
      "source": [
        "X.shape,X.ndim"
      ],
      "execution_count": 21,
      "outputs": [
        {
          "output_type": "execute_result",
          "data": {
            "text/plain": [
              "(TensorShape([50]), 1)"
            ]
          },
          "metadata": {
            "tags": []
          },
          "execution_count": 21
        }
      ]
    },
    {
      "cell_type": "code",
      "metadata": {
        "colab": {
          "base_uri": "https://localhost:8080/"
        },
        "id": "rf6C794bqrgp",
        "outputId": "c9ac431b-2747-4c75-9405-7014cb2348c5"
      },
      "source": [
        "tf.size(X)"
      ],
      "execution_count": 22,
      "outputs": [
        {
          "output_type": "execute_result",
          "data": {
            "text/plain": [
              "<tf.Tensor: shape=(), dtype=int32, numpy=50>"
            ]
          },
          "metadata": {
            "tags": []
          },
          "execution_count": 22
        }
      ]
    },
    {
      "cell_type": "code",
      "metadata": {
        "colab": {
          "base_uri": "https://localhost:8080/"
        },
        "id": "XjI6KsncqwaS",
        "outputId": "6e682d20-bda6-43ac-bd66-048da7a9a6a1"
      },
      "source": [
        "# Make labels for the  dataset\n",
        "y = X + 10\n",
        "y\n"
      ],
      "execution_count": 23,
      "outputs": [
        {
          "output_type": "execute_result",
          "data": {
            "text/plain": [
              "<tf.Tensor: shape=(50,), dtype=int32, numpy=\n",
              "array([-90, -86, -82, -78, -74, -70, -66, -62, -58, -54, -50, -46, -42,\n",
              "       -38, -34, -30, -26, -22, -18, -14, -10,  -6,  -2,   2,   6,  10,\n",
              "        14,  18,  22,  26,  30,  34,  38,  42,  46,  50,  54,  58,  62,\n",
              "        66,  70,  74,  78,  82,  86,  90,  94,  98, 102, 106], dtype=int32)>"
            ]
          },
          "metadata": {
            "tags": []
          },
          "execution_count": 23
        }
      ]
    },
    {
      "cell_type": "code",
      "metadata": {
        "colab": {
          "base_uri": "https://localhost:8080/",
          "height": 0
        },
        "id": "HipUpouzry03",
        "outputId": "878c8c4f-474d-4c31-dd72-1e1501fb214d"
      },
      "source": [
        "# Visualize the data\n",
        "import matplotlib.pyplot as plt\n",
        "\n",
        "plt.plot(X,y)"
      ],
      "execution_count": 24,
      "outputs": [
        {
          "output_type": "execute_result",
          "data": {
            "text/plain": [
              "[<matplotlib.lines.Line2D at 0x7f405494ee90>]"
            ]
          },
          "metadata": {
            "tags": []
          },
          "execution_count": 24
        },
        {
          "output_type": "display_data",
          "data": {
            "image/png": "[encoded data removed]",
            "text/plain": [
              "<Figure size 432x288 with 1 Axes>"
            ]
          },
          "metadata": {
            "tags": [],
            "needs_background": "light"
          }
        }
      ]
    },
    {
      "cell_type": "markdown",
      "metadata": {
        "id": "5tTwyDgIsIX_"
      },
      "source": [
        "# The 3 sets\n",
        "\n",
        "* **Training set** - the model learn from this data, which is typically 70-80% of total dataset you have available.\n",
        "* **Validation set** - the model gets tuned on this dataset, which is 10-15% of data available.\n",
        "* **Test set** - the model gets evaluated on this data to test what is has learned? this data typically is 10-15% of data availabale.\n",
        "> Generalization - the ability of a machine learning model to perform well on the data it hasn't seen before."
      ]
    },
    {
      "cell_type": "code",
      "metadata": {
        "colab": {
          "base_uri": "https://localhost:8080/"
        },
        "id": "wSuvkX5R1DDt",
        "outputId": "5277d14a-26ed-4de1-8149-75866d7028f4"
      },
      "source": [
        "# Check the length of how many samples we have\n",
        "len(X)"
      ],
      "execution_count": 25,
      "outputs": [
        {
          "output_type": "execute_result",
          "data": {
            "text/plain": [
              "50"
            ]
          },
          "metadata": {
            "tags": []
          },
          "execution_count": 25
        }
      ]
    },
    {
      "cell_type": "code",
      "metadata": {
        "colab": {
          "base_uri": "https://localhost:8080/"
        },
        "id": "wjY3S1yX15S7",
        "outputId": "26f87001-d016-4299-bd60-0f67dd592d54"
      },
      "source": [
        "# Split the data into train and test sets\n",
        "X_train = X[:40]\n",
        "y_train = y[:40]\n",
        "X_train,y_train"
      ],
      "execution_count": 26,
      "outputs": [
        {
          "output_type": "execute_result",
          "data": {
            "text/plain": [
              "(<tf.Tensor: shape=(40,), dtype=int32, numpy=\n",
              " array([-100,  -96,  -92,  -88,  -84,  -80,  -76,  -72,  -68,  -64,  -60,\n",
              "         -56,  -52,  -48,  -44,  -40,  -36,  -32,  -28,  -24,  -20,  -16,\n",
              "         -12,   -8,   -4,    0,    4,    8,   12,   16,   20,   24,   28,\n",
              "          32,   36,   40,   44,   48,   52,   56], dtype=int32)>,\n",
              " <tf.Tensor: shape=(40,), dtype=int32, numpy=\n",
              " array([-90, -86, -82, -78, -74, -70, -66, -62, -58, -54, -50, -46, -42,\n",
              "        -38, -34, -30, -26, -22, -18, -14, -10,  -6,  -2,   2,   6,  10,\n",
              "         14,  18,  22,  26,  30,  34,  38,  42,  46,  50,  54,  58,  62,\n",
              "         66], dtype=int32)>)"
            ]
          },
          "metadata": {
            "tags": []
          },
          "execution_count": 26
        }
      ]
    },
    {
      "cell_type": "code",
      "metadata": {
        "colab": {
          "base_uri": "https://localhost:8080/"
        },
        "id": "HIlrM5Yw3hGj",
        "outputId": "a60fef83-b195-4b51-b8e6-8bb4e7c36235"
      },
      "source": [
        "X_test = X[40:]\n",
        "y_test = y[40:]\n",
        "X_test,y_test"
      ],
      "execution_count": 27,
      "outputs": [
        {
          "output_type": "execute_result",
          "data": {
            "text/plain": [
              "(<tf.Tensor: shape=(10,), dtype=int32, numpy=array([60, 64, 68, 72, 76, 80, 84, 88, 92, 96], dtype=int32)>,\n",
              " <tf.Tensor: shape=(10,), dtype=int32, numpy=array([ 70,  74,  78,  82,  86,  90,  94,  98, 102, 106], dtype=int32)>)"
            ]
          },
          "metadata": {
            "tags": []
          },
          "execution_count": 27
        }
      ]
    },
    {
      "cell_type": "markdown",
      "metadata": {
        "id": "jVawimO13pnc"
      },
      "source": [
        "# Visualizing the data\n",
        " We have got our data in training set and test set... let's visualize it again!!!"
      ]
    },
    {
      "cell_type": "code",
      "metadata": {
        "colab": {
          "base_uri": "https://localhost:8080/",
          "height": 0
        },
        "id": "5PoszUbv41Db",
        "outputId": "9e822e9e-afe4-44b0-c40e-4c4da3e38974"
      },
      "source": [
        "plt.figure(figsize=(10,7))\n",
        "# Plot training data in blue\n",
        "plt.scatter(X_train,y_train, c=\"b\",label=\"Training data\")\n",
        "#Plot test data in green\n",
        "plt.scatter(X_test,y_test,c=\"g\",label=\"Testing data\")\n",
        "#Show a legend\n",
        "plt.legend();"
      ],
      "execution_count": 28,
      "outputs": [
        {
          "output_type": "display_data",
          "data": {
            "image/png": "[encoded data removed]",
            "text/plain": [
              "<Figure size 720x504 with 1 Axes>"
            ]
          },
          "metadata": {
            "tags": [],
            "needs_background": "light"
          }
        }
      ]
    },
    {
      "cell_type": "code",
      "metadata": {
        "id": "cd_R9i3f5b9z"
      },
      "source": [
        "# Let's have a look at how to build a neural network for our data\n",
        "\n",
        "# 1. Create a model\n",
        "model= tf.keras.Sequential([\n",
        " tf.keras.layers.Dense(1,input_shape=[1])\n",
        "])\n",
        "\n",
        "# 2. Compile a model\n",
        "model.compile(loss=tf.keras.losses.mae,\n",
        "              optimizer = tf.keras.optimizers.SGD(),\n",
        "              metrics=[\"mae\"])\n",
        "\n",
        "# 3.Fit the model\n",
        "#model.fit(X_train,y_train)\n"
      ],
      "execution_count": 29,
      "outputs": []
    },
    {
      "cell_type": "markdown",
      "metadata": {
        "id": "T8ZtHXfH-zZD"
      },
      "source": [
        "#Visualizing the model"
      ]
    },
    {
      "cell_type": "code",
      "metadata": {
        "colab": {
          "base_uri": "https://localhost:8080/"
        },
        "id": "09ZKjYN5-6oW",
        "outputId": "2cc5e595-605f-4aac-8884-cb3109c4178b"
      },
      "source": [
        "model.summary()\n"
      ],
      "execution_count": 30,
      "outputs": [
        {
          "output_type": "stream",
          "text": [
            "Model: \"sequential_3\"\n",
            "_________________________________________________________________\n",
            "Layer (type)                 Output Shape              Param #   \n",
            "=================================================================\n",
            "dense_4 (Dense)              (None, 1)                 2         \n",
            "=================================================================\n",
            "Total params: 2\n",
            "Trainable params: 2\n",
            "Non-trainable params: 0\n",
            "_________________________________________________________________\n"
          ],
          "name": "stdout"
        }
      ]
    },
    {
      "cell_type": "markdown",
      "metadata": {
        "id": "CIIQK3W1_IKk"
      },
      "source": [
        "# Let's create a model which builds automatically by defining the input shape argument in the first layer"
      ]
    },
    {
      "cell_type": "code",
      "metadata": {
        "colab": {
          "base_uri": "https://localhost:8080/"
        },
        "id": "JJz4fqCw_-V_",
        "outputId": "ed7a8446-d6e4-45ce-e591-5ff86b162b38"
      },
      "source": [
        "tf.random.set_seed(42)\n",
        "\n",
        "# 1. Create a model (same as above)\n",
        "model = tf.keras.Sequential([\n",
        " tf.keras.layers.Dense(10,input_shape=[1],name=\"input_layer\"),\n",
        " tf.keras.layers.Dense(1,name=\"output_layer\")\n",
        "], name=\"our_first_model\")\n",
        "\n",
        "\n",
        "# 2. Compile a model\n",
        "model.compile(loss=tf.keras.losses.mae,\n",
        "              optimizer=tf.keras.optimizers.SGD(),\n",
        "              metrics=[\"mae\"])\n",
        "\n",
        "# 3. Fit the model\n",
        "model.fit(X_train,y_train,epochs=100,verbose=0)\n",
        "\n"
      ],
      "execution_count": 31,
      "outputs": [
        {
          "output_type": "execute_result",
          "data": {
            "text/plain": [
              "<tensorflow.python.keras.callbacks.History at 0x7f4059a89f90>"
            ]
          },
          "metadata": {
            "tags": []
          },
          "execution_count": 31
        }
      ]
    },
    {
      "cell_type": "code",
      "metadata": {
        "colab": {
          "base_uri": "https://localhost:8080/"
        },
        "id": "NU0wKw31JUnY",
        "outputId": "7d28aaaf-ff1b-493f-8d77-120286844a14"
      },
      "source": [
        "model.summary()\n"
      ],
      "execution_count": 32,
      "outputs": [
        {
          "output_type": "stream",
          "text": [
            "Model: \"our_first_model\"\n",
            "_________________________________________________________________\n",
            "Layer (type)                 Output Shape              Param #   \n",
            "=================================================================\n",
            "input_layer (Dense)          (None, 10)                20        \n",
            "_________________________________________________________________\n",
            "output_layer (Dense)         (None, 1)                 11        \n",
            "=================================================================\n",
            "Total params: 31\n",
            "Trainable params: 31\n",
            "Non-trainable params: 0\n",
            "_________________________________________________________________\n"
          ],
          "name": "stdout"
        }
      ]
    },
    {
      "cell_type": "markdown",
      "metadata": {
        "id": "k5S6rm46JvzO"
      },
      "source": [
        "* Total params - total number of paramaters in the model.\n",
        "* Trainable params - these are parameters (patterns) the model can update as it trains.(weights and biases)\n",
        "* Non-trainable params - these parameters aren't updated during the training.(this is typical when you bring in already learned patterns or parameters from other models during the **transfer learning**)"
      ]
    },
    {
      "cell_type": "markdown",
      "metadata": {
        "id": "C98F41EELu3O"
      },
      "source": [
        " if you want to have a look at what the actual parameters are in a dense layer, you're going to probably find something called a weights matrix and a bias vector."
      ]
    },
    {
      "cell_type": "code",
      "metadata": {
        "colab": {
          "base_uri": "https://localhost:8080/"
        },
        "id": "HoiH1MDqJWdZ",
        "outputId": "76e09d80-1754-4eac-835a-90a72fd3682a"
      },
      "source": [
        "# Let's fit our model to the training data\n",
        "model.fit(X_train,y_train,epochs=100,verbose=0)"
      ],
      "execution_count": 33,
      "outputs": [
        {
          "output_type": "execute_result",
          "data": {
            "text/plain": [
              "<tensorflow.python.keras.callbacks.History at 0x7f40599e8b90>"
            ]
          },
          "metadata": {
            "tags": []
          },
          "execution_count": 33
        }
      ]
    },
    {
      "cell_type": "markdown",
      "metadata": {
        "id": "2tSo0OotSeww"
      },
      "source": [
        "> how can we calculate the number of these parameters within each layer or within the entire network ?\n",
        "* to find this result esentially we just count the number of parameters within each layer and then sum them up to get the total number of parameters within the full network\n",
        "\n",
        "* what we need in order to calculate the number of parameters within an\n",
        "individual layer is the number of inputs to that layer the number of outputs from that layer and whether or not the layer contains biases \n",
        "\n",
        "* inputs(nodes multiply by layer)x otputs(nodes nultiply by layer) == weights\n",
        "\n",
        "* then we just need to understand whether or not the layer contains biases for each node\n",
        "\n",
        "* if it does then we simply add to the weights we just calculated we just calculated the number of biases\n",
        "\n",
        "*  the number of biases will also be equal to the number of nodes in that layer \n",
        "\n",
        "* there are bias terms within our hidden layer and our output layer\n",
        "\n",
        "* first the input layer has no learnable parameters since the input layer is just made up of the input data and the output from the layer is actually just going to be considered as input to the next layer"
      ]
    },
    {
      "cell_type": "code",
      "metadata": {
        "colab": {
          "base_uri": "https://localhost:8080/"
        },
        "id": "orj70BO1SekX",
        "outputId": "477e2a2e-b5a8-4df4-f1da-7f6565d8b2e8"
      },
      "source": [
        "# Get a summary of our model\n",
        "model.summary()\n"
      ],
      "execution_count": 34,
      "outputs": [
        {
          "output_type": "stream",
          "text": [
            "Model: \"our_first_model\"\n",
            "_________________________________________________________________\n",
            "Layer (type)                 Output Shape              Param #   \n",
            "=================================================================\n",
            "input_layer (Dense)          (None, 10)                20        \n",
            "_________________________________________________________________\n",
            "output_layer (Dense)         (None, 1)                 11        \n",
            "=================================================================\n",
            "Total params: 31\n",
            "Trainable params: 31\n",
            "Non-trainable params: 0\n",
            "_________________________________________________________________\n"
          ],
          "name": "stdout"
        }
      ]
    },
    {
      "cell_type": "code",
      "metadata": {
        "colab": {
          "base_uri": "https://localhost:8080/",
          "height": 0
        },
        "id": "w3YQSUd4N-V5",
        "outputId": "fcb28e55-224a-4fea-c82d-2da8086c7278"
      },
      "source": [
        "from tensorflow.keras.utils import plot_model\n",
        "plot_model(model,to_file='model.png',show_shapes=True)"
      ],
      "execution_count": 35,
      "outputs": [
        {
          "output_type": "execute_result",
          "data": {
            "image/png": "[encoded data removed]",
            "text/plain": [
              "<IPython.core.display.Image object>"
            ]
          },
          "metadata": {
            "tags": []
          },
          "execution_count": 35
        }
      ]
    },
    {
      "cell_type": "markdown",
      "metadata": {
        "id": "ZM3X2SZ3JVVp"
      },
      "source": [
        "# Visualizing our model's predictions\n",
        "To visualize predictions, it is good idea to plot them against the ground truth labels.\n",
        "* Often you'll se this in the form of `y_true` or `y_test` versus y_pred(ground truth versus your model's prediction)."
      ]
    },
    {
      "cell_type": "code",
      "metadata": {
        "colab": {
          "base_uri": "https://localhost:8080/"
        },
        "id": "Yq82twTCXE9g",
        "outputId": "920cb2ad-60a3-4a48-b11f-974e9e7f2fc1"
      },
      "source": [
        "# Make some predictions\n",
        "y_pred = model.predict(X_test)\n",
        "y_pred,X_test"
      ],
      "execution_count": 36,
      "outputs": [
        {
          "output_type": "execute_result",
          "data": {
            "text/plain": [
              "(array([[ 89.459785],\n",
              "        [ 95.19732 ],\n",
              "        [100.934845],\n",
              "        [106.67238 ],\n",
              "        [112.40991 ],\n",
              "        [118.14745 ],\n",
              "        [123.88497 ],\n",
              "        [129.62251 ],\n",
              "        [135.36005 ],\n",
              "        [141.09758 ]], dtype=float32),\n",
              " <tf.Tensor: shape=(10,), dtype=int32, numpy=array([60, 64, 68, 72, 76, 80, 84, 88, 92, 96], dtype=int32)>)"
            ]
          },
          "metadata": {
            "tags": []
          },
          "execution_count": 36
        }
      ]
    },
    {
      "cell_type": "code",
      "metadata": {
        "colab": {
          "base_uri": "https://localhost:8080/"
        },
        "id": "PQFdJ_JHc1Bc",
        "outputId": "b422e115-ea43-440e-df07-3660e1d46b02"
      },
      "source": [
        "y_test#ground truth labels"
      ],
      "execution_count": 37,
      "outputs": [
        {
          "output_type": "execute_result",
          "data": {
            "text/plain": [
              "<tf.Tensor: shape=(10,), dtype=int32, numpy=array([ 70,  74,  78,  82,  86,  90,  94,  98, 102, 106], dtype=int32)>"
            ]
          },
          "metadata": {
            "tags": []
          },
          "execution_count": 37
        }
      ]
    },
    {
      "cell_type": "code",
      "metadata": {
        "id": "Cma9jSRjdbWf"
      },
      "source": [
        "# :Lets create a plotting function\n",
        "def plot_predictions(train_data=X_train,\n",
        "                     train_label=y_train,\n",
        "                     test_data=X_test,\n",
        "                     test_label=y_test,\n",
        "                     predictions = y_pred):\n",
        "  \"\"\"\n",
        "  Plots training data, test data and compares predictions to ground truth labeles\n",
        "  \"\"\"\n",
        "  plt.figure(figsize=(10,7))\n",
        "  #Plot training data in blue\n",
        "  plt.scatter(train_data,train_label,c=\"b\",label=\"Training data\")\n",
        "  #Plot testing data in green\n",
        "  plt.scatter(test_data,test_label,c=\"g\",label=\"Test data\")\n",
        "  #Plot model's predictions in red\n",
        "  plt.scatter(test_data,predictions,c=\"r\",label=\"Predictions\")\n",
        "  #show the legend\n",
        "  plt.legend();\n",
        "\n",
        "  \n"
      ],
      "execution_count": 38,
      "outputs": []
    },
    {
      "cell_type": "code",
      "metadata": {
        "colab": {
          "base_uri": "https://localhost:8080/",
          "height": 0
        },
        "id": "akeQSpvTiYgm",
        "outputId": "85fe0178-c1f1-4e9f-b311-080c1fcb95ec"
      },
      "source": [
        "plot_predictions()"
      ],
      "execution_count": 39,
      "outputs": [
        {
          "output_type": "display_data",
          "data": {
            "image/png": "[encoded data removed]",
            "text/plain": [
              "<Figure size 720x504 with 1 Axes>"
            ]
          },
          "metadata": {
            "tags": [],
            "needs_background": "light"
          }
        }
      ]
    },
    {
      "cell_type": "markdown",
      "metadata": {
        "id": "21DIPXoHiaQF"
      },
      "source": [
        "# Evaluating our model's predictions using regression evaluation metrics\n",
        "\n",
        "* Depending on the problem you are working on, there will be different evaluation metrics to evaluate your model's predictions.\n",
        "\n",
        "> Since we are working on a regression problem: two of the main metrics:\n",
        "* MAE - mean absolute error, \"on average, how wrong is each of my model's predictions.\"\n",
        "* MSE - mean square error, \"square the average errors\"\n",
        "\n"
      ]
    },
    {
      "cell_type": "code",
      "metadata": {
        "colab": {
          "base_uri": "https://localhost:8080/"
        },
        "id": "DBoGSpm6ke4A",
        "outputId": "f10a42a3-1e9b-469c-f087-304854fa7145"
      },
      "source": [
        "# Evaluate the model on the test set\n",
        "model.evaluate(X_test,y_test)"
      ],
      "execution_count": 40,
      "outputs": [
        {
          "output_type": "stream",
          "text": [
            "1/1 [==============================] - 0s 110ms/step - loss: 27.2787 - mae: 27.2787\n"
          ],
          "name": "stdout"
        },
        {
          "output_type": "execute_result",
          "data": {
            "text/plain": [
              "[27.2786808013916, 27.2786808013916]"
            ]
          },
          "metadata": {
            "tags": []
          },
          "execution_count": 40
        }
      ]
    },
    {
      "cell_type": "code",
      "metadata": {
        "colab": {
          "base_uri": "https://localhost:8080/"
        },
        "id": "qMadWTDSpZEk",
        "outputId": "9798ce7e-ba0c-40dc-95a2-7ff253e544ec"
      },
      "source": [
        "y_pred"
      ],
      "execution_count": 41,
      "outputs": [
        {
          "output_type": "execute_result",
          "data": {
            "text/plain": [
              "array([[ 89.459785],\n",
              "       [ 95.19732 ],\n",
              "       [100.934845],\n",
              "       [106.67238 ],\n",
              "       [112.40991 ],\n",
              "       [118.14745 ],\n",
              "       [123.88497 ],\n",
              "       [129.62251 ],\n",
              "       [135.36005 ],\n",
              "       [141.09758 ]], dtype=float32)"
            ]
          },
          "metadata": {
            "tags": []
          },
          "execution_count": 41
        }
      ]
    },
    {
      "cell_type": "code",
      "metadata": {
        "colab": {
          "base_uri": "https://localhost:8080/"
        },
        "id": "sFnnlCeuprlu",
        "outputId": "07ae5e1c-a8f1-4f50-fa01-4861485a884d"
      },
      "source": [
        "y_test"
      ],
      "execution_count": 42,
      "outputs": [
        {
          "output_type": "execute_result",
          "data": {
            "text/plain": [
              "<tf.Tensor: shape=(10,), dtype=int32, numpy=array([ 70,  74,  78,  82,  86,  90,  94,  98, 102, 106], dtype=int32)>"
            ]
          },
          "metadata": {
            "tags": []
          },
          "execution_count": 42
        }
      ]
    },
    {
      "cell_type": "code",
      "metadata": {
        "colab": {
          "base_uri": "https://localhost:8080/"
        },
        "id": "ldYuU38hpsaS",
        "outputId": "5d2b86c7-5f7d-4293-d6ec-8d694496b6f2"
      },
      "source": [
        "# Calculate the mean absolute error\n",
        "mae = tf.metrics.mean_absolute_error(y_true=y_test,y_pred=tf.squeeze(y_pred))\n",
        "mae"
      ],
      "execution_count": 43,
      "outputs": [
        {
          "output_type": "execute_result",
          "data": {
            "text/plain": [
              "<tf.Tensor: shape=(), dtype=float32, numpy=27.27868>"
            ]
          },
          "metadata": {
            "tags": []
          },
          "execution_count": 43
        }
      ]
    },
    {
      "cell_type": "code",
      "metadata": {
        "id": "ngKGSi8yqJWT"
      },
      "source": [
        "result=tf.constant(tf.squeeze(tf.cast(y_pred,dtype=tf.float32)))-tf.cast(y_test,dtype=tf.float32)"
      ],
      "execution_count": 44,
      "outputs": []
    },
    {
      "cell_type": "code",
      "metadata": {
        "colab": {
          "base_uri": "https://localhost:8080/"
        },
        "id": "-xQTOAu31ihW",
        "outputId": "f7177ac4-64be-41fb-f721-6a6955cc3660"
      },
      "source": [
        "a=0\n",
        "result=abs(tf.constant(tf.squeeze(tf.cast(y_pred,dtype=tf.float32)))-tf.cast(y_test,dtype=tf.float32).numpy())\n",
        "for i in result:\n",
        "  a=a+i\n",
        "print(tf.cast(a,dtype=tf.int32)/tf.size(result))\n"
      ],
      "execution_count": 45,
      "outputs": [
        {
          "output_type": "stream",
          "text": [
            "tf.Tensor(27.2, shape=(), dtype=float64)\n"
          ],
          "name": "stdout"
        }
      ]
    },
    {
      "cell_type": "code",
      "metadata": {
        "colab": {
          "base_uri": "https://localhost:8080/"
        },
        "id": "80CKfr4u3cj1",
        "outputId": "4803ed66-d9be-4911-d8aa-30777ae62327"
      },
      "source": [
        "# Calculate the mean square error\n",
        "mse = tf.metrics.mean_squared_error(y_true=y_test,\n",
        "                                    y_pred=tf.squeeze(y_pred))\n",
        "mse"
      ],
      "execution_count": 46,
      "outputs": [
        {
          "output_type": "execute_result",
          "data": {
            "text/plain": [
              "<tf.Tensor: shape=(), dtype=float32, numpy=769.0333>"
            ]
          },
          "metadata": {
            "tags": []
          },
          "execution_count": 46
        }
      ]
    },
    {
      "cell_type": "code",
      "metadata": {
        "colab": {
          "base_uri": "https://localhost:8080/"
        },
        "id": "VC-Xw8l84-AS",
        "outputId": "a3116424-4411-43ae-de22-5919a2376436"
      },
      "source": [
        "square_results=tf.square(tf.constant(tf.squeeze(tf.cast(y_pred,dtype=tf.float32)))-tf.cast(y_test,dtype=tf.float32))\n",
        "square_results\n",
        "\n",
        "b= 0\n",
        "for i in square_results:\n",
        "  b=b+i\n",
        "print(tf.cast(b,dtype=tf.int32)/tf.size(square_results))\n"
      ],
      "execution_count": 47,
      "outputs": [
        {
          "output_type": "stream",
          "text": [
            "tf.Tensor(769.0, shape=(), dtype=float64)\n"
          ],
          "name": "stdout"
        }
      ]
    },
    {
      "cell_type": "markdown",
      "metadata": {
        "id": "Yv8HY7wi75ZZ"
      },
      "source": [
        "### Running experiments to improve our model\n",
        "1. Get more data - get more examples for your model to train on(more opportunities to learn pattern or relationships between features and labels).\n",
        "2. Make your model larger ( using a more complex model) - this might come in the form of more layers or more hidden units in each layer.\n",
        "3. Train for longer - give your model more of a chance to find patterns in the data.\n",
        "\n",
        "Let's do 3 modelling experiments:\n",
        "1. `model_1` - same as the original model,1 layer, trained for 100 epochs.\n",
        "2. `model_2` - 2 layers, trained for 100 epochs.\n",
        "3. `model_3` - 2 layers, trained for 500 epochs.\n",
        "\n",
        "\n"
      ]
    },
    {
      "cell_type": "code",
      "metadata": {
        "colab": {
          "base_uri": "https://localhost:8080/"
        },
        "id": "w30XoHp7nKND",
        "outputId": "633a07d2-fdd4-4f54-a356-233bad5cf033"
      },
      "source": [
        "X_train, y_train"
      ],
      "execution_count": 48,
      "outputs": [
        {
          "output_type": "execute_result",
          "data": {
            "text/plain": [
              "(<tf.Tensor: shape=(40,), dtype=int32, numpy=\n",
              " array([-100,  -96,  -92,  -88,  -84,  -80,  -76,  -72,  -68,  -64,  -60,\n",
              "         -56,  -52,  -48,  -44,  -40,  -36,  -32,  -28,  -24,  -20,  -16,\n",
              "         -12,   -8,   -4,    0,    4,    8,   12,   16,   20,   24,   28,\n",
              "          32,   36,   40,   44,   48,   52,   56], dtype=int32)>,\n",
              " <tf.Tensor: shape=(40,), dtype=int32, numpy=\n",
              " array([-90, -86, -82, -78, -74, -70, -66, -62, -58, -54, -50, -46, -42,\n",
              "        -38, -34, -30, -26, -22, -18, -14, -10,  -6,  -2,   2,   6,  10,\n",
              "         14,  18,  22,  26,  30,  34,  38,  42,  46,  50,  54,  58,  62,\n",
              "         66], dtype=int32)>)"
            ]
          },
          "metadata": {
            "tags": []
          },
          "execution_count": 48
        }
      ]
    },
    {
      "cell_type": "code",
      "metadata": {
        "colab": {
          "base_uri": "https://localhost:8080/"
        },
        "id": "QoO-ZO_znY7J",
        "outputId": "47ec0d2b-e4d1-43ff-ec9a-062e40453413"
      },
      "source": [
        "# Set random seed\n",
        "tf.random.set_seed(42)\n",
        "\n",
        "# 1. Create a model\n",
        "model_1 = tf.keras.Sequential([\n",
        " tf.keras.layers.Dense(1)\n",
        "])\n",
        "\n",
        "#2 Compile a model\n",
        "model_1.compile(loss = tf.keras.losses.mae,\n",
        "              optimizer = tf.keras.optimizers.SGD(),\n",
        "              metrics=[\"mae\"])\n",
        "\n",
        "# 3 Fit the model\n",
        "model_1.fit(X_train, y_train,epochs=100)"
      ],
      "execution_count": 49,
      "outputs": [
        {
          "output_type": "stream",
          "text": [
            "Epoch 1/100\n",
            "2/2 [==============================] - 0s 6ms/step - loss: 15.9024 - mae: 15.9024\n",
            "Epoch 2/100\n",
            "2/2 [==============================] - 0s 3ms/step - loss: 11.2837 - mae: 11.2837\n",
            "Epoch 3/100\n",
            "2/2 [==============================] - 0s 3ms/step - loss: 11.1074 - mae: 11.1074\n",
            "Epoch 4/100\n",
            "2/2 [==============================] - 0s 7ms/step - loss: 9.2991 - mae: 9.2991\n",
            "Epoch 5/100\n",
            "2/2 [==============================] - 0s 8ms/step - loss: 10.1677 - mae: 10.1677\n",
            "Epoch 6/100\n",
            "2/2 [==============================] - 0s 2ms/step - loss: 9.4303 - mae: 9.4303\n",
            "Epoch 7/100\n",
            "2/2 [==============================] - 0s 5ms/step - loss: 8.5704 - mae: 8.5704\n",
            "Epoch 8/100\n",
            "2/2 [==============================] - 0s 11ms/step - loss: 9.0442 - mae: 9.0442\n",
            "Epoch 9/100\n",
            "2/2 [==============================] - 0s 6ms/step - loss: 18.7517 - mae: 18.7517\n",
            "Epoch 10/100\n",
            "2/2 [==============================] - 0s 4ms/step - loss: 10.1142 - mae: 10.1142\n",
            "Epoch 11/100\n",
            "2/2 [==============================] - 0s 3ms/step - loss: 8.3980 - mae: 8.3980\n",
            "Epoch 12/100\n",
            "2/2 [==============================] - 0s 4ms/step - loss: 10.6639 - mae: 10.6639\n",
            "Epoch 13/100\n",
            "2/2 [==============================] - 0s 4ms/step - loss: 9.7977 - mae: 9.7977\n",
            "Epoch 14/100\n",
            "2/2 [==============================] - 0s 3ms/step - loss: 16.0103 - mae: 16.0103\n",
            "Epoch 15/100\n",
            "2/2 [==============================] - 0s 4ms/step - loss: 11.4068 - mae: 11.4068\n",
            "Epoch 16/100\n",
            "2/2 [==============================] - 0s 4ms/step - loss: 8.5393 - mae: 8.5393\n",
            "Epoch 17/100\n",
            "2/2 [==============================] - 0s 3ms/step - loss: 13.6348 - mae: 13.6348\n",
            "Epoch 18/100\n",
            "2/2 [==============================] - 0s 3ms/step - loss: 11.4629 - mae: 11.4629\n",
            "Epoch 19/100\n",
            "2/2 [==============================] - 0s 3ms/step - loss: 17.9148 - mae: 17.9148\n",
            "Epoch 20/100\n",
            "2/2 [==============================] - 0s 2ms/step - loss: 15.0494 - mae: 15.0494\n",
            "Epoch 21/100\n",
            "2/2 [==============================] - 0s 4ms/step - loss: 11.0216 - mae: 11.0216\n",
            "Epoch 22/100\n",
            "2/2 [==============================] - 0s 2ms/step - loss: 8.1558 - mae: 8.1558\n",
            "Epoch 23/100\n",
            "2/2 [==============================] - 0s 2ms/step - loss: 9.5138 - mae: 9.5138\n",
            "Epoch 24/100\n",
            "2/2 [==============================] - 0s 2ms/step - loss: 7.6617 - mae: 7.6617\n",
            "Epoch 25/100\n",
            "2/2 [==============================] - 0s 4ms/step - loss: 13.1859 - mae: 13.1859\n",
            "Epoch 26/100\n",
            "2/2 [==============================] - 0s 4ms/step - loss: 16.4211 - mae: 16.4211\n",
            "Epoch 27/100\n",
            "2/2 [==============================] - 0s 4ms/step - loss: 13.1660 - mae: 13.1660\n",
            "Epoch 28/100\n",
            "2/2 [==============================] - 0s 3ms/step - loss: 14.2559 - mae: 14.2559\n",
            "Epoch 29/100\n",
            "2/2 [==============================] - 0s 4ms/step - loss: 10.0670 - mae: 10.0670\n",
            "Epoch 30/100\n",
            "2/2 [==============================] - 0s 4ms/step - loss: 16.3409 - mae: 16.3409\n",
            "Epoch 31/100\n",
            "2/2 [==============================] - 0s 2ms/step - loss: 23.6444 - mae: 23.6444\n",
            "Epoch 32/100\n",
            "2/2 [==============================] - 0s 5ms/step - loss: 7.6215 - mae: 7.6215\n",
            "Epoch 33/100\n",
            "2/2 [==============================] - 0s 4ms/step - loss: 9.3221 - mae: 9.3221\n",
            "Epoch 34/100\n",
            "2/2 [==============================] - 0s 4ms/step - loss: 13.7313 - mae: 13.7313\n",
            "Epoch 35/100\n",
            "2/2 [==============================] - 0s 4ms/step - loss: 11.1276 - mae: 11.1276\n",
            "Epoch 36/100\n",
            "2/2 [==============================] - 0s 5ms/step - loss: 13.3222 - mae: 13.3222\n",
            "Epoch 37/100\n",
            "2/2 [==============================] - 0s 6ms/step - loss: 9.4763 - mae: 9.4763\n",
            "Epoch 38/100\n",
            "2/2 [==============================] - 0s 2ms/step - loss: 10.1381 - mae: 10.1381\n",
            "Epoch 39/100\n",
            "2/2 [==============================] - 0s 3ms/step - loss: 10.1793 - mae: 10.1793\n",
            "Epoch 40/100\n",
            "2/2 [==============================] - 0s 4ms/step - loss: 10.9137 - mae: 10.9137\n",
            "Epoch 41/100\n",
            "2/2 [==============================] - 0s 4ms/step - loss: 7.9063 - mae: 7.9063\n",
            "Epoch 42/100\n",
            "2/2 [==============================] - 0s 4ms/step - loss: 10.0914 - mae: 10.0914\n",
            "Epoch 43/100\n",
            "2/2 [==============================] - 0s 3ms/step - loss: 8.7006 - mae: 8.7006\n",
            "Epoch 44/100\n",
            "2/2 [==============================] - 0s 2ms/step - loss: 12.2047 - mae: 12.2047\n",
            "Epoch 45/100\n",
            "2/2 [==============================] - 0s 4ms/step - loss: 13.7970 - mae: 13.7970\n",
            "Epoch 46/100\n",
            "2/2 [==============================] - 0s 3ms/step - loss: 8.4687 - mae: 8.4687\n",
            "Epoch 47/100\n",
            "2/2 [==============================] - 0s 2ms/step - loss: 9.1330 - mae: 9.1330\n",
            "Epoch 48/100\n",
            "2/2 [==============================] - 0s 4ms/step - loss: 10.6190 - mae: 10.6190\n",
            "Epoch 49/100\n",
            "2/2 [==============================] - 0s 3ms/step - loss: 7.7503 - mae: 7.7503\n",
            "Epoch 50/100\n",
            "2/2 [==============================] - 0s 5ms/step - loss: 9.5407 - mae: 9.5407\n",
            "Epoch 51/100\n",
            "2/2 [==============================] - 0s 3ms/step - loss: 9.1584 - mae: 9.1584\n",
            "Epoch 52/100\n",
            "2/2 [==============================] - 0s 3ms/step - loss: 16.3630 - mae: 16.3630\n",
            "Epoch 53/100\n",
            "2/2 [==============================] - 0s 4ms/step - loss: 14.1299 - mae: 14.1299\n",
            "Epoch 54/100\n",
            "2/2 [==============================] - 0s 2ms/step - loss: 21.1247 - mae: 21.1247\n",
            "Epoch 55/100\n",
            "2/2 [==============================] - 0s 3ms/step - loss: 16.3961 - mae: 16.3961\n",
            "Epoch 56/100\n",
            "2/2 [==============================] - 0s 3ms/step - loss: 9.9806 - mae: 9.9806\n",
            "Epoch 57/100\n",
            "2/2 [==============================] - 0s 4ms/step - loss: 9.9606 - mae: 9.9606\n",
            "Epoch 58/100\n",
            "2/2 [==============================] - 0s 2ms/step - loss: 9.2209 - mae: 9.2209\n",
            "Epoch 59/100\n",
            "2/2 [==============================] - 0s 3ms/step - loss: 8.4239 - mae: 8.4239\n",
            "Epoch 60/100\n",
            "2/2 [==============================] - 0s 2ms/step - loss: 9.4869 - mae: 9.4869\n",
            "Epoch 61/100\n",
            "2/2 [==============================] - 0s 3ms/step - loss: 11.4355 - mae: 11.4355\n",
            "Epoch 62/100\n",
            "2/2 [==============================] - 0s 3ms/step - loss: 11.6887 - mae: 11.6887\n",
            "Epoch 63/100\n",
            "2/2 [==============================] - 0s 3ms/step - loss: 7.0838 - mae: 7.0838\n",
            "Epoch 64/100\n",
            "2/2 [==============================] - 0s 4ms/step - loss: 16.9675 - mae: 16.9675\n",
            "Epoch 65/100\n",
            "2/2 [==============================] - 0s 6ms/step - loss: 12.4599 - mae: 12.4599\n",
            "Epoch 66/100\n",
            "2/2 [==============================] - 0s 3ms/step - loss: 13.0184 - mae: 13.0184\n",
            "Epoch 67/100\n",
            "2/2 [==============================] - 0s 3ms/step - loss: 8.0600 - mae: 8.0600\n",
            "Epoch 68/100\n",
            "2/2 [==============================] - 0s 5ms/step - loss: 10.1888 - mae: 10.1888\n",
            "Epoch 69/100\n",
            "2/2 [==============================] - 0s 3ms/step - loss: 12.3633 - mae: 12.3633\n",
            "Epoch 70/100\n",
            "2/2 [==============================] - 0s 3ms/step - loss: 9.0516 - mae: 9.0516\n",
            "Epoch 71/100\n",
            "2/2 [==============================] - 0s 3ms/step - loss: 10.0378 - mae: 10.0378\n",
            "Epoch 72/100\n",
            "2/2 [==============================] - 0s 3ms/step - loss: 10.0516 - mae: 10.0516\n",
            "Epoch 73/100\n",
            "2/2 [==============================] - 0s 2ms/step - loss: 12.6151 - mae: 12.6151\n",
            "Epoch 74/100\n",
            "2/2 [==============================] - 0s 3ms/step - loss: 10.3819 - mae: 10.3819\n",
            "Epoch 75/100\n",
            "2/2 [==============================] - 0s 3ms/step - loss: 9.7229 - mae: 9.7229\n",
            "Epoch 76/100\n",
            "2/2 [==============================] - 0s 3ms/step - loss: 11.2252 - mae: 11.2252\n",
            "Epoch 77/100\n",
            "2/2 [==============================] - 0s 2ms/step - loss: 8.3642 - mae: 8.3642\n",
            "Epoch 78/100\n",
            "2/2 [==============================] - 0s 3ms/step - loss: 9.1274 - mae: 9.1274\n",
            "Epoch 79/100\n",
            "2/2 [==============================] - 0s 4ms/step - loss: 19.5039 - mae: 19.5039\n",
            "Epoch 80/100\n",
            "2/2 [==============================] - 0s 3ms/step - loss: 14.8945 - mae: 14.8945\n",
            "Epoch 81/100\n",
            "2/2 [==============================] - 0s 3ms/step - loss: 9.0034 - mae: 9.0034\n",
            "Epoch 82/100\n",
            "2/2 [==============================] - 0s 5ms/step - loss: 13.0206 - mae: 13.0206\n",
            "Epoch 83/100\n",
            "2/2 [==============================] - 0s 2ms/step - loss: 7.9299 - mae: 7.9299\n",
            "Epoch 84/100\n",
            "2/2 [==============================] - 0s 2ms/step - loss: 7.6872 - mae: 7.6872\n",
            "Epoch 85/100\n",
            "2/2 [==============================] - 0s 3ms/step - loss: 10.0328 - mae: 10.0328\n",
            "Epoch 86/100\n",
            "2/2 [==============================] - 0s 3ms/step - loss: 9.2433 - mae: 9.2433\n",
            "Epoch 87/100\n",
            "2/2 [==============================] - 0s 3ms/step - loss: 12.0209 - mae: 12.0209\n",
            "Epoch 88/100\n",
            "2/2 [==============================] - 0s 3ms/step - loss: 10.6389 - mae: 10.6389\n",
            "Epoch 89/100\n",
            "2/2 [==============================] - 0s 3ms/step - loss: 7.2667 - mae: 7.2667\n",
            "Epoch 90/100\n",
            "2/2 [==============================] - 0s 6ms/step - loss: 12.7786 - mae: 12.7786\n",
            "Epoch 91/100\n",
            "2/2 [==============================] - 0s 3ms/step - loss: 7.3481 - mae: 7.3481\n",
            "Epoch 92/100\n",
            "2/2 [==============================] - 0s 3ms/step - loss: 7.7175 - mae: 7.7175\n",
            "Epoch 93/100\n",
            "2/2 [==============================] - 0s 6ms/step - loss: 7.1263 - mae: 7.1263\n",
            "Epoch 94/100\n",
            "2/2 [==============================] - 0s 3ms/step - loss: 12.6190 - mae: 12.6190\n",
            "Epoch 95/100\n",
            "2/2 [==============================] - 0s 8ms/step - loss: 10.0912 - mae: 10.0912\n",
            "Epoch 96/100\n",
            "2/2 [==============================] - 0s 3ms/step - loss: 9.3558 - mae: 9.3558\n",
            "Epoch 97/100\n",
            "2/2 [==============================] - 0s 2ms/step - loss: 12.6834 - mae: 12.6834\n",
            "Epoch 98/100\n",
            "2/2 [==============================] - 0s 3ms/step - loss: 8.6762 - mae: 8.6762\n",
            "Epoch 99/100\n",
            "2/2 [==============================] - 0s 2ms/step - loss: 9.4693 - mae: 9.4693\n",
            "Epoch 100/100\n",
            "2/2 [==============================] - 0s 3ms/step - loss: 8.7067 - mae: 8.7067\n"
          ],
          "name": "stdout"
        },
        {
          "output_type": "execute_result",
          "data": {
            "text/plain": [
              "<tensorflow.python.keras.callbacks.History at 0x7f405987e790>"
            ]
          },
          "metadata": {
            "tags": []
          },
          "execution_count": 49
        }
      ]
    },
    {
      "cell_type": "code",
      "metadata": {
        "colab": {
          "base_uri": "https://localhost:8080/",
          "height": 0
        },
        "id": "rFkllmT-q76r",
        "outputId": "4f1191fa-42c6-4bcb-b818-43f21ac19fae"
      },
      "source": [
        "# Make and plot the predictions for model_1\n",
        "y_preds_1=model.predict(X_test)\n",
        "plot_predictions(predictions=y_preds_1)"
      ],
      "execution_count": 50,
      "outputs": [
        {
          "output_type": "display_data",
          "data": {
            "image/png": "[encoded data removed]",
            "text/plain": [
              "<Figure size 720x504 with 1 Axes>"
            ]
          },
          "metadata": {
            "tags": [],
            "needs_background": "light"
          }
        }
      ]
    },
    {
      "cell_type": "code",
      "metadata": {
        "id": "Ic63yY8_sHMa"
      },
      "source": [
        "mae_1 = tf.keras.losses.mean_absolute_error(y_true=y_test,y_pred=tf.squeeze(y_preds_1))\n",
        "mse_1 = tf.keras.losses.mean_squared_error(y_true=y_test,y_pred=tf.squeeze(y_preds_1))\n",
        "\n"
      ],
      "execution_count": 51,
      "outputs": []
    },
    {
      "cell_type": "code",
      "metadata": {
        "colab": {
          "base_uri": "https://localhost:8080/"
        },
        "id": "QTLSgM-qtaOC",
        "outputId": "3a421fbb-79d7-4045-900d-534d9f2b6fa2"
      },
      "source": [
        "mae_1,mse_1"
      ],
      "execution_count": 52,
      "outputs": [
        {
          "output_type": "execute_result",
          "data": {
            "text/plain": [
              "(<tf.Tensor: shape=(), dtype=float32, numpy=27.27868>,\n",
              " <tf.Tensor: shape=(), dtype=float32, numpy=769.0333>)"
            ]
          },
          "metadata": {
            "tags": []
          },
          "execution_count": 52
        }
      ]
    },
    {
      "cell_type": "code",
      "metadata": {
        "colab": {
          "base_uri": "https://localhost:8080/"
        },
        "id": "tvMH4nZKt_Ym",
        "outputId": "54a1d6ba-14f6-4ed6-dabc-e2705d167e87"
      },
      "source": [
        "tf.constant(y_preds_1), tf.squeeze(y_preds_1)"
      ],
      "execution_count": 53,
      "outputs": [
        {
          "output_type": "execute_result",
          "data": {
            "text/plain": [
              "(<tf.Tensor: shape=(10, 1), dtype=float32, numpy=\n",
              " array([[ 89.459785],\n",
              "        [ 95.19732 ],\n",
              "        [100.934845],\n",
              "        [106.67238 ],\n",
              "        [112.40991 ],\n",
              "        [118.14745 ],\n",
              "        [123.88497 ],\n",
              "        [129.62251 ],\n",
              "        [135.36005 ],\n",
              "        [141.09758 ]], dtype=float32)>,\n",
              " <tf.Tensor: shape=(10,), dtype=float32, numpy=\n",
              " array([ 89.459785,  95.19732 , 100.934845, 106.67238 , 112.40991 ,\n",
              "        118.14745 , 123.88497 , 129.62251 , 135.36005 , 141.09758 ],\n",
              "       dtype=float32)>)"
            ]
          },
          "metadata": {
            "tags": []
          },
          "execution_count": 53
        }
      ]
    },
    {
      "cell_type": "markdown",
      "metadata": {
        "id": "ptY_YegP24iV"
      },
      "source": [
        "**Build** `model_2`"
      ]
    },
    {
      "cell_type": "code",
      "metadata": {
        "colab": {
          "base_uri": "https://localhost:8080/"
        },
        "id": "cwgm8xia24Qs",
        "outputId": "75153566-a9be-40cc-8de1-5b84653b6d07"
      },
      "source": [
        "# Set the random seed\n",
        "tf.random.set_seed(42)\n",
        "\n",
        "model_2 = tf.keras.Sequential([\n",
        " tf.keras.layers.Dense(10),\n",
        " tf.keras.layers.Dense(1)\n",
        "])\n",
        "\n",
        "#Compile the model\n",
        "model_2.compile(loss=tf.keras.losses.mae,\n",
        "                optimizer=tf.keras.optimizers.SGD(),\n",
        "                metrics=[\"mse\"])\n",
        "\n",
        "model_2.fit(X_train,y_train,epochs=100)\n",
        "\n"
      ],
      "execution_count": 54,
      "outputs": [
        {
          "output_type": "stream",
          "text": [
            "Epoch 1/100\n",
            "2/2 [==============================] - 0s 4ms/step - loss: 27.4058 - mse: 1084.1482\n",
            "Epoch 2/100\n",
            "2/2 [==============================] - 0s 3ms/step - loss: 24.6339 - mse: 777.9203\n",
            "Epoch 3/100\n",
            "2/2 [==============================] - 0s 3ms/step - loss: 29.8935 - mse: 1334.8956\n",
            "Epoch 4/100\n",
            "2/2 [==============================] - 0s 4ms/step - loss: 27.4055 - mse: 1106.8035\n",
            "Epoch 5/100\n",
            "2/2 [==============================] - 0s 2ms/step - loss: 14.9463 - mse: 281.1077\n",
            "Epoch 6/100\n",
            "2/2 [==============================] - 0s 2ms/step - loss: 11.8819 - mse: 168.6621\n",
            "Epoch 7/100\n",
            "2/2 [==============================] - 0s 3ms/step - loss: 11.1988 - mse: 151.3509\n",
            "Epoch 8/100\n",
            "2/2 [==============================] - 0s 4ms/step - loss: 11.0910 - mse: 160.3745\n",
            "Epoch 9/100\n",
            "2/2 [==============================] - 0s 6ms/step - loss: 40.4763 - mse: 2586.0090\n",
            "Epoch 10/100\n",
            "2/2 [==============================] - 0s 2ms/step - loss: 27.8688 - mse: 1094.4382\n",
            "Epoch 11/100\n",
            "2/2 [==============================] - 0s 3ms/step - loss: 10.2473 - mse: 147.9359\n",
            "Epoch 12/100\n",
            "2/2 [==============================] - 0s 3ms/step - loss: 25.2803 - mse: 890.3866\n",
            "Epoch 13/100\n",
            "2/2 [==============================] - 0s 4ms/step - loss: 16.9897 - mse: 399.9678\n",
            "Epoch 14/100\n",
            "2/2 [==============================] - 0s 3ms/step - loss: 25.9217 - mse: 1049.5515\n",
            "Epoch 15/100\n",
            "2/2 [==============================] - 0s 3ms/step - loss: 17.9948 - mse: 450.2580\n",
            "Epoch 16/100\n",
            "2/2 [==============================] - 0s 3ms/step - loss: 7.3510 - mse: 80.6206\n",
            "Epoch 17/100\n",
            "2/2 [==============================] - 0s 3ms/step - loss: 10.8636 - mse: 174.7868\n",
            "Epoch 18/100\n",
            "2/2 [==============================] - 0s 4ms/step - loss: 19.5304 - mse: 565.8053\n",
            "Epoch 19/100\n",
            "2/2 [==============================] - 0s 13ms/step - loss: 10.3469 - mse: 167.7749\n",
            "Epoch 20/100\n",
            "2/2 [==============================] - 0s 3ms/step - loss: 17.6985 - mse: 455.7096\n",
            "Epoch 21/100\n",
            "2/2 [==============================] - 0s 6ms/step - loss: 15.8984 - mse: 347.1929\n",
            "Epoch 22/100\n",
            "2/2 [==============================] - 0s 12ms/step - loss: 14.1991 - mse: 285.1767\n",
            "Epoch 23/100\n",
            "2/2 [==============================] - 0s 11ms/step - loss: 8.7720 - mse: 91.7852\n",
            "Epoch 24/100\n",
            "2/2 [==============================] - 0s 6ms/step - loss: 11.0570 - mse: 153.7430\n",
            "Epoch 25/100\n",
            "2/2 [==============================] - 0s 9ms/step - loss: 12.6838 - mse: 233.2949\n",
            "Epoch 26/100\n",
            "2/2 [==============================] - 0s 5ms/step - loss: 26.1877 - mse: 1024.6091\n",
            "Epoch 27/100\n",
            "2/2 [==============================] - 0s 4ms/step - loss: 11.7432 - mse: 194.8454\n",
            "Epoch 28/100\n",
            "2/2 [==============================] - 0s 12ms/step - loss: 22.8730 - mse: 835.6074\n",
            "Epoch 29/100\n",
            "2/2 [==============================] - 0s 6ms/step - loss: 9.2459 - mse: 96.7786\n",
            "Epoch 30/100\n",
            "2/2 [==============================] - 0s 2ms/step - loss: 29.2641 - mse: 1535.1349\n",
            "Epoch 31/100\n",
            "2/2 [==============================] - 0s 2ms/step - loss: 53.0225 - mse: 5030.2988\n",
            "Epoch 32/100\n",
            "2/2 [==============================] - 0s 2ms/step - loss: 11.9951 - mse: 211.7025\n",
            "Epoch 33/100\n",
            "2/2 [==============================] - 0s 4ms/step - loss: 15.6357 - mse: 337.3666\n",
            "Epoch 34/100\n",
            "2/2 [==============================] - 0s 4ms/step - loss: 12.6925 - mse: 214.4824\n",
            "Epoch 35/100\n",
            "2/2 [==============================] - 0s 5ms/step - loss: 9.2398 - mse: 92.9126\n",
            "Epoch 36/100\n",
            "2/2 [==============================] - 0s 2ms/step - loss: 16.6497 - mse: 403.6573\n",
            "Epoch 37/100\n",
            "2/2 [==============================] - 0s 3ms/step - loss: 11.0382 - mse: 192.3919\n",
            "Epoch 38/100\n",
            "2/2 [==============================] - 0s 4ms/step - loss: 18.1634 - mse: 433.6717\n",
            "Epoch 39/100\n",
            "2/2 [==============================] - 0s 4ms/step - loss: 19.1013 - mse: 529.6439\n",
            "Epoch 40/100\n",
            "2/2 [==============================] - 0s 3ms/step - loss: 20.4324 - mse: 610.1324\n",
            "Epoch 41/100\n",
            "2/2 [==============================] - 0s 18ms/step - loss: 14.9102 - mse: 279.6183\n",
            "Epoch 42/100\n",
            "2/2 [==============================] - 0s 3ms/step - loss: 12.2809 - mse: 186.6180\n",
            "Epoch 43/100\n",
            "2/2 [==============================] - 0s 6ms/step - loss: 10.7333 - mse: 167.0952\n",
            "Epoch 44/100\n",
            "2/2 [==============================] - 0s 5ms/step - loss: 23.0260 - mse: 830.4244\n",
            "Epoch 45/100\n",
            "2/2 [==============================] - 0s 4ms/step - loss: 10.3897 - mse: 128.9549\n",
            "Epoch 46/100\n",
            "2/2 [==============================] - 0s 3ms/step - loss: 11.7904 - mse: 181.9212\n",
            "Epoch 47/100\n",
            "2/2 [==============================] - 0s 6ms/step - loss: 9.6438 - mse: 153.8708\n",
            "Epoch 48/100\n",
            "2/2 [==============================] - 0s 10ms/step - loss: 17.2335 - mse: 402.8494\n",
            "Epoch 49/100\n",
            "2/2 [==============================] - 0s 4ms/step - loss: 9.5729 - mse: 99.8337\n",
            "Epoch 50/100\n",
            "2/2 [==============================] - 0s 3ms/step - loss: 13.8185 - mse: 260.3670\n",
            "Epoch 51/100\n",
            "2/2 [==============================] - 0s 3ms/step - loss: 11.5958 - mse: 154.7956\n",
            "Epoch 52/100\n",
            "2/2 [==============================] - 0s 6ms/step - loss: 30.5538 - mse: 1613.0886\n",
            "Epoch 53/100\n",
            "2/2 [==============================] - 0s 5ms/step - loss: 14.3541 - mse: 302.5293\n",
            "Epoch 54/100\n",
            "2/2 [==============================] - 0s 3ms/step - loss: 23.9713 - mse: 859.3983\n",
            "Epoch 55/100\n",
            "2/2 [==============================] - 0s 4ms/step - loss: 23.1938 - mse: 805.5452\n",
            "Epoch 56/100\n",
            "2/2 [==============================] - 0s 4ms/step - loss: 10.8837 - mse: 170.9834\n",
            "Epoch 57/100\n",
            "2/2 [==============================] - 0s 3ms/step - loss: 12.7445 - mse: 198.7015\n",
            "Epoch 58/100\n",
            "2/2 [==============================] - 0s 4ms/step - loss: 9.5995 - mse: 102.5890\n",
            "Epoch 59/100\n",
            "2/2 [==============================] - 0s 3ms/step - loss: 12.5172 - mse: 216.3367\n",
            "Epoch 60/100\n",
            "2/2 [==============================] - 0s 4ms/step - loss: 12.3200 - mse: 208.6371\n",
            "Epoch 61/100\n",
            "2/2 [==============================] - 0s 6ms/step - loss: 17.4604 - mse: 428.6393\n",
            "Epoch 62/100\n",
            "2/2 [==============================] - 0s 3ms/step - loss: 10.6052 - mse: 136.9777\n",
            "Epoch 63/100\n",
            "2/2 [==============================] - 0s 3ms/step - loss: 10.4893 - mse: 152.4555\n",
            "Epoch 64/100\n",
            "2/2 [==============================] - 0s 6ms/step - loss: 24.8450 - mse: 911.7512\n",
            "Epoch 65/100\n",
            "2/2 [==============================] - 0s 3ms/step - loss: 10.6761 - mse: 142.7374\n",
            "Epoch 66/100\n",
            "2/2 [==============================] - 0s 5ms/step - loss: 21.7809 - mse: 704.4492\n",
            "Epoch 67/100\n",
            "2/2 [==============================] - 0s 6ms/step - loss: 10.7136 - mse: 136.0194\n",
            "Epoch 68/100\n",
            "2/2 [==============================] - 0s 2ms/step - loss: 10.6397 - mse: 149.2300\n",
            "Epoch 69/100\n",
            "2/2 [==============================] - 0s 4ms/step - loss: 22.6914 - mse: 742.1761\n",
            "Epoch 70/100\n",
            "2/2 [==============================] - 0s 4ms/step - loss: 9.3316 - mse: 166.1628\n",
            "Epoch 71/100\n",
            "2/2 [==============================] - 0s 4ms/step - loss: 15.4355 - mse: 323.0843\n",
            "Epoch 72/100\n",
            "2/2 [==============================] - 0s 7ms/step - loss: 6.7437 - mse: 67.0210\n",
            "Epoch 73/100\n",
            "2/2 [==============================] - 0s 2ms/step - loss: 11.6891 - mse: 183.7296\n",
            "Epoch 74/100\n",
            "2/2 [==============================] - 0s 2ms/step - loss: 24.0400 - mse: 908.8992\n",
            "Epoch 75/100\n",
            "2/2 [==============================] - 0s 14ms/step - loss: 9.5896 - mse: 149.3948\n",
            "Epoch 76/100\n",
            "2/2 [==============================] - 0s 10ms/step - loss: 12.4371 - mse: 188.3310\n",
            "Epoch 77/100\n",
            "2/2 [==============================] - 0s 4ms/step - loss: 16.6489 - mse: 429.2708\n",
            "Epoch 78/100\n",
            "2/2 [==============================] - 0s 3ms/step - loss: 9.0614 - mse: 95.4870\n",
            "Epoch 79/100\n",
            "2/2 [==============================] - 0s 3ms/step - loss: 23.9675 - mse: 864.0864\n",
            "Epoch 80/100\n",
            "2/2 [==============================] - 0s 3ms/step - loss: 26.7463 - mse: 1104.4032\n",
            "Epoch 81/100\n",
            "2/2 [==============================] - 0s 3ms/step - loss: 11.6714 - mse: 170.7055\n",
            "Epoch 82/100\n",
            "2/2 [==============================] - 0s 6ms/step - loss: 12.0228 - mse: 211.9191\n",
            "Epoch 83/100\n",
            "2/2 [==============================] - 0s 3ms/step - loss: 17.4218 - mse: 395.5589\n",
            "Epoch 84/100\n",
            "2/2 [==============================] - 0s 3ms/step - loss: 7.2629 - mse: 73.0935\n",
            "Epoch 85/100\n",
            "2/2 [==============================] - 0s 3ms/step - loss: 14.9650 - mse: 312.8361\n",
            "Epoch 86/100\n",
            "2/2 [==============================] - 0s 3ms/step - loss: 15.2862 - mse: 315.3605\n",
            "Epoch 87/100\n",
            "2/2 [==============================] - 0s 5ms/step - loss: 19.1086 - mse: 521.2534\n",
            "Epoch 88/100\n",
            "2/2 [==============================] - 0s 3ms/step - loss: 29.8229 - mse: 1287.1907\n",
            "Epoch 89/100\n",
            "2/2 [==============================] - 0s 2ms/step - loss: 10.1742 - mse: 124.1342\n",
            "Epoch 90/100\n",
            "2/2 [==============================] - 0s 3ms/step - loss: 21.5240 - mse: 663.8611\n",
            "Epoch 91/100\n",
            "2/2 [==============================] - 0s 3ms/step - loss: 10.5716 - mse: 161.7467\n",
            "Epoch 92/100\n",
            "2/2 [==============================] - 0s 3ms/step - loss: 18.3977 - mse: 464.1326\n",
            "Epoch 93/100\n",
            "2/2 [==============================] - 0s 3ms/step - loss: 7.4138 - mse: 81.9820\n",
            "Epoch 94/100\n",
            "2/2 [==============================] - 0s 3ms/step - loss: 17.7380 - mse: 445.7379\n",
            "Epoch 95/100\n",
            "2/2 [==============================] - 0s 3ms/step - loss: 11.1144 - mse: 164.0820\n",
            "Epoch 96/100\n",
            "2/2 [==============================] - 0s 5ms/step - loss: 19.4346 - mse: 510.5842\n",
            "Epoch 97/100\n",
            "2/2 [==============================] - 0s 3ms/step - loss: 12.1593 - mse: 209.9755\n",
            "Epoch 98/100\n",
            "2/2 [==============================] - 0s 3ms/step - loss: 11.5653 - mse: 169.4052\n",
            "Epoch 99/100\n",
            "2/2 [==============================] - 0s 3ms/step - loss: 13.8827 - mse: 265.4630\n",
            "Epoch 100/100\n",
            "2/2 [==============================] - 0s 3ms/step - loss: 20.2277 - mse: 608.8218\n"
          ],
          "name": "stdout"
        },
        {
          "output_type": "execute_result",
          "data": {
            "text/plain": [
              "<tensorflow.python.keras.callbacks.History at 0x7f40597ea2d0>"
            ]
          },
          "metadata": {
            "tags": []
          },
          "execution_count": 54
        }
      ]
    },
    {
      "cell_type": "code",
      "metadata": {
        "colab": {
          "base_uri": "https://localhost:8080/",
          "height": 0
        },
        "id": "Wh5GqwvTuagh",
        "outputId": "f2b8dce2-77b5-435c-9ede-7dd026f2fcb3"
      },
      "source": [
        "# Make and plot prediction of model_2\n",
        "y_preds_2=model_2.predict(X_test)\n",
        "plot_predictions(predictions=y_preds_2)"
      ],
      "execution_count": 55,
      "outputs": [
        {
          "output_type": "stream",
          "text": [
            "WARNING:tensorflow:5 out of the last 6 calls to <function Model.make_predict_function.<locals>.predict_function at 0x7f40596e4a70> triggered tf.function retracing. Tracing is expensive and the excessive number of tracings could be due to (1) creating @tf.function repeatedly in a loop, (2) passing tensors with different shapes, (3) passing Python objects instead of tensors. For (1), please define your @tf.function outside of the loop. For (2), @tf.function has experimental_relax_shapes=True option that relaxes argument shapes that can avoid unnecessary retracing. For (3), please refer to https://www.tensorflow.org/guide/function#controlling_retracing and https://www.tensorflow.org/api_docs/python/tf/function for  more details.\n"
          ],
          "name": "stdout"
        },
        {
          "output_type": "display_data",
          "data": {
            "image/png": "[encoded data removed]",
            "text/plain": [
              "<Figure size 720x504 with 1 Axes>"
            ]
          },
          "metadata": {
            "tags": [],
            "needs_background": "light"
          }
        }
      ]
    },
    {
      "cell_type": "code",
      "metadata": {
        "id": "fEXVvKZv5YHN"
      },
      "source": [
        "mae_2 = tf.keras.losses.mean_absolute_error(y_true=y_test,y_pred=tf.squeeze(y_preds_2))\n",
        "mse_2 = tf.keras.losses.mean_squared_error(y_true=y_test,y_pred=tf.squeeze(y_preds_2))"
      ],
      "execution_count": 56,
      "outputs": []
    },
    {
      "cell_type": "code",
      "metadata": {
        "colab": {
          "base_uri": "https://localhost:8080/"
        },
        "id": "5zrStmDR6lVd",
        "outputId": "f2a1efd6-76d4-4cab-ab7b-7774f1c4932d"
      },
      "source": [
        "mae_2,mse_2"
      ],
      "execution_count": 57,
      "outputs": [
        {
          "output_type": "execute_result",
          "data": {
            "text/plain": [
              "(<tf.Tensor: shape=(), dtype=float32, numpy=3.1969407>,\n",
              " <tf.Tensor: shape=(), dtype=float32, numpy=13.070143>)"
            ]
          },
          "metadata": {
            "tags": []
          },
          "execution_count": 57
        }
      ]
    },
    {
      "cell_type": "code",
      "metadata": {
        "colab": {
          "base_uri": "https://localhost:8080/"
        },
        "id": "ZaNMAHWZ6m4q",
        "outputId": "0dbe1767-af00-4226-a341-1c52e492b1ac"
      },
      "source": [
        "# Build model 3\n",
        "# Set the random seed\n",
        "tf.random.set_seed(42)\n",
        "\n",
        "model_2 = tf.keras.Sequential([\n",
        " tf.keras.layers.Dense(10),\n",
        " tf.keras.layers.Dense(1)\n",
        "])\n",
        "\n",
        "#Compile the model\n",
        "model_2.compile(loss=tf.keras.losses.mae,\n",
        "                optimizer=tf.keras.optimizers.SGD(),\n",
        "                metrics=[\"mse\"])\n",
        "\n",
        "model_2.fit(X_train,y_train,epochs=500)\n",
        "\n",
        "\n"
      ],
      "execution_count": 58,
      "outputs": [
        {
          "output_type": "stream",
          "text": [
            "Epoch 1/500\n",
            "2/2 [==============================] - 0s 5ms/step - loss: 27.4058 - mse: 1084.1482\n",
            "Epoch 2/500\n",
            "2/2 [==============================] - 0s 4ms/step - loss: 24.6339 - mse: 777.9203\n",
            "Epoch 3/500\n",
            "2/2 [==============================] - 0s 2ms/step - loss: 29.8935 - mse: 1334.8956\n",
            "Epoch 4/500\n",
            "2/2 [==============================] - 0s 2ms/step - loss: 27.4055 - mse: 1106.8035\n",
            "Epoch 5/500\n",
            "2/2 [==============================] - 0s 3ms/step - loss: 14.9463 - mse: 281.1077\n",
            "Epoch 6/500\n",
            "2/2 [==============================] - 0s 2ms/step - loss: 11.8819 - mse: 168.6621\n",
            "Epoch 7/500\n",
            "2/2 [==============================] - 0s 7ms/step - loss: 11.1988 - mse: 151.3509\n",
            "Epoch 8/500\n",
            "2/2 [==============================] - 0s 5ms/step - loss: 11.0910 - mse: 160.3745\n",
            "Epoch 9/500\n",
            "2/2 [==============================] - 0s 4ms/step - loss: 40.4763 - mse: 2586.0090\n",
            "Epoch 10/500\n",
            "2/2 [==============================] - 0s 5ms/step - loss: 27.8688 - mse: 1094.4382\n",
            "Epoch 11/500\n",
            "2/2 [==============================] - 0s 3ms/step - loss: 10.2473 - mse: 147.9359\n",
            "Epoch 12/500\n",
            "2/2 [==============================] - 0s 4ms/step - loss: 25.2803 - mse: 890.3866\n",
            "Epoch 13/500\n",
            "2/2 [==============================] - 0s 4ms/step - loss: 16.9897 - mse: 399.9678\n",
            "Epoch 14/500\n",
            "2/2 [==============================] - 0s 3ms/step - loss: 25.9217 - mse: 1049.5515\n",
            "Epoch 15/500\n",
            "2/2 [==============================] - 0s 2ms/step - loss: 17.9948 - mse: 450.2580\n",
            "Epoch 16/500\n",
            "2/2 [==============================] - 0s 3ms/step - loss: 7.3510 - mse: 80.6206\n",
            "Epoch 17/500\n",
            "2/2 [==============================] - 0s 3ms/step - loss: 10.8636 - mse: 174.7868\n",
            "Epoch 18/500\n",
            "2/2 [==============================] - 0s 3ms/step - loss: 19.5304 - mse: 565.8053\n",
            "Epoch 19/500\n",
            "2/2 [==============================] - 0s 3ms/step - loss: 10.3469 - mse: 167.7749\n",
            "Epoch 20/500\n",
            "2/2 [==============================] - 0s 2ms/step - loss: 17.6985 - mse: 455.7096\n",
            "Epoch 21/500\n",
            "2/2 [==============================] - 0s 2ms/step - loss: 15.8984 - mse: 347.1929\n",
            "Epoch 22/500\n",
            "2/2 [==============================] - 0s 5ms/step - loss: 14.1991 - mse: 285.1767\n",
            "Epoch 23/500\n",
            "2/2 [==============================] - 0s 3ms/step - loss: 8.7720 - mse: 91.7852\n",
            "Epoch 24/500\n",
            "2/2 [==============================] - 0s 3ms/step - loss: 11.0570 - mse: 153.7430\n",
            "Epoch 25/500\n",
            "2/2 [==============================] - 0s 3ms/step - loss: 12.6838 - mse: 233.2949\n",
            "Epoch 26/500\n",
            "2/2 [==============================] - 0s 3ms/step - loss: 26.1877 - mse: 1024.6091\n",
            "Epoch 27/500\n",
            "2/2 [==============================] - 0s 10ms/step - loss: 11.7432 - mse: 194.8454\n",
            "Epoch 28/500\n",
            "2/2 [==============================] - 0s 3ms/step - loss: 22.8730 - mse: 835.6074\n",
            "Epoch 29/500\n",
            "2/2 [==============================] - 0s 2ms/step - loss: 9.2459 - mse: 96.7786\n",
            "Epoch 30/500\n",
            "2/2 [==============================] - 0s 3ms/step - loss: 29.2641 - mse: 1535.1349\n",
            "Epoch 31/500\n",
            "2/2 [==============================] - 0s 3ms/step - loss: 53.0225 - mse: 5030.2988\n",
            "Epoch 32/500\n",
            "2/2 [==============================] - 0s 3ms/step - loss: 11.9951 - mse: 211.7025\n",
            "Epoch 33/500\n",
            "2/2 [==============================] - 0s 12ms/step - loss: 15.6357 - mse: 337.3666\n",
            "Epoch 34/500\n",
            "2/2 [==============================] - 0s 3ms/step - loss: 12.6925 - mse: 214.4824\n",
            "Epoch 35/500\n",
            "2/2 [==============================] - 0s 2ms/step - loss: 9.2398 - mse: 92.9126\n",
            "Epoch 36/500\n",
            "2/2 [==============================] - 0s 3ms/step - loss: 16.6497 - mse: 403.6573\n",
            "Epoch 37/500\n",
            "2/2 [==============================] - 0s 3ms/step - loss: 11.0382 - mse: 192.3919\n",
            "Epoch 38/500\n",
            "2/2 [==============================] - 0s 9ms/step - loss: 18.1634 - mse: 433.6717\n",
            "Epoch 39/500\n",
            "2/2 [==============================] - 0s 3ms/step - loss: 19.1013 - mse: 529.6439\n",
            "Epoch 40/500\n",
            "2/2 [==============================] - 0s 5ms/step - loss: 20.4324 - mse: 610.1324\n",
            "Epoch 41/500\n",
            "2/2 [==============================] - 0s 3ms/step - loss: 14.9102 - mse: 279.6183\n",
            "Epoch 42/500\n",
            "2/2 [==============================] - 0s 3ms/step - loss: 12.2809 - mse: 186.6180\n",
            "Epoch 43/500\n",
            "2/2 [==============================] - 0s 3ms/step - loss: 10.7333 - mse: 167.0952\n",
            "Epoch 44/500\n",
            "2/2 [==============================] - 0s 3ms/step - loss: 23.0260 - mse: 830.4244\n",
            "Epoch 45/500\n",
            "2/2 [==============================] - 0s 3ms/step - loss: 10.3897 - mse: 128.9549\n",
            "Epoch 46/500\n",
            "2/2 [==============================] - 0s 3ms/step - loss: 11.7904 - mse: 181.9212\n",
            "Epoch 47/500\n",
            "2/2 [==============================] - 0s 3ms/step - loss: 9.6438 - mse: 153.8708\n",
            "Epoch 48/500\n",
            "2/2 [==============================] - 0s 3ms/step - loss: 17.2335 - mse: 402.8494\n",
            "Epoch 49/500\n",
            "2/2 [==============================] - 0s 3ms/step - loss: 9.5729 - mse: 99.8337\n",
            "Epoch 50/500\n",
            "2/2 [==============================] - 0s 3ms/step - loss: 13.8185 - mse: 260.3670\n",
            "Epoch 51/500\n",
            "2/2 [==============================] - 0s 3ms/step - loss: 11.5958 - mse: 154.7956\n",
            "Epoch 52/500\n",
            "2/2 [==============================] - 0s 2ms/step - loss: 30.5538 - mse: 1613.0886\n",
            "Epoch 53/500\n",
            "2/2 [==============================] - 0s 3ms/step - loss: 14.3541 - mse: 302.5293\n",
            "Epoch 54/500\n",
            "2/2 [==============================] - 0s 3ms/step - loss: 23.9713 - mse: 859.3983\n",
            "Epoch 55/500\n",
            "2/2 [==============================] - 0s 3ms/step - loss: 23.1938 - mse: 805.5452\n",
            "Epoch 56/500\n",
            "2/2 [==============================] - 0s 3ms/step - loss: 10.8837 - mse: 170.9834\n",
            "Epoch 57/500\n",
            "2/2 [==============================] - 0s 3ms/step - loss: 12.7445 - mse: 198.7015\n",
            "Epoch 58/500\n",
            "2/2 [==============================] - 0s 3ms/step - loss: 9.5995 - mse: 102.5890\n",
            "Epoch 59/500\n",
            "2/2 [==============================] - 0s 3ms/step - loss: 12.5172 - mse: 216.3367\n",
            "Epoch 60/500\n",
            "2/2 [==============================] - 0s 3ms/step - loss: 12.3200 - mse: 208.6371\n",
            "Epoch 61/500\n",
            "2/2 [==============================] - 0s 3ms/step - loss: 17.4604 - mse: 428.6393\n",
            "Epoch 62/500\n",
            "2/2 [==============================] - 0s 3ms/step - loss: 10.6052 - mse: 136.9777\n",
            "Epoch 63/500\n",
            "2/2 [==============================] - 0s 3ms/step - loss: 10.4893 - mse: 152.4555\n",
            "Epoch 64/500\n",
            "2/2 [==============================] - 0s 3ms/step - loss: 24.8450 - mse: 911.7512\n",
            "Epoch 65/500\n",
            "2/2 [==============================] - 0s 11ms/step - loss: 10.6761 - mse: 142.7374\n",
            "Epoch 66/500\n",
            "2/2 [==============================] - 0s 3ms/step - loss: 21.7809 - mse: 704.4492\n",
            "Epoch 67/500\n",
            "2/2 [==============================] - 0s 2ms/step - loss: 10.7136 - mse: 136.0194\n",
            "Epoch 68/500\n",
            "2/2 [==============================] - 0s 4ms/step - loss: 10.6397 - mse: 149.2300\n",
            "Epoch 69/500\n",
            "2/2 [==============================] - 0s 4ms/step - loss: 22.6914 - mse: 742.1761\n",
            "Epoch 70/500\n",
            "2/2 [==============================] - 0s 4ms/step - loss: 9.3316 - mse: 166.1628\n",
            "Epoch 71/500\n",
            "2/2 [==============================] - 0s 6ms/step - loss: 15.4355 - mse: 323.0843\n",
            "Epoch 72/500\n",
            "2/2 [==============================] - 0s 3ms/step - loss: 6.7437 - mse: 67.0210\n",
            "Epoch 73/500\n",
            "2/2 [==============================] - 0s 3ms/step - loss: 11.6891 - mse: 183.7296\n",
            "Epoch 74/500\n",
            "2/2 [==============================] - 0s 5ms/step - loss: 24.0400 - mse: 908.8992\n",
            "Epoch 75/500\n",
            "2/2 [==============================] - 0s 6ms/step - loss: 9.5896 - mse: 149.3948\n",
            "Epoch 76/500\n",
            "2/2 [==============================] - 0s 4ms/step - loss: 12.4371 - mse: 188.3310\n",
            "Epoch 77/500\n",
            "2/2 [==============================] - 0s 2ms/step - loss: 16.6489 - mse: 429.2708\n",
            "Epoch 78/500\n",
            "2/2 [==============================] - 0s 10ms/step - loss: 9.0614 - mse: 95.4870\n",
            "Epoch 79/500\n",
            "2/2 [==============================] - 0s 6ms/step - loss: 23.9675 - mse: 864.0864\n",
            "Epoch 80/500\n",
            "2/2 [==============================] - 0s 7ms/step - loss: 26.7463 - mse: 1104.4032\n",
            "Epoch 81/500\n",
            "2/2 [==============================] - 0s 6ms/step - loss: 11.6714 - mse: 170.7055\n",
            "Epoch 82/500\n",
            "2/2 [==============================] - 0s 12ms/step - loss: 12.0228 - mse: 211.9191\n",
            "Epoch 83/500\n",
            "2/2 [==============================] - 0s 5ms/step - loss: 17.4218 - mse: 395.5589\n",
            "Epoch 84/500\n",
            "2/2 [==============================] - 0s 3ms/step - loss: 7.2629 - mse: 73.0935\n",
            "Epoch 85/500\n",
            "2/2 [==============================] - 0s 4ms/step - loss: 14.9650 - mse: 312.8361\n",
            "Epoch 86/500\n",
            "2/2 [==============================] - 0s 3ms/step - loss: 15.2862 - mse: 315.3605\n",
            "Epoch 87/500\n",
            "2/2 [==============================] - 0s 3ms/step - loss: 19.1086 - mse: 521.2534\n",
            "Epoch 88/500\n",
            "2/2 [==============================] - 0s 4ms/step - loss: 29.8229 - mse: 1287.1907\n",
            "Epoch 89/500\n",
            "2/2 [==============================] - 0s 5ms/step - loss: 10.1742 - mse: 124.1342\n",
            "Epoch 90/500\n",
            "2/2 [==============================] - 0s 4ms/step - loss: 21.5240 - mse: 663.8611\n",
            "Epoch 91/500\n",
            "2/2 [==============================] - 0s 3ms/step - loss: 10.5716 - mse: 161.7467\n",
            "Epoch 92/500\n",
            "2/2 [==============================] - 0s 4ms/step - loss: 18.3977 - mse: 464.1326\n",
            "Epoch 93/500\n",
            "2/2 [==============================] - 0s 10ms/step - loss: 7.4138 - mse: 81.9820\n",
            "Epoch 94/500\n",
            "2/2 [==============================] - 0s 3ms/step - loss: 17.7380 - mse: 445.7379\n",
            "Epoch 95/500\n",
            "2/2 [==============================] - 0s 8ms/step - loss: 11.1144 - mse: 164.0820\n",
            "Epoch 96/500\n",
            "2/2 [==============================] - 0s 3ms/step - loss: 19.4346 - mse: 510.5842\n",
            "Epoch 97/500\n",
            "2/2 [==============================] - 0s 3ms/step - loss: 12.1593 - mse: 209.9755\n",
            "Epoch 98/500\n",
            "2/2 [==============================] - 0s 3ms/step - loss: 11.5653 - mse: 169.4052\n",
            "Epoch 99/500\n",
            "2/2 [==============================] - 0s 3ms/step - loss: 13.8827 - mse: 265.4630\n",
            "Epoch 100/500\n",
            "2/2 [==============================] - 0s 5ms/step - loss: 20.2277 - mse: 608.8218\n",
            "Epoch 101/500\n",
            "2/2 [==============================] - 0s 3ms/step - loss: 11.4479 - mse: 177.1446\n",
            "Epoch 102/500\n",
            "2/2 [==============================] - 0s 3ms/step - loss: 17.4842 - mse: 426.5329\n",
            "Epoch 103/500\n",
            "2/2 [==============================] - 0s 3ms/step - loss: 7.0217 - mse: 65.2649\n",
            "Epoch 104/500\n",
            "2/2 [==============================] - 0s 2ms/step - loss: 23.5789 - mse: 757.4911\n",
            "Epoch 105/500\n",
            "2/2 [==============================] - 0s 4ms/step - loss: 16.8932 - mse: 443.0951\n",
            "Epoch 106/500\n",
            "2/2 [==============================] - 0s 3ms/step - loss: 9.2954 - mse: 144.6570\n",
            "Epoch 107/500\n",
            "2/2 [==============================] - 0s 3ms/step - loss: 25.3749 - mse: 934.2098\n",
            "Epoch 108/500\n",
            "2/2 [==============================] - 0s 3ms/step - loss: 13.4621 - mse: 269.8598\n",
            "Epoch 109/500\n",
            "2/2 [==============================] - 0s 3ms/step - loss: 9.5238 - mse: 108.7908\n",
            "Epoch 110/500\n",
            "2/2 [==============================] - 0s 3ms/step - loss: 9.6722 - mse: 128.8767\n",
            "Epoch 111/500\n",
            "2/2 [==============================] - 0s 3ms/step - loss: 14.5987 - mse: 295.9862\n",
            "Epoch 112/500\n",
            "2/2 [==============================] - 0s 3ms/step - loss: 9.5670 - mse: 123.4113\n",
            "Epoch 113/500\n",
            "2/2 [==============================] - 0s 3ms/step - loss: 17.8092 - mse: 460.3867\n",
            "Epoch 114/500\n",
            "2/2 [==============================] - 0s 3ms/step - loss: 17.1782 - mse: 441.2208\n",
            "Epoch 115/500\n",
            "2/2 [==============================] - 0s 3ms/step - loss: 11.1182 - mse: 155.0961\n",
            "Epoch 116/500\n",
            "2/2 [==============================] - 0s 3ms/step - loss: 23.3071 - mse: 791.7657\n",
            "Epoch 117/500\n",
            "2/2 [==============================] - 0s 3ms/step - loss: 9.6144 - mse: 126.1895\n",
            "Epoch 118/500\n",
            "2/2 [==============================] - 0s 3ms/step - loss: 10.6899 - mse: 140.2945\n",
            "Epoch 119/500\n",
            "2/2 [==============================] - 0s 3ms/step - loss: 8.0355 - mse: 78.3508\n",
            "Epoch 120/500\n",
            "2/2 [==============================] - 0s 2ms/step - loss: 29.6859 - mse: 1315.8645\n",
            "Epoch 121/500\n",
            "2/2 [==============================] - 0s 3ms/step - loss: 8.0714 - mse: 70.6648\n",
            "Epoch 122/500\n",
            "2/2 [==============================] - 0s 2ms/step - loss: 28.3086 - mse: 1233.3849\n",
            "Epoch 123/500\n",
            "2/2 [==============================] - 0s 3ms/step - loss: 32.9014 - mse: 1591.9503\n",
            "Epoch 124/500\n",
            "2/2 [==============================] - 0s 3ms/step - loss: 19.6291 - mse: 571.6960\n",
            "Epoch 125/500\n",
            "2/2 [==============================] - 0s 3ms/step - loss: 7.0095 - mse: 72.1091\n",
            "Epoch 126/500\n",
            "2/2 [==============================] - 0s 8ms/step - loss: 21.8056 - mse: 666.4340\n",
            "Epoch 127/500\n",
            "2/2 [==============================] - 0s 5ms/step - loss: 7.9812 - mse: 69.5627\n",
            "Epoch 128/500\n",
            "2/2 [==============================] - 0s 2ms/step - loss: 21.0585 - mse: 653.6486\n",
            "Epoch 129/500\n",
            "2/2 [==============================] - 0s 3ms/step - loss: 9.0107 - mse: 120.8763\n",
            "Epoch 130/500\n",
            "2/2 [==============================] - 0s 10ms/step - loss: 24.0502 - mse: 815.7742\n",
            "Epoch 131/500\n",
            "2/2 [==============================] - 0s 4ms/step - loss: 9.7537 - mse: 133.0194\n",
            "Epoch 132/500\n",
            "2/2 [==============================] - 0s 7ms/step - loss: 18.3052 - mse: 500.9214\n",
            "Epoch 133/500\n",
            "2/2 [==============================] - 0s 3ms/step - loss: 7.5833 - mse: 80.1913\n",
            "Epoch 134/500\n",
            "2/2 [==============================] - 0s 3ms/step - loss: 18.5755 - mse: 506.3341\n",
            "Epoch 135/500\n",
            "2/2 [==============================] - 0s 3ms/step - loss: 10.5360 - mse: 148.5977\n",
            "Epoch 136/500\n",
            "2/2 [==============================] - 0s 2ms/step - loss: 18.2694 - mse: 472.4460\n",
            "Epoch 137/500\n",
            "2/2 [==============================] - 0s 10ms/step - loss: 23.1658 - mse: 724.0381\n",
            "Epoch 138/500\n",
            "2/2 [==============================] - 0s 3ms/step - loss: 9.1362 - mse: 139.5299\n",
            "Epoch 139/500\n",
            "2/2 [==============================] - 0s 4ms/step - loss: 8.9181 - mse: 144.6079\n",
            "Epoch 140/500\n",
            "2/2 [==============================] - 0s 4ms/step - loss: 16.4732 - mse: 389.2471\n",
            "Epoch 141/500\n",
            "2/2 [==============================] - 0s 3ms/step - loss: 8.4208 - mse: 91.7413\n",
            "Epoch 142/500\n",
            "2/2 [==============================] - 0s 8ms/step - loss: 36.9540 - mse: 2404.8650\n",
            "Epoch 143/500\n",
            "2/2 [==============================] - 0s 3ms/step - loss: 25.5820 - mse: 927.2343\n",
            "Epoch 144/500\n",
            "2/2 [==============================] - 0s 3ms/step - loss: 9.5392 - mse: 144.3266\n",
            "Epoch 145/500\n",
            "2/2 [==============================] - 0s 4ms/step - loss: 26.6058 - mse: 957.1338\n",
            "Epoch 146/500\n",
            "2/2 [==============================] - 0s 5ms/step - loss: 8.7248 - mse: 109.2954\n",
            "Epoch 147/500\n",
            "2/2 [==============================] - 0s 9ms/step - loss: 15.6172 - mse: 311.2310\n",
            "Epoch 148/500\n",
            "2/2 [==============================] - 0s 3ms/step - loss: 18.3065 - mse: 464.7855\n",
            "Epoch 149/500\n",
            "2/2 [==============================] - 0s 3ms/step - loss: 8.1994 - mse: 106.4583\n",
            "Epoch 150/500\n",
            "2/2 [==============================] - 0s 3ms/step - loss: 7.4964 - mse: 66.4456\n",
            "Epoch 151/500\n",
            "2/2 [==============================] - 0s 5ms/step - loss: 18.3374 - mse: 485.9982\n",
            "Epoch 152/500\n",
            "2/2 [==============================] - 0s 3ms/step - loss: 10.2895 - mse: 130.5616\n",
            "Epoch 153/500\n",
            "2/2 [==============================] - 0s 3ms/step - loss: 29.6425 - mse: 1268.4631\n",
            "Epoch 154/500\n",
            "2/2 [==============================] - 0s 3ms/step - loss: 10.5556 - mse: 201.2335\n",
            "Epoch 155/500\n",
            "2/2 [==============================] - 0s 3ms/step - loss: 15.4537 - mse: 347.2169\n",
            "Epoch 156/500\n",
            "2/2 [==============================] - 0s 2ms/step - loss: 17.0174 - mse: 438.8495\n",
            "Epoch 157/500\n",
            "2/2 [==============================] - 0s 3ms/step - loss: 32.8218 - mse: 1744.8142\n",
            "Epoch 158/500\n",
            "2/2 [==============================] - 0s 3ms/step - loss: 10.7038 - mse: 151.0813\n",
            "Epoch 159/500\n",
            "2/2 [==============================] - 0s 5ms/step - loss: 8.9054 - mse: 97.7705\n",
            "Epoch 160/500\n",
            "2/2 [==============================] - 0s 3ms/step - loss: 22.1321 - mse: 709.4396\n",
            "Epoch 161/500\n",
            "2/2 [==============================] - 0s 3ms/step - loss: 11.7113 - mse: 202.9613\n",
            "Epoch 162/500\n",
            "2/2 [==============================] - 0s 2ms/step - loss: 21.5734 - mse: 670.2861\n",
            "Epoch 163/500\n",
            "2/2 [==============================] - 0s 3ms/step - loss: 19.2485 - mse: 533.4074\n",
            "Epoch 164/500\n",
            "2/2 [==============================] - 0s 3ms/step - loss: 11.0156 - mse: 177.6826\n",
            "Epoch 165/500\n",
            "2/2 [==============================] - 0s 3ms/step - loss: 9.6187 - mse: 179.8633\n",
            "Epoch 166/500\n",
            "2/2 [==============================] - 0s 3ms/step - loss: 21.5908 - mse: 681.9667\n",
            "Epoch 167/500\n",
            "2/2 [==============================] - 0s 3ms/step - loss: 26.2851 - mse: 1048.8446\n",
            "Epoch 168/500\n",
            "2/2 [==============================] - 0s 2ms/step - loss: 9.8525 - mse: 118.2892\n",
            "Epoch 169/500\n",
            "2/2 [==============================] - 0s 3ms/step - loss: 22.5630 - mse: 787.0588\n",
            "Epoch 170/500\n",
            "2/2 [==============================] - 0s 3ms/step - loss: 10.1499 - mse: 195.9051\n",
            "Epoch 171/500\n",
            "2/2 [==============================] - 0s 3ms/step - loss: 18.0464 - mse: 503.4533\n",
            "Epoch 172/500\n",
            "2/2 [==============================] - 0s 3ms/step - loss: 28.8377 - mse: 1305.7986\n",
            "Epoch 173/500\n",
            "2/2 [==============================] - 0s 3ms/step - loss: 16.5279 - mse: 432.1444\n",
            "Epoch 174/500\n",
            "2/2 [==============================] - 0s 4ms/step - loss: 11.2115 - mse: 199.9691\n",
            "Epoch 175/500\n",
            "2/2 [==============================] - 0s 2ms/step - loss: 27.5839 - mse: 1097.8187\n",
            "Epoch 176/500\n",
            "2/2 [==============================] - 0s 10ms/step - loss: 8.2680 - mse: 77.5372\n",
            "Epoch 177/500\n",
            "2/2 [==============================] - 0s 3ms/step - loss: 9.2580 - mse: 108.9075\n",
            "Epoch 178/500\n",
            "2/2 [==============================] - 0s 3ms/step - loss: 18.1440 - mse: 466.0513\n",
            "Epoch 179/500\n",
            "2/2 [==============================] - 0s 3ms/step - loss: 10.5995 - mse: 147.8543\n",
            "Epoch 180/500\n",
            "2/2 [==============================] - 0s 10ms/step - loss: 7.8992 - mse: 100.6932\n",
            "Epoch 181/500\n",
            "2/2 [==============================] - 0s 3ms/step - loss: 17.4015 - mse: 438.6035\n",
            "Epoch 182/500\n",
            "2/2 [==============================] - 0s 15ms/step - loss: 11.0089 - mse: 157.1596\n",
            "Epoch 183/500\n",
            "2/2 [==============================] - 0s 3ms/step - loss: 11.7027 - mse: 203.9956\n",
            "Epoch 184/500\n",
            "2/2 [==============================] - 0s 10ms/step - loss: 30.4062 - mse: 1387.3850\n",
            "Epoch 185/500\n",
            "2/2 [==============================] - 0s 3ms/step - loss: 7.5557 - mse: 98.6847\n",
            "Epoch 186/500\n",
            "2/2 [==============================] - 0s 3ms/step - loss: 15.9905 - mse: 369.3699\n",
            "Epoch 187/500\n",
            "2/2 [==============================] - 0s 8ms/step - loss: 8.5579 - mse: 85.4846\n",
            "Epoch 188/500\n",
            "2/2 [==============================] - 0s 3ms/step - loss: 28.7339 - mse: 1175.7068\n",
            "Epoch 189/500\n",
            "2/2 [==============================] - 0s 3ms/step - loss: 13.1689 - mse: 271.3447\n",
            "Epoch 190/500\n",
            "2/2 [==============================] - 0s 3ms/step - loss: 18.3101 - mse: 512.5546\n",
            "Epoch 191/500\n",
            "2/2 [==============================] - 0s 3ms/step - loss: 13.7376 - mse: 264.9675\n",
            "Epoch 192/500\n",
            "2/2 [==============================] - 0s 3ms/step - loss: 13.7104 - mse: 261.0630\n",
            "Epoch 193/500\n",
            "2/2 [==============================] - 0s 3ms/step - loss: 28.5842 - mse: 1135.1302\n",
            "Epoch 194/500\n",
            "2/2 [==============================] - 0s 3ms/step - loss: 7.0707 - mse: 78.6824\n",
            "Epoch 195/500\n",
            "2/2 [==============================] - 0s 9ms/step - loss: 7.0550 - mse: 74.9454\n",
            "Epoch 196/500\n",
            "2/2 [==============================] - 0s 4ms/step - loss: 22.0067 - mse: 709.4537\n",
            "Epoch 197/500\n",
            "2/2 [==============================] - 0s 4ms/step - loss: 20.8443 - mse: 643.6125\n",
            "Epoch 198/500\n",
            "2/2 [==============================] - 0s 4ms/step - loss: 12.4713 - mse: 236.5511\n",
            "Epoch 199/500\n",
            "2/2 [==============================] - 0s 6ms/step - loss: 17.9099 - mse: 460.3531\n",
            "Epoch 200/500\n",
            "2/2 [==============================] - 0s 2ms/step - loss: 13.7494 - mse: 282.2669\n",
            "Epoch 201/500\n",
            "2/2 [==============================] - 0s 3ms/step - loss: 5.4687 - mse: 41.0882\n",
            "Epoch 202/500\n",
            "2/2 [==============================] - 0s 6ms/step - loss: 13.7006 - mse: 293.8446\n",
            "Epoch 203/500\n",
            "2/2 [==============================] - 0s 3ms/step - loss: 9.4142 - mse: 139.9066\n",
            "Epoch 204/500\n",
            "2/2 [==============================] - 0s 6ms/step - loss: 20.9796 - mse: 656.2629\n",
            "Epoch 205/500\n",
            "2/2 [==============================] - 0s 3ms/step - loss: 9.5470 - mse: 127.9146\n",
            "Epoch 206/500\n",
            "2/2 [==============================] - 0s 2ms/step - loss: 11.7256 - mse: 195.6241\n",
            "Epoch 207/500\n",
            "2/2 [==============================] - 0s 19ms/step - loss: 14.3772 - mse: 317.1679\n",
            "Epoch 208/500\n",
            "2/2 [==============================] - 0s 2ms/step - loss: 14.8579 - mse: 323.1455\n",
            "Epoch 209/500\n",
            "2/2 [==============================] - 0s 3ms/step - loss: 14.9706 - mse: 345.7379\n",
            "Epoch 210/500\n",
            "2/2 [==============================] - 0s 10ms/step - loss: 17.8998 - mse: 467.4648\n",
            "Epoch 211/500\n",
            "2/2 [==============================] - 0s 3ms/step - loss: 9.8327 - mse: 145.8636\n",
            "Epoch 212/500\n",
            "2/2 [==============================] - 0s 4ms/step - loss: 18.3352 - mse: 507.7771\n",
            "Epoch 213/500\n",
            "2/2 [==============================] - 0s 4ms/step - loss: 15.0383 - mse: 307.6406\n",
            "Epoch 214/500\n",
            "2/2 [==============================] - 0s 3ms/step - loss: 14.5874 - mse: 293.5642\n",
            "Epoch 215/500\n",
            "2/2 [==============================] - 0s 5ms/step - loss: 23.3015 - mse: 799.4148\n",
            "Epoch 216/500\n",
            "2/2 [==============================] - 0s 3ms/step - loss: 13.3613 - mse: 278.0950\n",
            "Epoch 217/500\n",
            "2/2 [==============================] - 0s 2ms/step - loss: 9.8517 - mse: 136.3093\n",
            "Epoch 218/500\n",
            "2/2 [==============================] - 0s 3ms/step - loss: 12.5451 - mse: 206.5809\n",
            "Epoch 219/500\n",
            "2/2 [==============================] - 0s 2ms/step - loss: 4.9472 - mse: 37.4063\n",
            "Epoch 220/500\n",
            "2/2 [==============================] - 0s 2ms/step - loss: 7.1130 - mse: 57.5579\n",
            "Epoch 221/500\n",
            "2/2 [==============================] - 0s 5ms/step - loss: 35.4567 - mse: 2108.1023\n",
            "Epoch 222/500\n",
            "2/2 [==============================] - 0s 4ms/step - loss: 34.8634 - mse: 1966.9613\n",
            "Epoch 223/500\n",
            "2/2 [==============================] - 0s 3ms/step - loss: 7.9846 - mse: 119.7549\n",
            "Epoch 224/500\n",
            "2/2 [==============================] - 0s 4ms/step - loss: 14.7004 - mse: 318.5025\n",
            "Epoch 225/500\n",
            "2/2 [==============================] - 0s 2ms/step - loss: 16.7196 - mse: 360.6416\n",
            "Epoch 226/500\n",
            "2/2 [==============================] - 0s 4ms/step - loss: 15.9329 - mse: 369.8890\n",
            "Epoch 227/500\n",
            "2/2 [==============================] - 0s 5ms/step - loss: 16.1644 - mse: 369.5817\n",
            "Epoch 228/500\n",
            "2/2 [==============================] - 0s 9ms/step - loss: 13.9324 - mse: 282.1421\n",
            "Epoch 229/500\n",
            "2/2 [==============================] - 0s 12ms/step - loss: 18.0504 - mse: 457.4227\n",
            "Epoch 230/500\n",
            "2/2 [==============================] - 0s 20ms/step - loss: 15.6120 - mse: 314.6218\n",
            "Epoch 231/500\n",
            "2/2 [==============================] - 0s 4ms/step - loss: 21.2041 - mse: 670.7587\n",
            "Epoch 232/500\n",
            "2/2 [==============================] - 0s 3ms/step - loss: 25.2732 - mse: 913.5804\n",
            "Epoch 233/500\n",
            "2/2 [==============================] - 0s 11ms/step - loss: 16.3176 - mse: 387.7160\n",
            "Epoch 234/500\n",
            "2/2 [==============================] - 0s 3ms/step - loss: 7.2729 - mse: 66.5098\n",
            "Epoch 235/500\n",
            "2/2 [==============================] - 0s 2ms/step - loss: 16.9688 - mse: 403.1298\n",
            "Epoch 236/500\n",
            "2/2 [==============================] - 0s 3ms/step - loss: 7.1225 - mse: 69.7516\n",
            "Epoch 237/500\n",
            "2/2 [==============================] - 0s 6ms/step - loss: 9.2058 - mse: 118.9100\n",
            "Epoch 238/500\n",
            "2/2 [==============================] - 0s 6ms/step - loss: 8.0961 - mse: 86.7115\n",
            "Epoch 239/500\n",
            "2/2 [==============================] - 0s 12ms/step - loss: 17.0538 - mse: 438.0269\n",
            "Epoch 240/500\n",
            "2/2 [==============================] - 0s 6ms/step - loss: 8.8627 - mse: 107.8192\n",
            "Epoch 241/500\n",
            "2/2 [==============================] - 0s 3ms/step - loss: 13.1711 - mse: 273.2422\n",
            "Epoch 242/500\n",
            "2/2 [==============================] - 0s 3ms/step - loss: 8.7886 - mse: 104.8366\n",
            "Epoch 243/500\n",
            "2/2 [==============================] - 0s 3ms/step - loss: 18.8161 - mse: 541.4716\n",
            "Epoch 244/500\n",
            "2/2 [==============================] - 0s 13ms/step - loss: 14.0531 - mse: 275.3817\n",
            "Epoch 245/500\n",
            "2/2 [==============================] - 0s 3ms/step - loss: 14.6831 - mse: 290.1828\n",
            "Epoch 246/500\n",
            "2/2 [==============================] - 0s 4ms/step - loss: 15.8045 - mse: 370.7154\n",
            "Epoch 247/500\n",
            "2/2 [==============================] - 0s 3ms/step - loss: 17.6810 - mse: 421.4945\n",
            "Epoch 248/500\n",
            "2/2 [==============================] - 0s 2ms/step - loss: 13.2367 - mse: 251.7197\n",
            "Epoch 249/500\n",
            "2/2 [==============================] - 0s 3ms/step - loss: 14.5070 - mse: 288.7692\n",
            "Epoch 250/500\n",
            "2/2 [==============================] - 0s 9ms/step - loss: 23.2322 - mse: 793.2501\n",
            "Epoch 251/500\n",
            "2/2 [==============================] - 0s 3ms/step - loss: 9.3009 - mse: 119.0357\n",
            "Epoch 252/500\n",
            "2/2 [==============================] - 0s 3ms/step - loss: 36.6569 - mse: 2195.6194\n",
            "Epoch 253/500\n",
            "2/2 [==============================] - 0s 2ms/step - loss: 21.8205 - mse: 667.9635\n",
            "Epoch 254/500\n",
            "2/2 [==============================] - 0s 4ms/step - loss: 7.2792 - mse: 77.8093\n",
            "Epoch 255/500\n",
            "2/2 [==============================] - 0s 3ms/step - loss: 24.7127 - mse: 882.9670\n",
            "Epoch 256/500\n",
            "2/2 [==============================] - 0s 5ms/step - loss: 12.4220 - mse: 220.3517\n",
            "Epoch 257/500\n",
            "2/2 [==============================] - 0s 4ms/step - loss: 10.5823 - mse: 164.0441\n",
            "Epoch 258/500\n",
            "2/2 [==============================] - 0s 3ms/step - loss: 14.4883 - mse: 322.3513\n",
            "Epoch 259/500\n",
            "2/2 [==============================] - 0s 3ms/step - loss: 8.6132 - mse: 98.6933\n",
            "Epoch 260/500\n",
            "2/2 [==============================] - 0s 3ms/step - loss: 43.0580 - mse: 2975.2341\n",
            "Epoch 261/500\n",
            "2/2 [==============================] - 0s 3ms/step - loss: 18.4611 - mse: 493.6667\n",
            "Epoch 262/500\n",
            "2/2 [==============================] - 0s 3ms/step - loss: 6.8820 - mse: 94.3408\n",
            "Epoch 263/500\n",
            "2/2 [==============================] - 0s 3ms/step - loss: 13.7211 - mse: 268.5678\n",
            "Epoch 264/500\n",
            "2/2 [==============================] - 0s 3ms/step - loss: 21.0154 - mse: 653.9614\n",
            "Epoch 265/500\n",
            "2/2 [==============================] - 0s 3ms/step - loss: 19.3731 - mse: 545.6253\n",
            "Epoch 266/500\n",
            "2/2 [==============================] - 0s 3ms/step - loss: 11.4735 - mse: 234.7203\n",
            "Epoch 267/500\n",
            "2/2 [==============================] - 0s 9ms/step - loss: 7.5302 - mse: 112.0908\n",
            "Epoch 268/500\n",
            "2/2 [==============================] - 0s 2ms/step - loss: 21.6453 - mse: 670.2252\n",
            "Epoch 269/500\n",
            "2/2 [==============================] - 0s 45ms/step - loss: 33.1785 - mse: 1653.7379\n",
            "Epoch 270/500\n",
            "2/2 [==============================] - 0s 5ms/step - loss: 10.0833 - mse: 148.7353\n",
            "Epoch 271/500\n",
            "2/2 [==============================] - 0s 2ms/step - loss: 12.1012 - mse: 303.1726\n",
            "Epoch 272/500\n",
            "2/2 [==============================] - 0s 3ms/step - loss: 26.1372 - mse: 944.6776\n",
            "Epoch 273/500\n",
            "2/2 [==============================] - 0s 3ms/step - loss: 12.1751 - mse: 228.8034\n",
            "Epoch 274/500\n",
            "2/2 [==============================] - 0s 3ms/step - loss: 13.3272 - mse: 282.3035\n",
            "Epoch 275/500\n",
            "2/2 [==============================] - 0s 3ms/step - loss: 29.3775 - mse: 1229.1163\n",
            "Epoch 276/500\n",
            "2/2 [==============================] - 0s 3ms/step - loss: 7.3329 - mse: 104.3417\n",
            "Epoch 277/500\n",
            "2/2 [==============================] - 0s 3ms/step - loss: 31.1362 - mse: 1360.7679\n",
            "Epoch 278/500\n",
            "2/2 [==============================] - 0s 3ms/step - loss: 12.3015 - mse: 234.6620\n",
            "Epoch 279/500\n",
            "2/2 [==============================] - 0s 4ms/step - loss: 16.4103 - mse: 416.9113\n",
            "Epoch 280/500\n",
            "2/2 [==============================] - 0s 4ms/step - loss: 21.9118 - mse: 716.7842\n",
            "Epoch 281/500\n",
            "2/2 [==============================] - 0s 5ms/step - loss: 22.1501 - mse: 745.2065\n",
            "Epoch 282/500\n",
            "2/2 [==============================] - 0s 3ms/step - loss: 7.7429 - mse: 90.5224\n",
            "Epoch 283/500\n",
            "2/2 [==============================] - 0s 14ms/step - loss: 8.1429 - mse: 87.9050\n",
            "Epoch 284/500\n",
            "2/2 [==============================] - 0s 6ms/step - loss: 24.9435 - mse: 936.1608\n",
            "Epoch 285/500\n",
            "2/2 [==============================] - 0s 2ms/step - loss: 13.6958 - mse: 299.3615\n",
            "Epoch 286/500\n",
            "2/2 [==============================] - 0s 3ms/step - loss: 6.8926 - mse: 81.2999\n",
            "Epoch 287/500\n",
            "2/2 [==============================] - 0s 2ms/step - loss: 24.5352 - mse: 862.2879\n",
            "Epoch 288/500\n",
            "2/2 [==============================] - 0s 3ms/step - loss: 20.1721 - mse: 605.2875\n",
            "Epoch 289/500\n",
            "2/2 [==============================] - 0s 2ms/step - loss: 11.9658 - mse: 244.8307\n",
            "Epoch 290/500\n",
            "2/2 [==============================] - 0s 2ms/step - loss: 16.5391 - mse: 366.5719\n",
            "Epoch 291/500\n",
            "2/2 [==============================] - 0s 3ms/step - loss: 16.8017 - mse: 414.8177\n",
            "Epoch 292/500\n",
            "2/2 [==============================] - 0s 4ms/step - loss: 9.4642 - mse: 213.4544\n",
            "Epoch 293/500\n",
            "2/2 [==============================] - 0s 5ms/step - loss: 15.2711 - mse: 318.1684\n",
            "Epoch 294/500\n",
            "2/2 [==============================] - 0s 4ms/step - loss: 22.7179 - mse: 780.8712\n",
            "Epoch 295/500\n",
            "2/2 [==============================] - 0s 3ms/step - loss: 17.9234 - mse: 458.5733\n",
            "Epoch 296/500\n",
            "2/2 [==============================] - 0s 4ms/step - loss: 6.1743 - mse: 59.0634\n",
            "Epoch 297/500\n",
            "2/2 [==============================] - 0s 5ms/step - loss: 10.9440 - mse: 254.2861\n",
            "Epoch 298/500\n",
            "2/2 [==============================] - 0s 13ms/step - loss: 23.1530 - mse: 785.9867\n",
            "Epoch 299/500\n",
            "2/2 [==============================] - 0s 11ms/step - loss: 17.7331 - mse: 469.9268\n",
            "Epoch 300/500\n",
            "2/2 [==============================] - 0s 3ms/step - loss: 6.9824 - mse: 65.0503\n",
            "Epoch 301/500\n",
            "2/2 [==============================] - 0s 3ms/step - loss: 25.1857 - mse: 898.2788\n",
            "Epoch 302/500\n",
            "2/2 [==============================] - 0s 2ms/step - loss: 8.9025 - mse: 116.0077\n",
            "Epoch 303/500\n",
            "2/2 [==============================] - 0s 3ms/step - loss: 17.7668 - mse: 461.9373\n",
            "Epoch 304/500\n",
            "2/2 [==============================] - 0s 3ms/step - loss: 11.0002 - mse: 173.9248\n",
            "Epoch 305/500\n",
            "2/2 [==============================] - 0s 3ms/step - loss: 12.9191 - mse: 271.8381\n",
            "Epoch 306/500\n",
            "2/2 [==============================] - 0s 3ms/step - loss: 8.4033 - mse: 94.4444\n",
            "Epoch 307/500\n",
            "2/2 [==============================] - 0s 3ms/step - loss: 13.6094 - mse: 279.1173\n",
            "Epoch 308/500\n",
            "2/2 [==============================] - 0s 3ms/step - loss: 7.4404 - mse: 78.3839\n",
            "Epoch 309/500\n",
            "2/2 [==============================] - 0s 5ms/step - loss: 9.4642 - mse: 138.8858\n",
            "Epoch 310/500\n",
            "2/2 [==============================] - 0s 3ms/step - loss: 10.7099 - mse: 198.2187\n",
            "Epoch 311/500\n",
            "2/2 [==============================] - 0s 3ms/step - loss: 13.2814 - mse: 254.2447\n",
            "Epoch 312/500\n",
            "2/2 [==============================] - 0s 3ms/step - loss: 29.9763 - mse: 1241.6272\n",
            "Epoch 313/500\n",
            "2/2 [==============================] - 0s 3ms/step - loss: 7.6304 - mse: 104.4100\n",
            "Epoch 314/500\n",
            "2/2 [==============================] - 0s 6ms/step - loss: 9.9106 - mse: 239.5556\n",
            "Epoch 315/500\n",
            "2/2 [==============================] - 0s 19ms/step - loss: 23.7669 - mse: 820.7438\n",
            "Epoch 316/500\n",
            "2/2 [==============================] - 0s 5ms/step - loss: 16.3937 - mse: 404.4796\n",
            "Epoch 317/500\n",
            "2/2 [==============================] - 0s 4ms/step - loss: 21.0758 - mse: 606.4604\n",
            "Epoch 318/500\n",
            "2/2 [==============================] - 0s 3ms/step - loss: 7.9367 - mse: 81.3765\n",
            "Epoch 319/500\n",
            "2/2 [==============================] - 0s 4ms/step - loss: 17.9731 - mse: 479.6092\n",
            "Epoch 320/500\n",
            "2/2 [==============================] - 0s 3ms/step - loss: 10.2375 - mse: 174.0454\n",
            "Epoch 321/500\n",
            "2/2 [==============================] - 0s 7ms/step - loss: 8.3338 - mse: 110.8493\n",
            "Epoch 322/500\n",
            "2/2 [==============================] - 0s 5ms/step - loss: 5.0621 - mse: 39.6195\n",
            "Epoch 323/500\n",
            "2/2 [==============================] - 0s 6ms/step - loss: 23.5109 - mse: 802.4891\n",
            "Epoch 324/500\n",
            "2/2 [==============================] - 0s 4ms/step - loss: 6.8309 - mse: 57.6746\n",
            "Epoch 325/500\n",
            "2/2 [==============================] - 0s 3ms/step - loss: 16.3863 - mse: 384.4404\n",
            "Epoch 326/500\n",
            "2/2 [==============================] - 0s 3ms/step - loss: 7.5019 - mse: 78.7650\n",
            "Epoch 327/500\n",
            "2/2 [==============================] - 0s 4ms/step - loss: 20.0573 - mse: 568.8239\n",
            "Epoch 328/500\n",
            "2/2 [==============================] - 0s 2ms/step - loss: 13.7661 - mse: 265.8646\n",
            "Epoch 329/500\n",
            "2/2 [==============================] - 0s 6ms/step - loss: 16.8282 - mse: 430.9923\n",
            "Epoch 330/500\n",
            "2/2 [==============================] - 0s 4ms/step - loss: 7.0514 - mse: 81.9922\n",
            "Epoch 331/500\n",
            "2/2 [==============================] - 0s 70ms/step - loss: 21.4846 - mse: 704.3917\n",
            "Epoch 332/500\n",
            "2/2 [==============================] - 0s 6ms/step - loss: 12.2880 - mse: 236.5700\n",
            "Epoch 333/500\n",
            "2/2 [==============================] - 0s 3ms/step - loss: 11.8117 - mse: 222.0919\n",
            "Epoch 334/500\n",
            "2/2 [==============================] - 0s 4ms/step - loss: 8.3600 - mse: 169.8893\n",
            "Epoch 335/500\n",
            "2/2 [==============================] - 0s 4ms/step - loss: 12.4833 - mse: 276.8587\n",
            "Epoch 336/500\n",
            "2/2 [==============================] - 0s 5ms/step - loss: 32.2171 - mse: 1416.1729\n",
            "Epoch 337/500\n",
            "2/2 [==============================] - 0s 10ms/step - loss: 10.4477 - mse: 180.3260\n",
            "Epoch 338/500\n",
            "2/2 [==============================] - 0s 5ms/step - loss: 19.6832 - mse: 573.4711\n",
            "Epoch 339/500\n",
            "2/2 [==============================] - 0s 5ms/step - loss: 35.0762 - mse: 1849.1539\n",
            "Epoch 340/500\n",
            "2/2 [==============================] - 0s 3ms/step - loss: 10.4192 - mse: 181.4144\n",
            "Epoch 341/500\n",
            "2/2 [==============================] - 0s 7ms/step - loss: 9.7625 - mse: 156.3229\n",
            "Epoch 342/500\n",
            "2/2 [==============================] - 0s 5ms/step - loss: 11.9500 - mse: 188.5579\n",
            "Epoch 343/500\n",
            "2/2 [==============================] - 0s 5ms/step - loss: 9.3943 - mse: 145.3949\n",
            "Epoch 344/500\n",
            "2/2 [==============================] - 0s 4ms/step - loss: 5.6071 - mse: 44.6760\n",
            "Epoch 345/500\n",
            "2/2 [==============================] - 0s 3ms/step - loss: 37.4876 - mse: 2291.7795\n",
            "Epoch 346/500\n",
            "2/2 [==============================] - 0s 2ms/step - loss: 16.8830 - mse: 411.1353\n",
            "Epoch 347/500\n",
            "2/2 [==============================] - 0s 8ms/step - loss: 12.8748 - mse: 281.5983\n",
            "Epoch 348/500\n",
            "2/2 [==============================] - 0s 3ms/step - loss: 8.1960 - mse: 162.6964\n",
            "Epoch 349/500\n",
            "2/2 [==============================] - 0s 2ms/step - loss: 13.5568 - mse: 261.1368\n",
            "Epoch 350/500\n",
            "2/2 [==============================] - 0s 3ms/step - loss: 15.4354 - mse: 333.2080\n",
            "Epoch 351/500\n",
            "2/2 [==============================] - 0s 3ms/step - loss: 32.9626 - mse: 1524.7932\n",
            "Epoch 352/500\n",
            "2/2 [==============================] - 0s 2ms/step - loss: 14.2040 - mse: 282.7506\n",
            "Epoch 353/500\n",
            "2/2 [==============================] - 0s 3ms/step - loss: 15.9196 - mse: 374.1915\n",
            "Epoch 354/500\n",
            "2/2 [==============================] - 0s 3ms/step - loss: 19.0878 - mse: 534.9771\n",
            "Epoch 355/500\n",
            "2/2 [==============================] - 0s 3ms/step - loss: 34.1178 - mse: 1782.7025\n",
            "Epoch 356/500\n",
            "2/2 [==============================] - 0s 7ms/step - loss: 7.6798 - mse: 90.9118\n",
            "Epoch 357/500\n",
            "2/2 [==============================] - 0s 8ms/step - loss: 25.2287 - mse: 974.0947\n",
            "Epoch 358/500\n",
            "2/2 [==============================] - 0s 5ms/step - loss: 22.6759 - mse: 742.0939\n",
            "Epoch 359/500\n",
            "2/2 [==============================] - 0s 7ms/step - loss: 8.8765 - mse: 198.2591\n",
            "Epoch 360/500\n",
            "2/2 [==============================] - 0s 3ms/step - loss: 21.4709 - mse: 687.3278\n",
            "Epoch 361/500\n",
            "2/2 [==============================] - 0s 3ms/step - loss: 20.6073 - mse: 616.7942\n",
            "Epoch 362/500\n",
            "2/2 [==============================] - 0s 3ms/step - loss: 7.0611 - mse: 69.3817\n",
            "Epoch 363/500\n",
            "2/2 [==============================] - 0s 3ms/step - loss: 25.8117 - mse: 994.8185\n",
            "Epoch 364/500\n",
            "2/2 [==============================] - 0s 3ms/step - loss: 32.2247 - mse: 1527.6050\n",
            "Epoch 365/500\n",
            "2/2 [==============================] - 0s 7ms/step - loss: 10.0204 - mse: 161.6848\n",
            "Epoch 366/500\n",
            "2/2 [==============================] - 0s 7ms/step - loss: 9.6722 - mse: 227.5722\n",
            "Epoch 367/500\n",
            "2/2 [==============================] - 0s 5ms/step - loss: 30.4171 - mse: 1294.6047\n",
            "Epoch 368/500\n",
            "2/2 [==============================] - 0s 4ms/step - loss: 10.5020 - mse: 236.3134\n",
            "Epoch 369/500\n",
            "2/2 [==============================] - 0s 3ms/step - loss: 14.9909 - mse: 330.8544\n",
            "Epoch 370/500\n",
            "2/2 [==============================] - 0s 3ms/step - loss: 14.6580 - mse: 308.0736\n",
            "Epoch 371/500\n",
            "2/2 [==============================] - 0s 2ms/step - loss: 23.3672 - mse: 789.0358\n",
            "Epoch 372/500\n",
            "2/2 [==============================] - 0s 3ms/step - loss: 13.1025 - mse: 290.2268\n",
            "Epoch 373/500\n",
            "2/2 [==============================] - 0s 2ms/step - loss: 9.2586 - mse: 140.7053\n",
            "Epoch 374/500\n",
            "2/2 [==============================] - 0s 3ms/step - loss: 9.6648 - mse: 194.1147\n",
            "Epoch 375/500\n",
            "2/2 [==============================] - 0s 3ms/step - loss: 13.0041 - mse: 237.9867\n",
            "Epoch 376/500\n",
            "2/2 [==============================] - 0s 2ms/step - loss: 14.8863 - mse: 324.7536\n",
            "Epoch 377/500\n",
            "2/2 [==============================] - 0s 4ms/step - loss: 14.7932 - mse: 297.2056\n",
            "Epoch 378/500\n",
            "2/2 [==============================] - 0s 4ms/step - loss: 16.2751 - mse: 418.5632\n",
            "Epoch 379/500\n",
            "2/2 [==============================] - 0s 3ms/step - loss: 20.8307 - mse: 596.8133\n",
            "Epoch 380/500\n",
            "2/2 [==============================] - 0s 4ms/step - loss: 33.5317 - mse: 1684.8943\n",
            "Epoch 381/500\n",
            "2/2 [==============================] - 0s 3ms/step - loss: 8.2166 - mse: 100.6385\n",
            "Epoch 382/500\n",
            "2/2 [==============================] - 0s 3ms/step - loss: 13.0960 - mse: 282.0384\n",
            "Epoch 383/500\n",
            "2/2 [==============================] - 0s 4ms/step - loss: 8.3999 - mse: 126.0928\n",
            "Epoch 384/500\n",
            "2/2 [==============================] - 0s 2ms/step - loss: 7.1283 - mse: 72.4399\n",
            "Epoch 385/500\n",
            "2/2 [==============================] - 0s 4ms/step - loss: 10.9390 - mse: 249.4376\n",
            "Epoch 386/500\n",
            "2/2 [==============================] - 0s 3ms/step - loss: 19.7654 - mse: 601.5795\n",
            "Epoch 387/500\n",
            "2/2 [==============================] - 0s 3ms/step - loss: 24.8625 - mse: 896.3691\n",
            "Epoch 388/500\n",
            "2/2 [==============================] - 0s 7ms/step - loss: 8.7422 - mse: 128.0917\n",
            "Epoch 389/500\n",
            "2/2 [==============================] - 0s 9ms/step - loss: 5.9488 - mse: 48.1568\n",
            "Epoch 390/500\n",
            "2/2 [==============================] - 0s 4ms/step - loss: 24.4400 - mse: 881.1037\n",
            "Epoch 391/500\n",
            "2/2 [==============================] - 0s 3ms/step - loss: 5.9771 - mse: 73.2800\n",
            "Epoch 392/500\n",
            "2/2 [==============================] - 0s 3ms/step - loss: 16.3250 - mse: 379.2592\n",
            "Epoch 393/500\n",
            "2/2 [==============================] - 0s 4ms/step - loss: 6.0917 - mse: 76.7833\n",
            "Epoch 394/500\n",
            "2/2 [==============================] - 0s 3ms/step - loss: 11.0963 - mse: 204.7650\n",
            "Epoch 395/500\n",
            "2/2 [==============================] - 0s 2ms/step - loss: 14.9601 - mse: 336.1563\n",
            "Epoch 396/500\n",
            "2/2 [==============================] - 0s 3ms/step - loss: 7.6462 - mse: 103.3247\n",
            "Epoch 397/500\n",
            "2/2 [==============================] - 0s 3ms/step - loss: 8.7654 - mse: 136.5433\n",
            "Epoch 398/500\n",
            "2/2 [==============================] - 0s 2ms/step - loss: 14.5991 - mse: 320.4537\n",
            "Epoch 399/500\n",
            "2/2 [==============================] - 0s 3ms/step - loss: 11.3166 - mse: 280.6889\n",
            "Epoch 400/500\n",
            "2/2 [==============================] - 0s 3ms/step - loss: 21.9080 - mse: 741.3461\n",
            "Epoch 401/500\n",
            "2/2 [==============================] - 0s 2ms/step - loss: 14.8653 - mse: 348.6721\n",
            "Epoch 402/500\n",
            "2/2 [==============================] - 0s 3ms/step - loss: 8.4970 - mse: 115.5853\n",
            "Epoch 403/500\n",
            "2/2 [==============================] - 0s 3ms/step - loss: 10.3957 - mse: 191.0402\n",
            "Epoch 404/500\n",
            "2/2 [==============================] - 0s 4ms/step - loss: 10.2556 - mse: 207.5718\n",
            "Epoch 405/500\n",
            "2/2 [==============================] - 0s 4ms/step - loss: 6.3392 - mse: 68.2857\n",
            "Epoch 406/500\n",
            "2/2 [==============================] - 0s 9ms/step - loss: 17.4602 - mse: 460.2048\n",
            "Epoch 407/500\n",
            "2/2 [==============================] - 0s 3ms/step - loss: 11.4627 - mse: 284.7277\n",
            "Epoch 408/500\n",
            "2/2 [==============================] - 0s 4ms/step - loss: 20.7294 - mse: 662.1500\n",
            "Epoch 409/500\n",
            "2/2 [==============================] - 0s 4ms/step - loss: 31.3338 - mse: 1522.7683\n",
            "Epoch 410/500\n",
            "2/2 [==============================] - 0s 4ms/step - loss: 9.2542 - mse: 221.9487\n",
            "Epoch 411/500\n",
            "2/2 [==============================] - 0s 5ms/step - loss: 14.8621 - mse: 285.8415\n",
            "Epoch 412/500\n",
            "2/2 [==============================] - 0s 5ms/step - loss: 21.7182 - mse: 721.0389\n",
            "Epoch 413/500\n",
            "2/2 [==============================] - 0s 3ms/step - loss: 12.6615 - mse: 248.9694\n",
            "Epoch 414/500\n",
            "2/2 [==============================] - 0s 2ms/step - loss: 6.0687 - mse: 88.3708\n",
            "Epoch 415/500\n",
            "2/2 [==============================] - 0s 3ms/step - loss: 13.2201 - mse: 239.8954\n",
            "Epoch 416/500\n",
            "2/2 [==============================] - 0s 5ms/step - loss: 27.4244 - mse: 1037.9579\n",
            "Epoch 417/500\n",
            "2/2 [==============================] - 0s 5ms/step - loss: 10.6407 - mse: 207.4821\n",
            "Epoch 418/500\n",
            "2/2 [==============================] - 0s 3ms/step - loss: 12.8230 - mse: 236.7907\n",
            "Epoch 419/500\n",
            "2/2 [==============================] - 0s 4ms/step - loss: 15.8836 - mse: 374.5482\n",
            "Epoch 420/500\n",
            "2/2 [==============================] - 0s 4ms/step - loss: 24.7510 - mse: 849.5329\n",
            "Epoch 421/500\n",
            "2/2 [==============================] - 0s 3ms/step - loss: 17.3753 - mse: 444.1830\n",
            "Epoch 422/500\n",
            "2/2 [==============================] - 0s 5ms/step - loss: 7.8241 - mse: 157.5328\n",
            "Epoch 423/500\n",
            "2/2 [==============================] - 0s 3ms/step - loss: 25.3789 - mse: 907.6139\n",
            "Epoch 424/500\n",
            "2/2 [==============================] - 0s 4ms/step - loss: 15.1031 - mse: 369.3289\n",
            "Epoch 425/500\n",
            "2/2 [==============================] - 0s 4ms/step - loss: 7.1643 - mse: 75.3718\n",
            "Epoch 426/500\n",
            "2/2 [==============================] - 0s 3ms/step - loss: 20.3318 - mse: 572.0355\n",
            "Epoch 427/500\n",
            "2/2 [==============================] - 0s 3ms/step - loss: 6.3283 - mse: 84.9745\n",
            "Epoch 428/500\n",
            "2/2 [==============================] - 0s 4ms/step - loss: 12.9961 - mse: 288.4218\n",
            "Epoch 429/500\n",
            "2/2 [==============================] - 0s 3ms/step - loss: 10.7869 - mse: 192.7742\n",
            "Epoch 430/500\n",
            "2/2 [==============================] - 0s 4ms/step - loss: 11.4007 - mse: 248.2724\n",
            "Epoch 431/500\n",
            "2/2 [==============================] - 0s 4ms/step - loss: 10.6152 - mse: 218.3398\n",
            "Epoch 432/500\n",
            "2/2 [==============================] - 0s 3ms/step - loss: 11.4582 - mse: 239.2198\n",
            "Epoch 433/500\n",
            "2/2 [==============================] - 0s 2ms/step - loss: 11.3851 - mse: 296.6783\n",
            "Epoch 434/500\n",
            "2/2 [==============================] - 0s 5ms/step - loss: 30.3986 - mse: 1296.5632\n",
            "Epoch 435/500\n",
            "2/2 [==============================] - 0s 3ms/step - loss: 10.5052 - mse: 283.6812\n",
            "Epoch 436/500\n",
            "2/2 [==============================] - 0s 3ms/step - loss: 28.8810 - mse: 1216.2336\n",
            "Epoch 437/500\n",
            "2/2 [==============================] - 0s 3ms/step - loss: 8.5916 - mse: 209.5433\n",
            "Epoch 438/500\n",
            "2/2 [==============================] - 0s 5ms/step - loss: 12.7378 - mse: 264.4510\n",
            "Epoch 439/500\n",
            "2/2 [==============================] - 0s 5ms/step - loss: 33.6754 - mse: 1570.2361\n",
            "Epoch 440/500\n",
            "2/2 [==============================] - 0s 4ms/step - loss: 15.0963 - mse: 294.7132\n",
            "Epoch 441/500\n",
            "2/2 [==============================] - 0s 4ms/step - loss: 17.4813 - mse: 487.0573\n",
            "Epoch 442/500\n",
            "2/2 [==============================] - 0s 5ms/step - loss: 22.3049 - mse: 750.9305\n",
            "Epoch 443/500\n",
            "2/2 [==============================] - 0s 4ms/step - loss: 23.5841 - mse: 784.1378\n",
            "Epoch 444/500\n",
            "2/2 [==============================] - 0s 3ms/step - loss: 11.0008 - mse: 203.7582\n",
            "Epoch 445/500\n",
            "2/2 [==============================] - 0s 4ms/step - loss: 14.9175 - mse: 316.4790\n",
            "Epoch 446/500\n",
            "2/2 [==============================] - 0s 4ms/step - loss: 17.9979 - mse: 515.1712\n",
            "Epoch 447/500\n",
            "2/2 [==============================] - 0s 2ms/step - loss: 5.4482 - mse: 51.4485\n",
            "Epoch 448/500\n",
            "2/2 [==============================] - 0s 4ms/step - loss: 10.0527 - mse: 253.4828\n",
            "Epoch 449/500\n",
            "2/2 [==============================] - 0s 4ms/step - loss: 14.0052 - mse: 277.3353\n",
            "Epoch 450/500\n",
            "2/2 [==============================] - 0s 8ms/step - loss: 16.7782 - mse: 424.4229\n",
            "Epoch 451/500\n",
            "2/2 [==============================] - 0s 4ms/step - loss: 14.2937 - mse: 303.4478\n",
            "Epoch 452/500\n",
            "2/2 [==============================] - 0s 23ms/step - loss: 30.6193 - mse: 1329.8268\n",
            "Epoch 453/500\n",
            "2/2 [==============================] - 0s 8ms/step - loss: 7.6541 - mse: 159.0376\n",
            "Epoch 454/500\n",
            "2/2 [==============================] - 0s 3ms/step - loss: 28.1428 - mse: 1104.4142\n",
            "Epoch 455/500\n",
            "2/2 [==============================] - 0s 14ms/step - loss: 8.0017 - mse: 119.3274\n",
            "Epoch 456/500\n",
            "2/2 [==============================] - 0s 3ms/step - loss: 10.3933 - mse: 289.6392\n",
            "Epoch 457/500\n",
            "2/2 [==============================] - 0s 3ms/step - loss: 15.0242 - mse: 318.3535\n",
            "Epoch 458/500\n",
            "2/2 [==============================] - 0s 3ms/step - loss: 16.5653 - mse: 439.8007\n",
            "Epoch 459/500\n",
            "2/2 [==============================] - 0s 3ms/step - loss: 26.8566 - mse: 1033.5485\n",
            "Epoch 460/500\n",
            "2/2 [==============================] - 0s 3ms/step - loss: 12.4852 - mse: 251.1162\n",
            "Epoch 461/500\n",
            "2/2 [==============================] - 0s 3ms/step - loss: 12.4784 - mse: 272.9071\n",
            "Epoch 462/500\n",
            "2/2 [==============================] - 0s 5ms/step - loss: 13.3186 - mse: 245.2335\n",
            "Epoch 463/500\n",
            "2/2 [==============================] - 0s 5ms/step - loss: 29.5524 - mse: 1219.8660\n",
            "Epoch 464/500\n",
            "2/2 [==============================] - 0s 6ms/step - loss: 3.4664 - mse: 22.0145\n",
            "Epoch 465/500\n",
            "2/2 [==============================] - 0s 3ms/step - loss: 15.2136 - mse: 352.9369\n",
            "Epoch 466/500\n",
            "2/2 [==============================] - 0s 4ms/step - loss: 20.8327 - mse: 651.1593\n",
            "Epoch 467/500\n",
            "2/2 [==============================] - 0s 4ms/step - loss: 30.5108 - mse: 1421.0009\n",
            "Epoch 468/500\n",
            "2/2 [==============================] - 0s 31ms/step - loss: 11.0597 - mse: 236.2266\n",
            "Epoch 469/500\n",
            "2/2 [==============================] - 0s 3ms/step - loss: 12.8372 - mse: 278.2045\n",
            "Epoch 470/500\n",
            "2/2 [==============================] - 0s 9ms/step - loss: 3.2398 - mse: 14.0655\n",
            "Epoch 471/500\n",
            "2/2 [==============================] - 0s 5ms/step - loss: 16.6964 - mse: 372.9566\n",
            "Epoch 472/500\n",
            "2/2 [==============================] - 0s 8ms/step - loss: 13.3883 - mse: 253.4232\n",
            "Epoch 473/500\n",
            "2/2 [==============================] - 0s 6ms/step - loss: 15.2771 - mse: 396.6107\n",
            "Epoch 474/500\n",
            "2/2 [==============================] - 0s 6ms/step - loss: 11.7448 - mse: 305.3250\n",
            "Epoch 475/500\n",
            "2/2 [==============================] - 0s 6ms/step - loss: 16.4113 - mse: 397.1613\n",
            "Epoch 476/500\n",
            "2/2 [==============================] - 0s 4ms/step - loss: 13.8785 - mse: 273.7976\n",
            "Epoch 477/500\n",
            "2/2 [==============================] - 0s 3ms/step - loss: 30.6702 - mse: 1309.4625\n",
            "Epoch 478/500\n",
            "2/2 [==============================] - 0s 3ms/step - loss: 8.5880 - mse: 188.9073\n",
            "Epoch 479/500\n",
            "2/2 [==============================] - 0s 6ms/step - loss: 10.7384 - mse: 261.5203\n",
            "Epoch 480/500\n",
            "2/2 [==============================] - 0s 3ms/step - loss: 17.9051 - mse: 484.4154\n",
            "Epoch 481/500\n",
            "2/2 [==============================] - 0s 3ms/step - loss: 15.8095 - mse: 368.1044\n",
            "Epoch 482/500\n",
            "2/2 [==============================] - 0s 3ms/step - loss: 21.3054 - mse: 698.1634\n",
            "Epoch 483/500\n",
            "2/2 [==============================] - 0s 3ms/step - loss: 25.3845 - mse: 955.1250\n",
            "Epoch 484/500\n",
            "2/2 [==============================] - 0s 2ms/step - loss: 23.9815 - mse: 811.2782\n",
            "Epoch 485/500\n",
            "2/2 [==============================] - 0s 8ms/step - loss: 5.7734 - mse: 53.7612\n",
            "Epoch 486/500\n",
            "2/2 [==============================] - 0s 8ms/step - loss: 20.0010 - mse: 565.2876\n",
            "Epoch 487/500\n",
            "2/2 [==============================] - 0s 5ms/step - loss: 14.0419 - mse: 286.2684\n",
            "Epoch 488/500\n",
            "2/2 [==============================] - 0s 3ms/step - loss: 30.6088 - mse: 1334.5730\n",
            "Epoch 489/500\n",
            "2/2 [==============================] - 0s 7ms/step - loss: 11.9409 - mse: 237.4729\n",
            "Epoch 490/500\n",
            "2/2 [==============================] - 0s 7ms/step - loss: 12.7352 - mse: 252.5674\n",
            "Epoch 491/500\n",
            "2/2 [==============================] - 0s 4ms/step - loss: 23.6139 - mse: 837.7737\n",
            "Epoch 492/500\n",
            "2/2 [==============================] - 0s 10ms/step - loss: 20.5365 - mse: 592.2181\n",
            "Epoch 493/500\n",
            "2/2 [==============================] - 0s 9ms/step - loss: 4.9942 - mse: 48.0282\n",
            "Epoch 494/500\n",
            "2/2 [==============================] - 0s 4ms/step - loss: 12.7986 - mse: 247.7645\n",
            "Epoch 495/500\n",
            "2/2 [==============================] - 0s 9ms/step - loss: 13.3772 - mse: 239.0901\n",
            "Epoch 496/500\n",
            "2/2 [==============================] - 0s 3ms/step - loss: 12.6727 - mse: 241.5636\n",
            "Epoch 497/500\n",
            "2/2 [==============================] - 0s 2ms/step - loss: 17.6192 - mse: 515.3860\n",
            "Epoch 498/500\n",
            "2/2 [==============================] - 0s 5ms/step - loss: 23.5629 - mse: 816.5500\n",
            "Epoch 499/500\n",
            "2/2 [==============================] - 0s 2ms/step - loss: 9.3755 - mse: 136.1007\n",
            "Epoch 500/500\n",
            "2/2 [==============================] - 0s 2ms/step - loss: 14.6316 - mse: 295.2644\n"
          ],
          "name": "stdout"
        },
        {
          "output_type": "execute_result",
          "data": {
            "text/plain": [
              "<tensorflow.python.keras.callbacks.History at 0x7f40599c1c10>"
            ]
          },
          "metadata": {
            "tags": []
          },
          "execution_count": 58
        }
      ]
    },
    {
      "cell_type": "code",
      "metadata": {
        "colab": {
          "base_uri": "https://localhost:8080/"
        },
        "id": "TJ8-xyy-7lnF",
        "outputId": "a814252f-6eef-4233-a761-c6eec631199b"
      },
      "source": [
        "y_preds_3 = model.predict(X_test)\n",
        "y_preds_3"
      ],
      "execution_count": 59,
      "outputs": [
        {
          "output_type": "execute_result",
          "data": {
            "text/plain": [
              "array([[ 89.459785],\n",
              "       [ 95.19732 ],\n",
              "       [100.934845],\n",
              "       [106.67238 ],\n",
              "       [112.40991 ],\n",
              "       [118.14745 ],\n",
              "       [123.88497 ],\n",
              "       [129.62251 ],\n",
              "       [135.36005 ],\n",
              "       [141.09758 ]], dtype=float32)"
            ]
          },
          "metadata": {
            "tags": []
          },
          "execution_count": 59
        }
      ]
    },
    {
      "cell_type": "code",
      "metadata": {
        "colab": {
          "base_uri": "https://localhost:8080/"
        },
        "id": "jGfoc1Ha_vLU",
        "outputId": "8bc54939-1865-444d-8d38-8c9f098bd0f5"
      },
      "source": [
        "mae_3 = tf.keras.losses.mean_absolute_error(y_true=y_test,y_pred=tf.squeeze(y_preds_3))\n",
        "mse_3 = tf.keras.losses.mean_squared_error(y_true=y_test,y_pred=y_preds_3)\n",
        "mae_3,mse_3"
      ],
      "execution_count": 60,
      "outputs": [
        {
          "output_type": "execute_result",
          "data": {
            "text/plain": [
              "(<tf.Tensor: shape=(), dtype=float32, numpy=27.27868>,\n",
              " <tf.Tensor: shape=(10,), dtype=float32, numpy=\n",
              " array([ 134.13098,  183.80139,  299.31024,  480.65778,  727.84375,\n",
              "        1040.8689 , 1419.7312 , 1864.4336 , 2374.9739 , 2951.353  ],\n",
              "       dtype=float32)>)"
            ]
          },
          "metadata": {
            "tags": []
          },
          "execution_count": 60
        }
      ]
    },
    {
      "cell_type": "code",
      "metadata": {
        "colab": {
          "base_uri": "https://localhost:8080/",
          "height": 0
        },
        "id": "AeGIbk53ARpK",
        "outputId": "3495f216-d18d-4e64-d82a-605540fdd988"
      },
      "source": [
        "plot_predictions(predictions=y_preds_3)"
      ],
      "execution_count": 61,
      "outputs": [
        {
          "output_type": "display_data",
          "data": {
            "image/png": "[encoded data removed]",
            "text/plain": [
              "<Figure size 720x504 with 1 Axes>"
            ]
          },
          "metadata": {
            "tags": [],
            "needs_background": "light"
          }
        }
      ]
    },
    {
      "cell_type": "code",
      "metadata": {
        "colab": {
          "base_uri": "https://localhost:8080/",
          "height": 0
        },
        "id": "L77Nik9IAWnq",
        "outputId": "0fb419d1-37d9-4d99-c082-8c021c9313e1"
      },
      "source": [
        "#Lets compare our model results using Pandas DataFrames\n",
        "import pandas as pd\n",
        "model_results= [[\"model_1\",mae_1.numpy(),mse_1.numpy()],\n",
        "                [\"model_2\",mae_2.numpy(),mse_2.numpy()],\n",
        "                [\"model_3\",mae_3.numpy(),mse_3.numpy()]]\n",
        "all_results = pd.DataFrame(model_results,columns=[\"model\",\"mae\",\"mse\"])\n",
        "all_results\n"
      ],
      "execution_count": 62,
      "outputs": [
        {
          "output_type": "execute_result",
          "data": {
            "text/html": [
              "<div>\n",
              "<style scoped>\n",
              "    .dataframe tbody tr th:only-of-type {\n",
              "        vertical-align: middle;\n",
              "    }\n",
              "\n",
              "    .dataframe tbody tr th {\n",
              "        vertical-align: top;\n",
              "    }\n",
              "\n",
              "    .dataframe thead th {\n",
              "        text-align: right;\n",
              "    }\n",
              "</style>\n",
              "<table border=\"1\" class=\"dataframe\">\n",
              "  <thead>\n",
              "    <tr style=\"text-align: right;\">\n",
              "      <th></th>\n",
              "      <th>model</th>\n",
              "      <th>mae</th>\n",
              "      <th>mse</th>\n",
              "    </tr>\n",
              "  </thead>\n",
              "  <tbody>\n",
              "    <tr>\n",
              "      <th>0</th>\n",
              "      <td>model_1</td>\n",
              "      <td>27.278681</td>\n",
              "      <td>769.033</td>\n",
              "    </tr>\n",
              "    <tr>\n",
              "      <th>1</th>\n",
              "      <td>model_2</td>\n",
              "      <td>3.196941</td>\n",
              "      <td>13.0701</td>\n",
              "    </tr>\n",
              "    <tr>\n",
              "      <th>2</th>\n",
              "      <td>model_3</td>\n",
              "      <td>27.278681</td>\n",
              "      <td>[134.13098, 183.80139, 299.31024, 480.65778, 7...</td>\n",
              "    </tr>\n",
              "  </tbody>\n",
              "</table>\n",
              "</div>"
            ],
            "text/plain": [
              "     model        mae                                                mse\n",
              "0  model_1  27.278681                                            769.033\n",
              "1  model_2   3.196941                                            13.0701\n",
              "2  model_3  27.278681  [134.13098, 183.80139, 299.31024, 480.65778, 7..."
            ]
          },
          "metadata": {
            "tags": []
          },
          "execution_count": 62
        }
      ]
    },
    {
      "cell_type": "code",
      "metadata": {
        "colab": {
          "base_uri": "https://localhost:8080/"
        },
        "id": "WacpXqifBVvj",
        "outputId": "15946c60-83e8-4635-c120-d2b91da31dff"
      },
      "source": [
        "model.summary()\n",
        "\n"
      ],
      "execution_count": 63,
      "outputs": [
        {
          "output_type": "stream",
          "text": [
            "Model: \"our_first_model\"\n",
            "_________________________________________________________________\n",
            "Layer (type)                 Output Shape              Param #   \n",
            "=================================================================\n",
            "input_layer (Dense)          (None, 10)                20        \n",
            "_________________________________________________________________\n",
            "output_layer (Dense)         (None, 1)                 11        \n",
            "=================================================================\n",
            "Total params: 31\n",
            "Trainable params: 31\n",
            "Non-trainable params: 0\n",
            "_________________________________________________________________\n"
          ],
          "name": "stdout"
        }
      ]
    },
    {
      "cell_type": "code",
      "metadata": {
        "id": "CURYe106EoAR"
      },
      "source": [
        ""
      ],
      "execution_count": 63,
      "outputs": []
    },
    {
      "cell_type": "markdown",
      "metadata": {
        "id": "WpyZQHAPF0rm"
      },
      "source": [
        "###Tracking your experiment\n",
        "One really good habit in machine learning is to track  the results of your experiments\n",
        "\n",
        "And when doing so, it can be tedios if you are running lots of experiments.\n",
        "\n",
        "Luckily,there are tools to help us\n",
        "\n",
        "**Resource** - As you build more models, you'll want to look into using:\n",
        "* TensorBoard - a componet of tensorflow library to help track modelling experiments (we'll see this later on)\n",
        "* Weights & Biases - a tool for tracking all kinds of machine learning experiments (plugs straight into TensorBoard).\n"
      ]
    },
    {
      "cell_type": "markdown",
      "metadata": {
        "id": "BmQ8yWRyHSBX"
      },
      "source": [
        "## Saving our models\n",
        "Saving our models allows us to use them outside of Googlecolab  (or whatever they were trained) such as a web application or a mobile app.\n",
        "> There are two main formats to save our models:\n",
        "1. The SavedModel Format:\n",
        "2. The HDF5 Format:"
      ]
    },
    {
      "cell_type": "code",
      "metadata": {
        "colab": {
          "base_uri": "https://localhost:8080/"
        },
        "id": "EvHINQAsJQut",
        "outputId": "33536c01-8b27-4ccf-8fa5-4f7c108c7407"
      },
      "source": [
        "# Save model using SavedModel format\n",
        "model_2.save(\"best_model_SavedModel_format\")"
      ],
      "execution_count": 64,
      "outputs": [
        {
          "output_type": "stream",
          "text": [
            "INFO:tensorflow:Assets written to: best_model_SavedModel_format/assets\n"
          ],
          "name": "stdout"
        }
      ]
    },
    {
      "cell_type": "code",
      "metadata": {
        "id": "uJ8Ksmj-KMuf"
      },
      "source": [
        "# Save the model using HDF5 format\n",
        "model_2.save('model_2.h5')"
      ],
      "execution_count": 65,
      "outputs": []
    },
    {
      "cell_type": "code",
      "metadata": {
        "id": "V0RPpGsVLKx-"
      },
      "source": [
        "# Load in a saved model\n",
        "saved_model_savedmodel = tf.keras.models.load_model(\"/content/best_model_SavedModel_format\")"
      ],
      "execution_count": 66,
      "outputs": []
    },
    {
      "cell_type": "code",
      "metadata": {
        "colab": {
          "base_uri": "https://localhost:8080/"
        },
        "id": "hT2lHVf3MGG-",
        "outputId": "6f7a7adf-0d40-4b71-f90c-d5ad438068a4"
      },
      "source": [
        "saved_model_savedmodel.summary()"
      ],
      "execution_count": 67,
      "outputs": [
        {
          "output_type": "stream",
          "text": [
            "Model: \"sequential_6\"\n",
            "_________________________________________________________________\n",
            "Layer (type)                 Output Shape              Param #   \n",
            "=================================================================\n",
            "dense_8 (Dense)              (None, 10)                20        \n",
            "_________________________________________________________________\n",
            "dense_9 (Dense)              (None, 1)                 11        \n",
            "=================================================================\n",
            "Total params: 31\n",
            "Trainable params: 31\n",
            "Non-trainable params: 0\n",
            "_________________________________________________________________\n"
          ],
          "name": "stdout"
        }
      ]
    },
    {
      "cell_type": "code",
      "metadata": {
        "colab": {
          "base_uri": "https://localhost:8080/"
        },
        "id": "WcPN7iU3MO5N",
        "outputId": "4513df51-1b6c-4c7c-ce1c-56ff26dda59f"
      },
      "source": [
        "model_2.summary()"
      ],
      "execution_count": 68,
      "outputs": [
        {
          "output_type": "stream",
          "text": [
            "Model: \"sequential_6\"\n",
            "_________________________________________________________________\n",
            "Layer (type)                 Output Shape              Param #   \n",
            "=================================================================\n",
            "dense_8 (Dense)              (None, 10)                20        \n",
            "_________________________________________________________________\n",
            "dense_9 (Dense)              (None, 1)                 11        \n",
            "=================================================================\n",
            "Total params: 31\n",
            "Trainable params: 31\n",
            "Non-trainable params: 0\n",
            "_________________________________________________________________\n"
          ],
          "name": "stdout"
        }
      ]
    },
    {
      "cell_type": "code",
      "metadata": {
        "colab": {
          "base_uri": "https://localhost:8080/"
        },
        "id": "40gAkAiEMgoR",
        "outputId": "e625fe74-d661-4bb9-cb73-04b1dee3f47c"
      },
      "source": [
        "# Compare saved_model_savedmodel format predictions with model_2 prediction\n",
        "model_2_preds =tf.constant(model_2.predict(X_test))\n",
        "saved_model_savedmodel_preds = tf.constant(saved_model_savedmodel.predict(X_test))\n",
        "\n",
        "model_2_preds,saved_model_savedmodel_preds"
      ],
      "execution_count": 69,
      "outputs": [
        {
          "output_type": "stream",
          "text": [
            "WARNING:tensorflow:6 out of the last 8 calls to <function Model.make_predict_function.<locals>.predict_function at 0x7f40596575f0> triggered tf.function retracing. Tracing is expensive and the excessive number of tracings could be due to (1) creating @tf.function repeatedly in a loop, (2) passing tensors with different shapes, (3) passing Python objects instead of tensors. For (1), please define your @tf.function outside of the loop. For (2), @tf.function has experimental_relax_shapes=True option that relaxes argument shapes that can avoid unnecessary retracing. For (3), please refer to https://www.tensorflow.org/guide/function#controlling_retracing and https://www.tensorflow.org/api_docs/python/tf/function for  more details.\n"
          ],
          "name": "stdout"
        },
        {
          "output_type": "execute_result",
          "data": {
            "text/plain": [
              "(<tf.Tensor: shape=(10, 1), dtype=float32, numpy=\n",
              " array([[15.854742],\n",
              "        [16.617329],\n",
              "        [17.379915],\n",
              "        [18.142504],\n",
              "        [18.905092],\n",
              "        [19.667677],\n",
              "        [20.430264],\n",
              "        [21.192854],\n",
              "        [21.95544 ],\n",
              "        [22.718027]], dtype=float32)>,\n",
              " <tf.Tensor: shape=(10, 1), dtype=float32, numpy=\n",
              " array([[15.854742],\n",
              "        [16.617329],\n",
              "        [17.379915],\n",
              "        [18.142504],\n",
              "        [18.905092],\n",
              "        [19.667677],\n",
              "        [20.430264],\n",
              "        [21.192854],\n",
              "        [21.95544 ],\n",
              "        [22.718027]], dtype=float32)>)"
            ]
          },
          "metadata": {
            "tags": []
          },
          "execution_count": 69
        }
      ]
    },
    {
      "cell_type": "code",
      "metadata": {
        "colab": {
          "base_uri": "https://localhost:8080/"
        },
        "id": "9pVwD9iEM7r7",
        "outputId": "7ddc043e-96f0-4d27-ebca-4663d5b3ca95"
      },
      "source": [
        "model_2_preds == saved_model_savedmodel_preds"
      ],
      "execution_count": 70,
      "outputs": [
        {
          "output_type": "execute_result",
          "data": {
            "text/plain": [
              "<tf.Tensor: shape=(10, 1), dtype=bool, numpy=\n",
              "array([[ True],\n",
              "       [ True],\n",
              "       [ True],\n",
              "       [ True],\n",
              "       [ True],\n",
              "       [ True],\n",
              "       [ True],\n",
              "       [ True],\n",
              "       [ True],\n",
              "       [ True]])>"
            ]
          },
          "metadata": {
            "tags": []
          },
          "execution_count": 70
        }
      ]
    },
    {
      "cell_type": "code",
      "metadata": {
        "id": "SfPiikTqNVrR"
      },
      "source": [
        "def mae(y_test=y_test,y_pred=y_pred):\n",
        "  return tf.keras.losses.mean_absolute_error(y_true=y_test,y_pred=tf.squeeze(y_pred))\n",
        "def mse(y_test=y_test,y_pred=y_pred):\n",
        "  return tf.keras.losses.mean_squared_error(y_true=y_test,y_pred=tf.squeeze(y_pred))"
      ],
      "execution_count": 71,
      "outputs": []
    },
    {
      "cell_type": "code",
      "metadata": {
        "colab": {
          "base_uri": "https://localhost:8080/"
        },
        "id": "bjO5-AkFONz-",
        "outputId": "a84e7cb4-58e1-400c-b174-a6d608de673e"
      },
      "source": [
        "mae(y_test=y_test,y_pred=model_2_preds)==mae(y_test=y_test,y_pred=saved_model_savedmodel_preds)"
      ],
      "execution_count": 72,
      "outputs": [
        {
          "output_type": "execute_result",
          "data": {
            "text/plain": [
              "<tf.Tensor: shape=(), dtype=bool, numpy=True>"
            ]
          },
          "metadata": {
            "tags": []
          },
          "execution_count": 72
        }
      ]
    },
    {
      "cell_type": "code",
      "metadata": {
        "colab": {
          "base_uri": "https://localhost:8080/"
        },
        "id": "HR-SjHLEOXPP",
        "outputId": "a23a15ec-442d-453b-a06c-72856fd79376"
      },
      "source": [
        "# Load in a model using a HDF5 format\n",
        "load_h5_model = tf.keras.models.load_model(\"/content/model_2.h5\")\n",
        "load_h5_model.summary()\n"
      ],
      "execution_count": 73,
      "outputs": [
        {
          "output_type": "stream",
          "text": [
            "Model: \"sequential_6\"\n",
            "_________________________________________________________________\n",
            "Layer (type)                 Output Shape              Param #   \n",
            "=================================================================\n",
            "dense_8 (Dense)              (None, 10)                20        \n",
            "_________________________________________________________________\n",
            "dense_9 (Dense)              (None, 1)                 11        \n",
            "=================================================================\n",
            "Total params: 31\n",
            "Trainable params: 31\n",
            "Non-trainable params: 0\n",
            "_________________________________________________________________\n"
          ],
          "name": "stdout"
        }
      ]
    },
    {
      "cell_type": "code",
      "metadata": {
        "colab": {
          "base_uri": "https://localhost:8080/"
        },
        "id": "IGdmpFohPLr8",
        "outputId": "81af6c5b-9e43-45ba-8195-64af24902303"
      },
      "source": [
        "model_2.summary()"
      ],
      "execution_count": 74,
      "outputs": [
        {
          "output_type": "stream",
          "text": [
            "Model: \"sequential_6\"\n",
            "_________________________________________________________________\n",
            "Layer (type)                 Output Shape              Param #   \n",
            "=================================================================\n",
            "dense_8 (Dense)              (None, 10)                20        \n",
            "_________________________________________________________________\n",
            "dense_9 (Dense)              (None, 1)                 11        \n",
            "=================================================================\n",
            "Total params: 31\n",
            "Trainable params: 31\n",
            "Non-trainable params: 0\n",
            "_________________________________________________________________\n"
          ],
          "name": "stdout"
        }
      ]
    },
    {
      "cell_type": "code",
      "metadata": {
        "colab": {
          "base_uri": "https://localhost:8080/"
        },
        "id": "ttLvqk8ORzOo",
        "outputId": "84c3e533-cfa1-4dfa-8605-b7b6086c06d9"
      },
      "source": [
        "# Compare the h5 format loaded model with model_2\n",
        "load_h5_model_preds = load_h5_model.predict(X_test)\n",
        "model_2_preds==load_h5_model_preds"
      ],
      "execution_count": 75,
      "outputs": [
        {
          "output_type": "execute_result",
          "data": {
            "text/plain": [
              "<tf.Tensor: shape=(10, 1), dtype=bool, numpy=\n",
              "array([[ True],\n",
              "       [ True],\n",
              "       [ True],\n",
              "       [ True],\n",
              "       [ True],\n",
              "       [ True],\n",
              "       [ True],\n",
              "       [ True],\n",
              "       [ True],\n",
              "       [ True]])>"
            ]
          },
          "metadata": {
            "tags": []
          },
          "execution_count": 75
        }
      ]
    },
    {
      "cell_type": "markdown",
      "metadata": {
        "id": "yuCP_PEoSPqL"
      },
      "source": [
        "# Download a model ( or any file ) from Google Colab\n",
        "two ways to download files from google colab:\n",
        "\n",
        "1. go to the file and right click choose the download\n",
        "2. code \n",
        "3. Saving to google drive by copying it there"
      ]
    },
    {
      "cell_type": "code",
      "metadata": {
        "colab": {
          "base_uri": "https://localhost:8080/",
          "height": 17
        },
        "id": "kzVdbUB6Vak_",
        "outputId": "143e5aad-fbc8-4c9e-e4ac-3ce86da4e76d"
      },
      "source": [
        "from google.colab import files\n",
        "files.download(\"/content/model_2.h5\")"
      ],
      "execution_count": 76,
      "outputs": [
        {
          "output_type": "display_data",
          "data": {
            "application/javascript": [
              "\n",
              "    async function download(id, filename, size) {\n",
              "      if (!google.colab.kernel.accessAllowed) {\n",
              "        return;\n",
              "      }\n",
              "      const div = document.createElement('div');\n",
              "      const label = document.createElement('label');\n",
              "      label.textContent = `Downloading \"${filename}\": `;\n",
              "      div.appendChild(label);\n",
              "      const progress = document.createElement('progress');\n",
              "      progress.max = size;\n",
              "      div.appendChild(progress);\n",
              "      document.body.appendChild(div);\n",
              "\n",
              "      const buffers = [];\n",
              "      let downloaded = 0;\n",
              "\n",
              "      const channel = await google.colab.kernel.comms.open(id);\n",
              "      // Send a message to notify the kernel that we're ready.\n",
              "      channel.send({})\n",
              "\n",
              "      for await (const message of channel.messages) {\n",
              "        // Send a message to notify the kernel that we're ready.\n",
              "        channel.send({})\n",
              "        if (message.buffers) {\n",
              "          for (const buffer of message.buffers) {\n",
              "            buffers.push(buffer);\n",
              "            downloaded += buffer.byteLength;\n",
              "            progress.value = downloaded;\n",
              "          }\n",
              "        }\n",
              "      }\n",
              "      const blob = new Blob(buffers, {type: 'application/binary'});\n",
              "      const a = document.createElement('a');\n",
              "      a.href = window.URL.createObjectURL(blob);\n",
              "      a.download = filename;\n",
              "      div.appendChild(a);\n",
              "      a.click();\n",
              "      div.remove();\n",
              "    }\n",
              "  "
            ],
            "text/plain": [
              "<IPython.core.display.Javascript object>"
            ]
          },
          "metadata": {
            "tags": []
          }
        },
        {
          "output_type": "display_data",
          "data": {
            "application/javascript": [
              "download(\"download_5895a6d0-6d7b-44b3-b88e-6d093727e317\", \"model_2.h5\", 17040)"
            ],
            "text/plain": [
              "<IPython.core.display.Javascript object>"
            ]
          },
          "metadata": {
            "tags": []
          }
        }
      ]
    },
    {
      "cell_type": "code",
      "metadata": {
        "id": "RBxZwLClVhkP"
      },
      "source": [
        "#  Save a file from google colab to the google drive\n",
        "!cp /content/model.png /content/drive/MyDrive/books"
      ],
      "execution_count": 77,
      "outputs": []
    },
    {
      "cell_type": "code",
      "metadata": {
        "colab": {
          "base_uri": "https://localhost:8080/"
        },
        "id": "S61eUHr_XPxT",
        "outputId": "6fac4205-c5d3-4863-8fca-7743ba8726c7"
      },
      "source": [
        "!ls /content/drive/MyDrive/books"
      ],
      "execution_count": 78,
      "outputs": [
        {
          "output_type": "stream",
          "text": [
            "model.png\n"
          ],
          "name": "stdout"
        }
      ]
    },
    {
      "cell_type": "markdown",
      "metadata": {
        "id": "GD2bNkp7Xipa"
      },
      "source": [
        "### A Larger example"
      ]
    },
    {
      "cell_type": "code",
      "metadata": {
        "colab": {
          "base_uri": "https://localhost:8080/",
          "height": 407
        },
        "id": "W6rz3OQVXvPZ",
        "outputId": "695ad981-ef8c-4de4-c99c-c4fedecf9109"
      },
      "source": [
        "# Import required libraries\n",
        "import pandas as pd\n",
        "import numpy as np\n",
        "import tensorflow as tf\n",
        "import matplotlib.pyplot as plt\n",
        "\n",
        "#Read in the insurance dataset\n",
        "insurance = pd.read_csv(\"https://raw.githubusercontent.com/stedy/Machine-Learning-with-R-datasets/master/insurance.csv\")\n",
        "insurance"
      ],
      "execution_count": 79,
      "outputs": [
        {
          "output_type": "execute_result",
          "data": {
            "text/html": [
              "<div>\n",
              "<style scoped>\n",
              "    .dataframe tbody tr th:only-of-type {\n",
              "        vertical-align: middle;\n",
              "    }\n",
              "\n",
              "    .dataframe tbody tr th {\n",
              "        vertical-align: top;\n",
              "    }\n",
              "\n",
              "    .dataframe thead th {\n",
              "        text-align: right;\n",
              "    }\n",
              "</style>\n",
              "<table border=\"1\" class=\"dataframe\">\n",
              "  <thead>\n",
              "    <tr style=\"text-align: right;\">\n",
              "      <th></th>\n",
              "      <th>age</th>\n",
              "      <th>sex</th>\n",
              "      <th>bmi</th>\n",
              "      <th>children</th>\n",
              "      <th>smoker</th>\n",
              "      <th>region</th>\n",
              "      <th>charges</th>\n",
              "    </tr>\n",
              "  </thead>\n",
              "  <tbody>\n",
              "    <tr>\n",
              "      <th>0</th>\n",
              "      <td>19</td>\n",
              "      <td>female</td>\n",
              "      <td>27.900</td>\n",
              "      <td>0</td>\n",
              "      <td>yes</td>\n",
              "      <td>southwest</td>\n",
              "      <td>16884.92400</td>\n",
              "    </tr>\n",
              "    <tr>\n",
              "      <th>1</th>\n",
              "      <td>18</td>\n",
              "      <td>male</td>\n",
              "      <td>33.770</td>\n",
              "      <td>1</td>\n",
              "      <td>no</td>\n",
              "      <td>southeast</td>\n",
              "      <td>1725.55230</td>\n",
              "    </tr>\n",
              "    <tr>\n",
              "      <th>2</th>\n",
              "      <td>28</td>\n",
              "      <td>male</td>\n",
              "      <td>33.000</td>\n",
              "      <td>3</td>\n",
              "      <td>no</td>\n",
              "      <td>southeast</td>\n",
              "      <td>4449.46200</td>\n",
              "    </tr>\n",
              "    <tr>\n",
              "      <th>3</th>\n",
              "      <td>33</td>\n",
              "      <td>male</td>\n",
              "      <td>22.705</td>\n",
              "      <td>0</td>\n",
              "      <td>no</td>\n",
              "      <td>northwest</td>\n",
              "      <td>21984.47061</td>\n",
              "    </tr>\n",
              "    <tr>\n",
              "      <th>4</th>\n",
              "      <td>32</td>\n",
              "      <td>male</td>\n",
              "      <td>28.880</td>\n",
              "      <td>0</td>\n",
              "      <td>no</td>\n",
              "      <td>northwest</td>\n",
              "      <td>3866.85520</td>\n",
              "    </tr>\n",
              "    <tr>\n",
              "      <th>...</th>\n",
              "      <td>...</td>\n",
              "      <td>...</td>\n",
              "      <td>...</td>\n",
              "      <td>...</td>\n",
              "      <td>...</td>\n",
              "      <td>...</td>\n",
              "      <td>...</td>\n",
              "    </tr>\n",
              "    <tr>\n",
              "      <th>1333</th>\n",
              "      <td>50</td>\n",
              "      <td>male</td>\n",
              "      <td>30.970</td>\n",
              "      <td>3</td>\n",
              "      <td>no</td>\n",
              "      <td>northwest</td>\n",
              "      <td>10600.54830</td>\n",
              "    </tr>\n",
              "    <tr>\n",
              "      <th>1334</th>\n",
              "      <td>18</td>\n",
              "      <td>female</td>\n",
              "      <td>31.920</td>\n",
              "      <td>0</td>\n",
              "      <td>no</td>\n",
              "      <td>northeast</td>\n",
              "      <td>2205.98080</td>\n",
              "    </tr>\n",
              "    <tr>\n",
              "      <th>1335</th>\n",
              "      <td>18</td>\n",
              "      <td>female</td>\n",
              "      <td>36.850</td>\n",
              "      <td>0</td>\n",
              "      <td>no</td>\n",
              "      <td>southeast</td>\n",
              "      <td>1629.83350</td>\n",
              "    </tr>\n",
              "    <tr>\n",
              "      <th>1336</th>\n",
              "      <td>21</td>\n",
              "      <td>female</td>\n",
              "      <td>25.800</td>\n",
              "      <td>0</td>\n",
              "      <td>no</td>\n",
              "      <td>southwest</td>\n",
              "      <td>2007.94500</td>\n",
              "    </tr>\n",
              "    <tr>\n",
              "      <th>1337</th>\n",
              "      <td>61</td>\n",
              "      <td>female</td>\n",
              "      <td>29.070</td>\n",
              "      <td>0</td>\n",
              "      <td>yes</td>\n",
              "      <td>northwest</td>\n",
              "      <td>29141.36030</td>\n",
              "    </tr>\n",
              "  </tbody>\n",
              "</table>\n",
              "<p>1338 rows × 7 columns</p>\n",
              "</div>"
            ],
            "text/plain": [
              "      age     sex     bmi  children smoker     region      charges\n",
              "0      19  female  27.900         0    yes  southwest  16884.92400\n",
              "1      18    male  33.770         1     no  southeast   1725.55230\n",
              "2      28    male  33.000         3     no  southeast   4449.46200\n",
              "3      33    male  22.705         0     no  northwest  21984.47061\n",
              "4      32    male  28.880         0     no  northwest   3866.85520\n",
              "...   ...     ...     ...       ...    ...        ...          ...\n",
              "1333   50    male  30.970         3     no  northwest  10600.54830\n",
              "1334   18  female  31.920         0     no  northeast   2205.98080\n",
              "1335   18  female  36.850         0     no  southeast   1629.83350\n",
              "1336   21  female  25.800         0     no  southwest   2007.94500\n",
              "1337   61  female  29.070         0    yes  northwest  29141.36030\n",
              "\n",
              "[1338 rows x 7 columns]"
            ]
          },
          "metadata": {
            "tags": []
          },
          "execution_count": 79
        }
      ]
    },
    {
      "cell_type": "code",
      "metadata": {
        "colab": {
          "base_uri": "https://localhost:8080/",
          "height": 427
        },
        "id": "AeJxJ7XceqYQ",
        "outputId": "8a8e697c-3c77-48d4-a257-12d0258cf6e8"
      },
      "source": [
        "#Let's try one-hote encode our dataframe\n",
        "insurance_one_hot=pd.get_dummies(insurance)\n",
        "insurance_one_hot"
      ],
      "execution_count": 80,
      "outputs": [
        {
          "output_type": "execute_result",
          "data": {
            "text/html": [
              "<div>\n",
              "<style scoped>\n",
              "    .dataframe tbody tr th:only-of-type {\n",
              "        vertical-align: middle;\n",
              "    }\n",
              "\n",
              "    .dataframe tbody tr th {\n",
              "        vertical-align: top;\n",
              "    }\n",
              "\n",
              "    .dataframe thead th {\n",
              "        text-align: right;\n",
              "    }\n",
              "</style>\n",
              "<table border=\"1\" class=\"dataframe\">\n",
              "  <thead>\n",
              "    <tr style=\"text-align: right;\">\n",
              "      <th></th>\n",
              "      <th>age</th>\n",
              "      <th>bmi</th>\n",
              "      <th>children</th>\n",
              "      <th>charges</th>\n",
              "      <th>sex_female</th>\n",
              "      <th>sex_male</th>\n",
              "      <th>smoker_no</th>\n",
              "      <th>smoker_yes</th>\n",
              "      <th>region_northeast</th>\n",
              "      <th>region_northwest</th>\n",
              "      <th>region_southeast</th>\n",
              "      <th>region_southwest</th>\n",
              "    </tr>\n",
              "  </thead>\n",
              "  <tbody>\n",
              "    <tr>\n",
              "      <th>0</th>\n",
              "      <td>19</td>\n",
              "      <td>27.900</td>\n",
              "      <td>0</td>\n",
              "      <td>16884.92400</td>\n",
              "      <td>1</td>\n",
              "      <td>0</td>\n",
              "      <td>0</td>\n",
              "      <td>1</td>\n",
              "      <td>0</td>\n",
              "      <td>0</td>\n",
              "      <td>0</td>\n",
              "      <td>1</td>\n",
              "    </tr>\n",
              "    <tr>\n",
              "      <th>1</th>\n",
              "      <td>18</td>\n",
              "      <td>33.770</td>\n",
              "      <td>1</td>\n",
              "      <td>1725.55230</td>\n",
              "      <td>0</td>\n",
              "      <td>1</td>\n",
              "      <td>1</td>\n",
              "      <td>0</td>\n",
              "      <td>0</td>\n",
              "      <td>0</td>\n",
              "      <td>1</td>\n",
              "      <td>0</td>\n",
              "    </tr>\n",
              "    <tr>\n",
              "      <th>2</th>\n",
              "      <td>28</td>\n",
              "      <td>33.000</td>\n",
              "      <td>3</td>\n",
              "      <td>4449.46200</td>\n",
              "      <td>0</td>\n",
              "      <td>1</td>\n",
              "      <td>1</td>\n",
              "      <td>0</td>\n",
              "      <td>0</td>\n",
              "      <td>0</td>\n",
              "      <td>1</td>\n",
              "      <td>0</td>\n",
              "    </tr>\n",
              "    <tr>\n",
              "      <th>3</th>\n",
              "      <td>33</td>\n",
              "      <td>22.705</td>\n",
              "      <td>0</td>\n",
              "      <td>21984.47061</td>\n",
              "      <td>0</td>\n",
              "      <td>1</td>\n",
              "      <td>1</td>\n",
              "      <td>0</td>\n",
              "      <td>0</td>\n",
              "      <td>1</td>\n",
              "      <td>0</td>\n",
              "      <td>0</td>\n",
              "    </tr>\n",
              "    <tr>\n",
              "      <th>4</th>\n",
              "      <td>32</td>\n",
              "      <td>28.880</td>\n",
              "      <td>0</td>\n",
              "      <td>3866.85520</td>\n",
              "      <td>0</td>\n",
              "      <td>1</td>\n",
              "      <td>1</td>\n",
              "      <td>0</td>\n",
              "      <td>0</td>\n",
              "      <td>1</td>\n",
              "      <td>0</td>\n",
              "      <td>0</td>\n",
              "    </tr>\n",
              "    <tr>\n",
              "      <th>...</th>\n",
              "      <td>...</td>\n",
              "      <td>...</td>\n",
              "      <td>...</td>\n",
              "      <td>...</td>\n",
              "      <td>...</td>\n",
              "      <td>...</td>\n",
              "      <td>...</td>\n",
              "      <td>...</td>\n",
              "      <td>...</td>\n",
              "      <td>...</td>\n",
              "      <td>...</td>\n",
              "      <td>...</td>\n",
              "    </tr>\n",
              "    <tr>\n",
              "      <th>1333</th>\n",
              "      <td>50</td>\n",
              "      <td>30.970</td>\n",
              "      <td>3</td>\n",
              "      <td>10600.54830</td>\n",
              "      <td>0</td>\n",
              "      <td>1</td>\n",
              "      <td>1</td>\n",
              "      <td>0</td>\n",
              "      <td>0</td>\n",
              "      <td>1</td>\n",
              "      <td>0</td>\n",
              "      <td>0</td>\n",
              "    </tr>\n",
              "    <tr>\n",
              "      <th>1334</th>\n",
              "      <td>18</td>\n",
              "      <td>31.920</td>\n",
              "      <td>0</td>\n",
              "      <td>2205.98080</td>\n",
              "      <td>1</td>\n",
              "      <td>0</td>\n",
              "      <td>1</td>\n",
              "      <td>0</td>\n",
              "      <td>1</td>\n",
              "      <td>0</td>\n",
              "      <td>0</td>\n",
              "      <td>0</td>\n",
              "    </tr>\n",
              "    <tr>\n",
              "      <th>1335</th>\n",
              "      <td>18</td>\n",
              "      <td>36.850</td>\n",
              "      <td>0</td>\n",
              "      <td>1629.83350</td>\n",
              "      <td>1</td>\n",
              "      <td>0</td>\n",
              "      <td>1</td>\n",
              "      <td>0</td>\n",
              "      <td>0</td>\n",
              "      <td>0</td>\n",
              "      <td>1</td>\n",
              "      <td>0</td>\n",
              "    </tr>\n",
              "    <tr>\n",
              "      <th>1336</th>\n",
              "      <td>21</td>\n",
              "      <td>25.800</td>\n",
              "      <td>0</td>\n",
              "      <td>2007.94500</td>\n",
              "      <td>1</td>\n",
              "      <td>0</td>\n",
              "      <td>1</td>\n",
              "      <td>0</td>\n",
              "      <td>0</td>\n",
              "      <td>0</td>\n",
              "      <td>0</td>\n",
              "      <td>1</td>\n",
              "    </tr>\n",
              "    <tr>\n",
              "      <th>1337</th>\n",
              "      <td>61</td>\n",
              "      <td>29.070</td>\n",
              "      <td>0</td>\n",
              "      <td>29141.36030</td>\n",
              "      <td>1</td>\n",
              "      <td>0</td>\n",
              "      <td>0</td>\n",
              "      <td>1</td>\n",
              "      <td>0</td>\n",
              "      <td>1</td>\n",
              "      <td>0</td>\n",
              "      <td>0</td>\n",
              "    </tr>\n",
              "  </tbody>\n",
              "</table>\n",
              "<p>1338 rows × 12 columns</p>\n",
              "</div>"
            ],
            "text/plain": [
              "      age     bmi  ...  region_southeast  region_southwest\n",
              "0      19  27.900  ...                 0                 1\n",
              "1      18  33.770  ...                 1                 0\n",
              "2      28  33.000  ...                 1                 0\n",
              "3      33  22.705  ...                 0                 0\n",
              "4      32  28.880  ...                 0                 0\n",
              "...   ...     ...  ...               ...               ...\n",
              "1333   50  30.970  ...                 0                 0\n",
              "1334   18  31.920  ...                 0                 0\n",
              "1335   18  36.850  ...                 1                 0\n",
              "1336   21  25.800  ...                 0                 1\n",
              "1337   61  29.070  ...                 0                 0\n",
              "\n",
              "[1338 rows x 12 columns]"
            ]
          },
          "metadata": {
            "tags": []
          },
          "execution_count": 80
        }
      ]
    },
    {
      "cell_type": "code",
      "metadata": {
        "colab": {
          "base_uri": "https://localhost:8080/"
        },
        "id": "Pgg3zYO7kjzT",
        "outputId": "2b275581-83c3-4895-e1f6-c15aaf429a84"
      },
      "source": [
        "# Create X and y values (features and labels)\n",
        "X = insurance_one_hot.drop(\"charges\",axis=1)\n",
        "y = insurance_one_hot[\"charges\"]\n",
        "X,y"
      ],
      "execution_count": 81,
      "outputs": [
        {
          "output_type": "execute_result",
          "data": {
            "text/plain": [
              "(      age     bmi  ...  region_southeast  region_southwest\n",
              " 0      19  27.900  ...                 0                 1\n",
              " 1      18  33.770  ...                 1                 0\n",
              " 2      28  33.000  ...                 1                 0\n",
              " 3      33  22.705  ...                 0                 0\n",
              " 4      32  28.880  ...                 0                 0\n",
              " ...   ...     ...  ...               ...               ...\n",
              " 1333   50  30.970  ...                 0                 0\n",
              " 1334   18  31.920  ...                 0                 0\n",
              " 1335   18  36.850  ...                 1                 0\n",
              " 1336   21  25.800  ...                 0                 1\n",
              " 1337   61  29.070  ...                 0                 0\n",
              " \n",
              " [1338 rows x 11 columns], 0       16884.92400\n",
              " 1        1725.55230\n",
              " 2        4449.46200\n",
              " 3       21984.47061\n",
              " 4        3866.85520\n",
              "            ...     \n",
              " 1333    10600.54830\n",
              " 1334     2205.98080\n",
              " 1335     1629.83350\n",
              " 1336     2007.94500\n",
              " 1337    29141.36030\n",
              " Name: charges, Length: 1338, dtype: float64)"
            ]
          },
          "metadata": {
            "tags": []
          },
          "execution_count": 81
        }
      ]
    },
    {
      "cell_type": "code",
      "metadata": {
        "colab": {
          "base_uri": "https://localhost:8080/"
        },
        "id": "lQT1Ywrs_AjF",
        "outputId": "c909623f-5f2c-4eb5-b4ba-8daa22fea4e7"
      },
      "source": [
        "# Create training and test sets\n",
        "from sklearn.model_selection import train_test_split\n",
        "X_train,X_test,y_train,y_test = train_test_split(X,y,test_size=0.2,random_state=42)\n",
        "len(X),len(X_train),len(X_test)"
      ],
      "execution_count": 82,
      "outputs": [
        {
          "output_type": "execute_result",
          "data": {
            "text/plain": [
              "(1338, 1070, 268)"
            ]
          },
          "metadata": {
            "tags": []
          },
          "execution_count": 82
        }
      ]
    },
    {
      "cell_type": "code",
      "metadata": {
        "colab": {
          "base_uri": "https://localhost:8080/"
        },
        "id": "bgR2Oybz_bqx",
        "outputId": "3019be43-e22b-4b1f-ec2b-5ab08009fff1"
      },
      "source": [
        "# Build a neural network(sort of like model_2)\n",
        "tf.random.set_seed(42)\n",
        "\n",
        "# Create a model\n",
        "insurance_model = tf.keras.Sequential([\n",
        " tf.keras.layers.Dense(10),\n",
        " tf.keras.layers.Dense(1)\n",
        "])\n",
        "\n",
        "# Compile a model\n",
        "insurance_model.compile(loss=tf.keras.losses.mae,\n",
        "                        optimizer=tf.keras.optimizers.SGD(),\n",
        "                        metrics=[\"mae\"])\n",
        "\n",
        "# Fit the model\n",
        "insurance_model.fit(X_train,y_train,epochs=100)"
      ],
      "execution_count": 83,
      "outputs": [
        {
          "output_type": "stream",
          "text": [
            "Epoch 1/100\n",
            "34/34 [==============================] - 0s 1ms/step - loss: 8637.1006 - mae: 8637.1006\n",
            "Epoch 2/100\n",
            "34/34 [==============================] - 0s 931us/step - loss: 7886.7759 - mae: 7886.7759\n",
            "Epoch 3/100\n",
            "34/34 [==============================] - 0s 1ms/step - loss: 7558.1470 - mae: 7558.1470\n",
            "Epoch 4/100\n",
            "34/34 [==============================] - 0s 1ms/step - loss: 7792.0220 - mae: 7792.0220\n",
            "Epoch 5/100\n",
            "34/34 [==============================] - 0s 972us/step - loss: 7748.3887 - mae: 7748.3887\n",
            "Epoch 6/100\n",
            "34/34 [==============================] - 0s 947us/step - loss: 7595.3940 - mae: 7595.3940\n",
            "Epoch 7/100\n",
            "34/34 [==============================] - 0s 1ms/step - loss: 7589.9844 - mae: 7589.9844\n",
            "Epoch 8/100\n",
            "34/34 [==============================] - 0s 1ms/step - loss: 7698.5576 - mae: 7698.5576\n",
            "Epoch 9/100\n",
            "34/34 [==============================] - 0s 983us/step - loss: 7496.7778 - mae: 7496.7778\n",
            "Epoch 10/100\n",
            "34/34 [==============================] - 0s 1ms/step - loss: 7493.1743 - mae: 7493.1743\n",
            "Epoch 11/100\n",
            "34/34 [==============================] - 0s 1ms/step - loss: 7769.7295 - mae: 7769.7295\n",
            "Epoch 12/100\n",
            "34/34 [==============================] - 0s 1ms/step - loss: 7706.9028 - mae: 7706.9028\n",
            "Epoch 13/100\n",
            "34/34 [==============================] - 0s 986us/step - loss: 7687.7231 - mae: 7687.7231\n",
            "Epoch 14/100\n",
            "34/34 [==============================] - 0s 977us/step - loss: 7689.9004 - mae: 7689.9004\n",
            "Epoch 15/100\n",
            "34/34 [==============================] - 0s 981us/step - loss: 7393.5327 - mae: 7393.5327\n",
            "Epoch 16/100\n",
            "34/34 [==============================] - 0s 941us/step - loss: 7780.6987 - mae: 7780.6987\n",
            "Epoch 17/100\n",
            "34/34 [==============================] - 0s 1ms/step - loss: 7578.5098 - mae: 7578.5098\n",
            "Epoch 18/100\n",
            "34/34 [==============================] - 0s 2ms/step - loss: 7750.8354 - mae: 7750.8354\n",
            "Epoch 19/100\n",
            "34/34 [==============================] - 0s 965us/step - loss: 7739.2144 - mae: 7739.2144\n",
            "Epoch 20/100\n",
            "34/34 [==============================] - 0s 1ms/step - loss: 7875.0654 - mae: 7875.0654\n",
            "Epoch 21/100\n",
            "34/34 [==============================] - 0s 1ms/step - loss: 7466.6768 - mae: 7466.6768\n",
            "Epoch 22/100\n",
            "34/34 [==============================] - 0s 1ms/step - loss: 7941.2329 - mae: 7941.2329\n",
            "Epoch 23/100\n",
            "34/34 [==============================] - 0s 1ms/step - loss: 7640.2725 - mae: 7640.2725\n",
            "Epoch 24/100\n",
            "34/34 [==============================] - 0s 962us/step - loss: 7539.2671 - mae: 7539.2671\n",
            "Epoch 25/100\n",
            "34/34 [==============================] - 0s 966us/step - loss: 7619.9653 - mae: 7619.9653\n",
            "Epoch 26/100\n",
            "34/34 [==============================] - 0s 1ms/step - loss: 7644.1719 - mae: 7644.1719\n",
            "Epoch 27/100\n",
            "34/34 [==============================] - 0s 1ms/step - loss: 7709.0371 - mae: 7709.0371\n",
            "Epoch 28/100\n",
            "34/34 [==============================] - 0s 1ms/step - loss: 7366.8662 - mae: 7366.8662\n",
            "Epoch 29/100\n",
            "34/34 [==============================] - 0s 1ms/step - loss: 7444.3154 - mae: 7444.3154\n",
            "Epoch 30/100\n",
            "34/34 [==============================] - 0s 1ms/step - loss: 7616.4077 - mae: 7616.4077\n",
            "Epoch 31/100\n",
            "34/34 [==============================] - 0s 1ms/step - loss: 7686.3853 - mae: 7686.3853\n",
            "Epoch 32/100\n",
            "34/34 [==============================] - 0s 1ms/step - loss: 7548.0977 - mae: 7548.0977\n",
            "Epoch 33/100\n",
            "34/34 [==============================] - 0s 961us/step - loss: 7501.5532 - mae: 7501.5532\n",
            "Epoch 34/100\n",
            "34/34 [==============================] - 0s 914us/step - loss: 7363.4160 - mae: 7363.4160\n",
            "Epoch 35/100\n",
            "34/34 [==============================] - 0s 1ms/step - loss: 7295.4478 - mae: 7295.4478\n",
            "Epoch 36/100\n",
            "34/34 [==============================] - 0s 996us/step - loss: 7569.8813 - mae: 7569.8813\n",
            "Epoch 37/100\n",
            "34/34 [==============================] - 0s 943us/step - loss: 7548.1997 - mae: 7548.1997\n",
            "Epoch 38/100\n",
            "34/34 [==============================] - 0s 1ms/step - loss: 7424.3975 - mae: 7424.3975\n",
            "Epoch 39/100\n",
            "34/34 [==============================] - 0s 980us/step - loss: 7529.7734 - mae: 7529.7734\n",
            "Epoch 40/100\n",
            "34/34 [==============================] - 0s 918us/step - loss: 7467.3232 - mae: 7467.3232\n",
            "Epoch 41/100\n",
            "34/34 [==============================] - 0s 1ms/step - loss: 7635.9292 - mae: 7635.9292\n",
            "Epoch 42/100\n",
            "34/34 [==============================] - 0s 1ms/step - loss: 7536.8398 - mae: 7536.8398\n",
            "Epoch 43/100\n",
            "34/34 [==============================] - 0s 981us/step - loss: 7616.5859 - mae: 7616.5859\n",
            "Epoch 44/100\n",
            "34/34 [==============================] - 0s 939us/step - loss: 7439.4941 - mae: 7439.4941\n",
            "Epoch 45/100\n",
            "34/34 [==============================] - 0s 1ms/step - loss: 7538.0151 - mae: 7538.0151\n",
            "Epoch 46/100\n",
            "34/34 [==============================] - 0s 1ms/step - loss: 7415.1470 - mae: 7415.1470\n",
            "Epoch 47/100\n",
            "34/34 [==============================] - 0s 1ms/step - loss: 7420.6938 - mae: 7420.6938\n",
            "Epoch 48/100\n",
            "34/34 [==============================] - 0s 1ms/step - loss: 7509.9839 - mae: 7509.9839\n",
            "Epoch 49/100\n",
            "34/34 [==============================] - 0s 1ms/step - loss: 7541.1133 - mae: 7541.1133\n",
            "Epoch 50/100\n",
            "34/34 [==============================] - 0s 1ms/step - loss: 7467.8643 - mae: 7467.8643\n",
            "Epoch 51/100\n",
            "34/34 [==============================] - 0s 1ms/step - loss: 7389.3560 - mae: 7389.3560\n",
            "Epoch 52/100\n",
            "34/34 [==============================] - 0s 1ms/step - loss: 7499.7749 - mae: 7499.7749\n",
            "Epoch 53/100\n",
            "34/34 [==============================] - 0s 976us/step - loss: 7523.9282 - mae: 7523.9282\n",
            "Epoch 54/100\n",
            "34/34 [==============================] - 0s 1ms/step - loss: 7243.3115 - mae: 7243.3115\n",
            "Epoch 55/100\n",
            "34/34 [==============================] - 0s 977us/step - loss: 7429.5864 - mae: 7429.5864\n",
            "Epoch 56/100\n",
            "34/34 [==============================] - 0s 1ms/step - loss: 7313.3999 - mae: 7313.3999\n",
            "Epoch 57/100\n",
            "34/34 [==============================] - 0s 942us/step - loss: 7526.3877 - mae: 7526.3877\n",
            "Epoch 58/100\n",
            "34/34 [==============================] - 0s 1ms/step - loss: 7542.2666 - mae: 7542.2666\n",
            "Epoch 59/100\n",
            "34/34 [==============================] - 0s 1ms/step - loss: 7576.9277 - mae: 7576.9277\n",
            "Epoch 60/100\n",
            "34/34 [==============================] - 0s 1ms/step - loss: 7546.4048 - mae: 7546.4048\n",
            "Epoch 61/100\n",
            "34/34 [==============================] - 0s 1ms/step - loss: 7351.2261 - mae: 7351.2261\n",
            "Epoch 62/100\n",
            "34/34 [==============================] - 0s 1ms/step - loss: 7302.1436 - mae: 7302.1436\n",
            "Epoch 63/100\n",
            "34/34 [==============================] - 0s 1ms/step - loss: 7393.0879 - mae: 7393.0879\n",
            "Epoch 64/100\n",
            "34/34 [==============================] - 0s 1ms/step - loss: 7442.2881 - mae: 7442.2881\n",
            "Epoch 65/100\n",
            "34/34 [==============================] - 0s 1ms/step - loss: 7492.6782 - mae: 7492.6782\n",
            "Epoch 66/100\n",
            "34/34 [==============================] - 0s 1ms/step - loss: 7561.9165 - mae: 7561.9165\n",
            "Epoch 67/100\n",
            "34/34 [==============================] - 0s 975us/step - loss: 7340.5137 - mae: 7340.5137\n",
            "Epoch 68/100\n",
            "34/34 [==============================] - 0s 1ms/step - loss: 7496.0845 - mae: 7496.0845\n",
            "Epoch 69/100\n",
            "34/34 [==============================] - 0s 997us/step - loss: 7617.0303 - mae: 7617.0303\n",
            "Epoch 70/100\n",
            "34/34 [==============================] - 0s 1ms/step - loss: 7641.1948 - mae: 7641.1948\n",
            "Epoch 71/100\n",
            "34/34 [==============================] - 0s 942us/step - loss: 7084.2744 - mae: 7084.2744\n",
            "Epoch 72/100\n",
            "34/34 [==============================] - 0s 1ms/step - loss: 7240.4902 - mae: 7240.4902\n",
            "Epoch 73/100\n",
            "34/34 [==============================] - 0s 1ms/step - loss: 7283.4888 - mae: 7283.4888\n",
            "Epoch 74/100\n",
            "34/34 [==============================] - 0s 1ms/step - loss: 7335.5083 - mae: 7335.5083\n",
            "Epoch 75/100\n",
            "34/34 [==============================] - 0s 1ms/step - loss: 7275.6392 - mae: 7275.6392\n",
            "Epoch 76/100\n",
            "34/34 [==============================] - 0s 1ms/step - loss: 7313.1860 - mae: 7313.1860\n",
            "Epoch 77/100\n",
            "34/34 [==============================] - 0s 1ms/step - loss: 7485.7588 - mae: 7485.7588\n",
            "Epoch 78/100\n",
            "34/34 [==============================] - 0s 1ms/step - loss: 7352.2803 - mae: 7352.2803\n",
            "Epoch 79/100\n",
            "34/34 [==============================] - 0s 1ms/step - loss: 7520.5703 - mae: 7520.5703\n",
            "Epoch 80/100\n",
            "34/34 [==============================] - 0s 1ms/step - loss: 7279.3779 - mae: 7279.3779\n",
            "Epoch 81/100\n",
            "34/34 [==============================] - 0s 1ms/step - loss: 7273.8477 - mae: 7273.8477\n",
            "Epoch 82/100\n",
            "34/34 [==============================] - 0s 965us/step - loss: 7176.5215 - mae: 7176.5215\n",
            "Epoch 83/100\n",
            "34/34 [==============================] - 0s 1ms/step - loss: 7425.6289 - mae: 7425.6289\n",
            "Epoch 84/100\n",
            "34/34 [==============================] - 0s 1ms/step - loss: 7403.1294 - mae: 7403.1294\n",
            "Epoch 85/100\n",
            "34/34 [==============================] - 0s 987us/step - loss: 7356.0088 - mae: 7356.0088\n",
            "Epoch 86/100\n",
            "34/34 [==============================] - 0s 1ms/step - loss: 7484.7271 - mae: 7484.7271\n",
            "Epoch 87/100\n",
            "34/34 [==============================] - 0s 1ms/step - loss: 7217.6074 - mae: 7217.6074\n",
            "Epoch 88/100\n",
            "34/34 [==============================] - 0s 994us/step - loss: 7261.0000 - mae: 7261.0000\n",
            "Epoch 89/100\n",
            "34/34 [==============================] - 0s 1ms/step - loss: 7134.1562 - mae: 7134.1562\n",
            "Epoch 90/100\n",
            "34/34 [==============================] - 0s 1ms/step - loss: 7083.4360 - mae: 7083.4360\n",
            "Epoch 91/100\n",
            "34/34 [==============================] - 0s 1ms/step - loss: 7254.1782 - mae: 7254.1782\n",
            "Epoch 92/100\n",
            "34/34 [==============================] - 0s 1ms/step - loss: 7268.7456 - mae: 7268.7456\n",
            "Epoch 93/100\n",
            "34/34 [==============================] - 0s 1ms/step - loss: 7470.5220 - mae: 7470.5220\n",
            "Epoch 94/100\n",
            "34/34 [==============================] - 0s 1ms/step - loss: 7210.9536 - mae: 7210.9536\n",
            "Epoch 95/100\n",
            "34/34 [==============================] - 0s 972us/step - loss: 7395.6816 - mae: 7395.6816\n",
            "Epoch 96/100\n",
            "34/34 [==============================] - 0s 1ms/step - loss: 7328.0884 - mae: 7328.0884\n",
            "Epoch 97/100\n",
            "34/34 [==============================] - 0s 1ms/step - loss: 7230.4380 - mae: 7230.4380\n",
            "Epoch 98/100\n",
            "34/34 [==============================] - 0s 1ms/step - loss: 7261.3936 - mae: 7261.3936\n",
            "Epoch 99/100\n",
            "34/34 [==============================] - 0s 1ms/step - loss: 7342.5684 - mae: 7342.5684\n",
            "Epoch 100/100\n",
            "34/34 [==============================] - 0s 1ms/step - loss: 7106.1714 - mae: 7106.1714\n"
          ],
          "name": "stdout"
        },
        {
          "output_type": "execute_result",
          "data": {
            "text/plain": [
              "<tensorflow.python.keras.callbacks.History at 0x7f40a4007b90>"
            ]
          },
          "metadata": {
            "tags": []
          },
          "execution_count": 83
        }
      ]
    },
    {
      "cell_type": "code",
      "metadata": {
        "colab": {
          "base_uri": "https://localhost:8080/"
        },
        "id": "zgueFpSuCFPh",
        "outputId": "3d1a1b92-bff0-4e90-b828-26b58453183c"
      },
      "source": [
        "# Check the results of insurance model on the test data\n",
        "insurance_model.evaluate(X_test,y_test)\n"
      ],
      "execution_count": 84,
      "outputs": [
        {
          "output_type": "stream",
          "text": [
            "9/9 [==============================] - 0s 2ms/step - loss: 7023.3291 - mae: 7023.3291\n"
          ],
          "name": "stdout"
        },
        {
          "output_type": "execute_result",
          "data": {
            "text/plain": [
              "[7023.3291015625, 7023.3291015625]"
            ]
          },
          "metadata": {
            "tags": []
          },
          "execution_count": 84
        }
      ]
    },
    {
      "cell_type": "code",
      "metadata": {
        "colab": {
          "base_uri": "https://localhost:8080/"
        },
        "id": "R_PPYCaWCGun",
        "outputId": "29f3da26-5a7d-4d0c-c589-c3482dc497f7"
      },
      "source": [
        "y_train.median(),y_train.mean()\n"
      ],
      "execution_count": 85,
      "outputs": [
        {
          "output_type": "execute_result",
          "data": {
            "text/plain": [
              "(9575.4421, 13346.089736364489)"
            ]
          },
          "metadata": {
            "tags": []
          },
          "execution_count": 85
        }
      ]
    },
    {
      "cell_type": "markdown",
      "metadata": {
        "id": "1veJKNPvFH2G"
      },
      "source": [
        "Right now it looks like  our model isn't performing too well... let's try and improve it"
      ]
    },
    {
      "cell_type": "code",
      "metadata": {
        "id": "o3RDjz-TFVu0",
        "colab": {
          "base_uri": "https://localhost:8080/"
        },
        "outputId": "c49edc7f-d777-40b7-fd6d-7396ce1284c0"
      },
      "source": [
        "#Set random seed\n",
        "tf.random.set_seed(42)\n",
        "\n",
        "# Create a model\n",
        "insurance_model_2=tf.keras.Sequential([\n",
        " tf.keras.layers.Dense(100),\n",
        " tf.keras.layers.Dense(10),\n",
        " tf.keras.layers.Dense(1)\n",
        "])\n",
        "\n",
        "# Compile the model\n",
        "insurance_model_2.compile(loss=tf.keras.losses.mae,\n",
        "                          optimizer=tf.keras.optimizers.Adam(),\n",
        "                          metrics=[\"mae\"])\n",
        "\n",
        "# Fit the model\\\n",
        "insurance_model_2.fit(X_train,y_train,epochs=100,verbose=1)"
      ],
      "execution_count": 86,
      "outputs": [
        {
          "output_type": "stream",
          "text": [
            "Epoch 1/100\n",
            "34/34 [==============================] - 0s 1ms/step - loss: 13273.1602 - mae: 13273.1602\n",
            "Epoch 2/100\n",
            "34/34 [==============================] - 0s 1ms/step - loss: 13104.4297 - mae: 13104.4297\n",
            "Epoch 3/100\n",
            "34/34 [==============================] - 0s 1ms/step - loss: 12749.5420 - mae: 12749.5420\n",
            "Epoch 4/100\n",
            "34/34 [==============================] - 0s 1ms/step - loss: 12055.7510 - mae: 12055.7510\n",
            "Epoch 5/100\n",
            "34/34 [==============================] - 0s 1ms/step - loss: 10905.8154 - mae: 10905.8154\n",
            "Epoch 6/100\n",
            "34/34 [==============================] - 0s 2ms/step - loss: 9457.7217 - mae: 9457.7217\n",
            "Epoch 7/100\n",
            "34/34 [==============================] - 0s 1ms/step - loss: 8147.6543 - mae: 8147.6543\n",
            "Epoch 8/100\n",
            "34/34 [==============================] - 0s 1ms/step - loss: 7528.8408 - mae: 7528.8408\n",
            "Epoch 9/100\n",
            "34/34 [==============================] - 0s 1ms/step - loss: 7429.1528 - mae: 7429.1528\n",
            "Epoch 10/100\n",
            "34/34 [==============================] - 0s 1ms/step - loss: 7409.0811 - mae: 7409.0811\n",
            "Epoch 11/100\n",
            "34/34 [==============================] - 0s 1ms/step - loss: 7390.8042 - mae: 7390.8042\n",
            "Epoch 12/100\n",
            "34/34 [==============================] - 0s 1ms/step - loss: 7368.9180 - mae: 7368.9180\n",
            "Epoch 13/100\n",
            "34/34 [==============================] - 0s 1ms/step - loss: 7348.5195 - mae: 7348.5195\n",
            "Epoch 14/100\n",
            "34/34 [==============================] - 0s 1ms/step - loss: 7326.4893 - mae: 7326.4893\n",
            "Epoch 15/100\n",
            "34/34 [==============================] - 0s 1ms/step - loss: 7307.5815 - mae: 7307.5815\n",
            "Epoch 16/100\n",
            "34/34 [==============================] - 0s 1ms/step - loss: 7285.7734 - mae: 7285.7734\n",
            "Epoch 17/100\n",
            "34/34 [==============================] - 0s 1ms/step - loss: 7265.7104 - mae: 7265.7104\n",
            "Epoch 18/100\n",
            "34/34 [==============================] - 0s 1ms/step - loss: 7242.5488 - mae: 7242.5488\n",
            "Epoch 19/100\n",
            "34/34 [==============================] - 0s 1ms/step - loss: 7220.5068 - mae: 7220.5068\n",
            "Epoch 20/100\n",
            "34/34 [==============================] - 0s 1ms/step - loss: 7197.1978 - mae: 7197.1978\n",
            "Epoch 21/100\n",
            "34/34 [==============================] - 0s 1ms/step - loss: 7179.0195 - mae: 7179.0195\n",
            "Epoch 22/100\n",
            "34/34 [==============================] - 0s 1ms/step - loss: 7151.2104 - mae: 7151.2104\n",
            "Epoch 23/100\n",
            "34/34 [==============================] - 0s 1ms/step - loss: 7126.4639 - mae: 7126.4639\n",
            "Epoch 24/100\n",
            "34/34 [==============================] - 0s 1ms/step - loss: 7101.9199 - mae: 7101.9199\n",
            "Epoch 25/100\n",
            "34/34 [==============================] - 0s 1ms/step - loss: 7084.3379 - mae: 7084.3379\n",
            "Epoch 26/100\n",
            "34/34 [==============================] - 0s 2ms/step - loss: 7052.3291 - mae: 7052.3291\n",
            "Epoch 27/100\n",
            "34/34 [==============================] - 0s 1ms/step - loss: 7024.3501 - mae: 7024.3501\n",
            "Epoch 28/100\n",
            "34/34 [==============================] - 0s 1ms/step - loss: 6996.6963 - mae: 6996.6963\n",
            "Epoch 29/100\n",
            "34/34 [==============================] - 0s 1ms/step - loss: 6969.0112 - mae: 6969.0112\n",
            "Epoch 30/100\n",
            "34/34 [==============================] - 0s 1ms/step - loss: 6942.1899 - mae: 6942.1899\n",
            "Epoch 31/100\n",
            "34/34 [==============================] - 0s 1ms/step - loss: 6911.7280 - mae: 6911.7280\n",
            "Epoch 32/100\n",
            "34/34 [==============================] - 0s 1ms/step - loss: 6884.0205 - mae: 6884.0205\n",
            "Epoch 33/100\n",
            "34/34 [==============================] - 0s 1ms/step - loss: 6853.4648 - mae: 6853.4648\n",
            "Epoch 34/100\n",
            "34/34 [==============================] - 0s 1ms/step - loss: 6823.0674 - mae: 6823.0674\n",
            "Epoch 35/100\n",
            "34/34 [==============================] - 0s 1ms/step - loss: 6789.6855 - mae: 6789.6855\n",
            "Epoch 36/100\n",
            "34/34 [==============================] - 0s 1ms/step - loss: 6755.7646 - mae: 6755.7646\n",
            "Epoch 37/100\n",
            "34/34 [==============================] - 0s 2ms/step - loss: 6720.2026 - mae: 6720.2026\n",
            "Epoch 38/100\n",
            "34/34 [==============================] - 0s 1ms/step - loss: 6689.7158 - mae: 6689.7158\n",
            "Epoch 39/100\n",
            "34/34 [==============================] - 0s 1ms/step - loss: 6652.4614 - mae: 6652.4614\n",
            "Epoch 40/100\n",
            "34/34 [==============================] - 0s 1ms/step - loss: 6618.1006 - mae: 6618.1006\n",
            "Epoch 41/100\n",
            "34/34 [==============================] - 0s 1ms/step - loss: 6585.8643 - mae: 6585.8643\n",
            "Epoch 42/100\n",
            "34/34 [==============================] - 0s 1ms/step - loss: 6559.4956 - mae: 6559.4956\n",
            "Epoch 43/100\n",
            "34/34 [==============================] - 0s 1ms/step - loss: 6530.0444 - mae: 6530.0444\n",
            "Epoch 44/100\n",
            "34/34 [==============================] - 0s 1ms/step - loss: 6506.8071 - mae: 6506.8071\n",
            "Epoch 45/100\n",
            "34/34 [==============================] - 0s 2ms/step - loss: 6493.5718 - mae: 6493.5718\n",
            "Epoch 46/100\n",
            "34/34 [==============================] - 0s 1ms/step - loss: 6475.9258 - mae: 6475.9258\n",
            "Epoch 47/100\n",
            "34/34 [==============================] - 0s 1ms/step - loss: 6458.8979 - mae: 6458.8979\n",
            "Epoch 48/100\n",
            "34/34 [==============================] - 0s 1ms/step - loss: 6445.1494 - mae: 6445.1494\n",
            "Epoch 49/100\n",
            "34/34 [==============================] - 0s 2ms/step - loss: 6430.9639 - mae: 6430.9639\n",
            "Epoch 50/100\n",
            "34/34 [==============================] - 0s 2ms/step - loss: 6417.7510 - mae: 6417.7510\n",
            "Epoch 51/100\n",
            "34/34 [==============================] - 0s 1ms/step - loss: 6403.2759 - mae: 6403.2759\n",
            "Epoch 52/100\n",
            "34/34 [==============================] - 0s 1ms/step - loss: 6392.4141 - mae: 6392.4141\n",
            "Epoch 53/100\n",
            "34/34 [==============================] - 0s 1ms/step - loss: 6378.7451 - mae: 6378.7451\n",
            "Epoch 54/100\n",
            "34/34 [==============================] - 0s 1ms/step - loss: 6364.9131 - mae: 6364.9131\n",
            "Epoch 55/100\n",
            "34/34 [==============================] - 0s 1ms/step - loss: 6351.5269 - mae: 6351.5269\n",
            "Epoch 56/100\n",
            "34/34 [==============================] - 0s 2ms/step - loss: 6337.6602 - mae: 6337.6602\n",
            "Epoch 57/100\n",
            "34/34 [==============================] - 0s 1ms/step - loss: 6324.8369 - mae: 6324.8369\n",
            "Epoch 58/100\n",
            "34/34 [==============================] - 0s 1ms/step - loss: 6310.1948 - mae: 6310.1948\n",
            "Epoch 59/100\n",
            "34/34 [==============================] - 0s 1ms/step - loss: 6295.6035 - mae: 6295.6035\n",
            "Epoch 60/100\n",
            "34/34 [==============================] - 0s 1ms/step - loss: 6284.8696 - mae: 6284.8696\n",
            "Epoch 61/100\n",
            "34/34 [==============================] - 0s 1ms/step - loss: 6265.6411 - mae: 6265.6411\n",
            "Epoch 62/100\n",
            "34/34 [==============================] - 0s 1ms/step - loss: 6253.0103 - mae: 6253.0103\n",
            "Epoch 63/100\n",
            "34/34 [==============================] - 0s 1ms/step - loss: 6234.9292 - mae: 6234.9292\n",
            "Epoch 64/100\n",
            "34/34 [==============================] - 0s 2ms/step - loss: 6218.0430 - mae: 6218.0430\n",
            "Epoch 65/100\n",
            "34/34 [==============================] - 0s 1ms/step - loss: 6201.1899 - mae: 6201.1899\n",
            "Epoch 66/100\n",
            "34/34 [==============================] - 0s 1ms/step - loss: 6183.9590 - mae: 6183.9590\n",
            "Epoch 67/100\n",
            "34/34 [==============================] - 0s 1ms/step - loss: 6171.2993 - mae: 6171.2993\n",
            "Epoch 68/100\n",
            "34/34 [==============================] - 0s 1ms/step - loss: 6148.8398 - mae: 6148.8398\n",
            "Epoch 69/100\n",
            "34/34 [==============================] - 0s 1ms/step - loss: 6132.5981 - mae: 6132.5981\n",
            "Epoch 70/100\n",
            "34/34 [==============================] - 0s 1ms/step - loss: 6112.3848 - mae: 6112.3848\n",
            "Epoch 71/100\n",
            "34/34 [==============================] - 0s 1ms/step - loss: 6092.7202 - mae: 6092.7202\n",
            "Epoch 72/100\n",
            "34/34 [==============================] - 0s 1ms/step - loss: 6073.7422 - mae: 6073.7422\n",
            "Epoch 73/100\n",
            "34/34 [==============================] - 0s 1ms/step - loss: 6059.4873 - mae: 6059.4873\n",
            "Epoch 74/100\n",
            "34/34 [==============================] - 0s 1ms/step - loss: 6031.3848 - mae: 6031.3848\n",
            "Epoch 75/100\n",
            "34/34 [==============================] - 0s 1ms/step - loss: 6010.3350 - mae: 6010.3350\n",
            "Epoch 76/100\n",
            "34/34 [==============================] - 0s 1ms/step - loss: 5995.2178 - mae: 5995.2178\n",
            "Epoch 77/100\n",
            "34/34 [==============================] - 0s 1ms/step - loss: 5963.0718 - mae: 5963.0718\n",
            "Epoch 78/100\n",
            "34/34 [==============================] - 0s 1ms/step - loss: 5940.0605 - mae: 5940.0605\n",
            "Epoch 79/100\n",
            "34/34 [==============================] - 0s 1ms/step - loss: 5915.1064 - mae: 5915.1064\n",
            "Epoch 80/100\n",
            "34/34 [==============================] - 0s 1ms/step - loss: 5887.9990 - mae: 5887.9990\n",
            "Epoch 81/100\n",
            "34/34 [==============================] - 0s 1ms/step - loss: 5861.6992 - mae: 5861.6992\n",
            "Epoch 82/100\n",
            "34/34 [==============================] - 0s 1ms/step - loss: 5834.3066 - mae: 5834.3066\n",
            "Epoch 83/100\n",
            "34/34 [==============================] - 0s 1ms/step - loss: 5805.8237 - mae: 5805.8237\n",
            "Epoch 84/100\n",
            "34/34 [==============================] - 0s 1ms/step - loss: 5772.3232 - mae: 5772.3232\n",
            "Epoch 85/100\n",
            "34/34 [==============================] - 0s 1ms/step - loss: 5745.1514 - mae: 5745.1514\n",
            "Epoch 86/100\n",
            "34/34 [==============================] - 0s 1ms/step - loss: 5711.3477 - mae: 5711.3477\n",
            "Epoch 87/100\n",
            "34/34 [==============================] - 0s 1ms/step - loss: 5674.5215 - mae: 5674.5215\n",
            "Epoch 88/100\n",
            "34/34 [==============================] - 0s 1ms/step - loss: 5639.4927 - mae: 5639.4927\n",
            "Epoch 89/100\n",
            "34/34 [==============================] - 0s 1ms/step - loss: 5600.6655 - mae: 5600.6655\n",
            "Epoch 90/100\n",
            "34/34 [==============================] - 0s 1ms/step - loss: 5559.4326 - mae: 5559.4326\n",
            "Epoch 91/100\n",
            "34/34 [==============================] - 0s 1ms/step - loss: 5523.6187 - mae: 5523.6187\n",
            "Epoch 92/100\n",
            "34/34 [==============================] - 0s 1ms/step - loss: 5474.1250 - mae: 5474.1250\n",
            "Epoch 93/100\n",
            "34/34 [==============================] - 0s 1ms/step - loss: 5432.2661 - mae: 5432.2661\n",
            "Epoch 94/100\n",
            "34/34 [==============================] - 0s 1ms/step - loss: 5386.0527 - mae: 5386.0527\n",
            "Epoch 95/100\n",
            "34/34 [==============================] - 0s 1ms/step - loss: 5333.1812 - mae: 5333.1812\n",
            "Epoch 96/100\n",
            "34/34 [==============================] - 0s 1ms/step - loss: 5288.8159 - mae: 5288.8159\n",
            "Epoch 97/100\n",
            "34/34 [==============================] - 0s 1ms/step - loss: 5234.6792 - mae: 5234.6792\n",
            "Epoch 98/100\n",
            "34/34 [==============================] - 0s 1ms/step - loss: 5170.9360 - mae: 5170.9360\n",
            "Epoch 99/100\n",
            "34/34 [==============================] - 0s 1ms/step - loss: 5112.9443 - mae: 5112.9443\n",
            "Epoch 100/100\n",
            "34/34 [==============================] - 0s 1ms/step - loss: 5059.8643 - mae: 5059.8643\n"
          ],
          "name": "stdout"
        },
        {
          "output_type": "execute_result",
          "data": {
            "text/plain": [
              "<tensorflow.python.keras.callbacks.History at 0x7f40a3e7d310>"
            ]
          },
          "metadata": {
            "tags": []
          },
          "execution_count": 86
        }
      ]
    },
    {
      "cell_type": "code",
      "metadata": {
        "id": "auZBcsozkudd",
        "colab": {
          "base_uri": "https://localhost:8080/"
        },
        "outputId": "f99d5637-5d76-4a6f-c776-5d1fd43195b7"
      },
      "source": [
        "# Evaluate the larger model\n",
        "insurance_model_2.evaluate(X_test,y_test)"
      ],
      "execution_count": 87,
      "outputs": [
        {
          "output_type": "stream",
          "text": [
            "9/9 [==============================] - 0s 1ms/step - loss: 4924.3477 - mae: 4924.3477\n"
          ],
          "name": "stdout"
        },
        {
          "output_type": "execute_result",
          "data": {
            "text/plain": [
              "[4924.34765625, 4924.34765625]"
            ]
          },
          "metadata": {
            "tags": []
          },
          "execution_count": 87
        }
      ]
    },
    {
      "cell_type": "code",
      "metadata": {
        "colab": {
          "base_uri": "https://localhost:8080/"
        },
        "id": "hhaen6_Ke70O",
        "outputId": "10241fe1-4433-4a25-a996-016500493e73"
      },
      "source": [
        "insurance_model.evaluate(X_test,y_test)"
      ],
      "execution_count": 88,
      "outputs": [
        {
          "output_type": "stream",
          "text": [
            "9/9 [==============================] - 0s 2ms/step - loss: 7023.3291 - mae: 7023.3291\n"
          ],
          "name": "stdout"
        },
        {
          "output_type": "execute_result",
          "data": {
            "text/plain": [
              "[7023.3291015625, 7023.3291015625]"
            ]
          },
          "metadata": {
            "tags": []
          },
          "execution_count": 88
        }
      ]
    },
    {
      "cell_type": "code",
      "metadata": {
        "colab": {
          "base_uri": "https://localhost:8080/"
        },
        "id": "RIEdJ6jRfCSs",
        "outputId": "beadcc8f-4733-483c-9914-c44ce75a2bc1"
      },
      "source": [
        "# Set the random seed\n",
        "tf.random.set_seed(42)\n",
        "\n",
        "# Create the model\n",
        "insurance_model_3 = tf.keras.Sequential([\n",
        " tf.keras.layers.Dense(100),\n",
        " tf.keras.layers.Dense(10),\n",
        " tf.keras.layers.Dense(1)\n",
        "])\n",
        "\n",
        "# Compile the model\n",
        "insurance_model_3.compile(loss=tf.keras.losses.mae,\n",
        "                          optimizer=tf.keras.optimizers.Adam(),\n",
        "                          metrics=[\"mae\"])\n",
        "# Fit the model\n",
        "history =  insurance_model_3.fit(X_train,y_train,epochs=200)"
      ],
      "execution_count": 89,
      "outputs": [
        {
          "output_type": "stream",
          "text": [
            "Epoch 1/200\n",
            "34/34 [==============================] - 0s 1ms/step - loss: 13273.1602 - mae: 13273.1602\n",
            "Epoch 2/200\n",
            "34/34 [==============================] - 0s 1ms/step - loss: 13104.4297 - mae: 13104.4297\n",
            "Epoch 3/200\n",
            "34/34 [==============================] - 0s 1ms/step - loss: 12749.5420 - mae: 12749.5420\n",
            "Epoch 4/200\n",
            "34/34 [==============================] - 0s 1ms/step - loss: 12055.7510 - mae: 12055.7510\n",
            "Epoch 5/200\n",
            "34/34 [==============================] - 0s 1ms/step - loss: 10905.8154 - mae: 10905.8154\n",
            "Epoch 6/200\n",
            "34/34 [==============================] - 0s 1ms/step - loss: 9457.7217 - mae: 9457.7217\n",
            "Epoch 7/200\n",
            "34/34 [==============================] - 0s 1ms/step - loss: 8147.6543 - mae: 8147.6543\n",
            "Epoch 8/200\n",
            "34/34 [==============================] - 0s 1ms/step - loss: 7528.8408 - mae: 7528.8408\n",
            "Epoch 9/200\n",
            "34/34 [==============================] - 0s 1ms/step - loss: 7429.1528 - mae: 7429.1528\n",
            "Epoch 10/200\n",
            "34/34 [==============================] - 0s 1ms/step - loss: 7409.0811 - mae: 7409.0811\n",
            "Epoch 11/200\n",
            "34/34 [==============================] - 0s 1ms/step - loss: 7390.8042 - mae: 7390.8042\n",
            "Epoch 12/200\n",
            "34/34 [==============================] - 0s 1ms/step - loss: 7368.9180 - mae: 7368.9180\n",
            "Epoch 13/200\n",
            "34/34 [==============================] - 0s 1ms/step - loss: 7348.5195 - mae: 7348.5195\n",
            "Epoch 14/200\n",
            "34/34 [==============================] - 0s 1ms/step - loss: 7326.4893 - mae: 7326.4893\n",
            "Epoch 15/200\n",
            "34/34 [==============================] - 0s 2ms/step - loss: 7307.5815 - mae: 7307.5815\n",
            "Epoch 16/200\n",
            "34/34 [==============================] - 0s 2ms/step - loss: 7285.7734 - mae: 7285.7734\n",
            "Epoch 17/200\n",
            "34/34 [==============================] - 0s 1ms/step - loss: 7265.7104 - mae: 7265.7104\n",
            "Epoch 18/200\n",
            "34/34 [==============================] - 0s 1ms/step - loss: 7242.5488 - mae: 7242.5488\n",
            "Epoch 19/200\n",
            "34/34 [==============================] - 0s 1ms/step - loss: 7220.5068 - mae: 7220.5068\n",
            "Epoch 20/200\n",
            "34/34 [==============================] - 0s 1ms/step - loss: 7197.1978 - mae: 7197.1978\n",
            "Epoch 21/200\n",
            "34/34 [==============================] - 0s 1ms/step - loss: 7179.0195 - mae: 7179.0195\n",
            "Epoch 22/200\n",
            "34/34 [==============================] - 0s 1ms/step - loss: 7151.2104 - mae: 7151.2104\n",
            "Epoch 23/200\n",
            "34/34 [==============================] - 0s 1ms/step - loss: 7126.4639 - mae: 7126.4639\n",
            "Epoch 24/200\n",
            "34/34 [==============================] - 0s 1ms/step - loss: 7101.9199 - mae: 7101.9199\n",
            "Epoch 25/200\n",
            "34/34 [==============================] - 0s 1ms/step - loss: 7084.3379 - mae: 7084.3379\n",
            "Epoch 26/200\n",
            "34/34 [==============================] - 0s 1ms/step - loss: 7052.3291 - mae: 7052.3291\n",
            "Epoch 27/200\n",
            "34/34 [==============================] - 0s 1ms/step - loss: 7024.3501 - mae: 7024.3501\n",
            "Epoch 28/200\n",
            "34/34 [==============================] - 0s 1ms/step - loss: 6996.6963 - mae: 6996.6963\n",
            "Epoch 29/200\n",
            "34/34 [==============================] - 0s 1ms/step - loss: 6969.0112 - mae: 6969.0112\n",
            "Epoch 30/200\n",
            "34/34 [==============================] - 0s 1ms/step - loss: 6942.1899 - mae: 6942.1899\n",
            "Epoch 31/200\n",
            "34/34 [==============================] - 0s 1ms/step - loss: 6911.7280 - mae: 6911.7280\n",
            "Epoch 32/200\n",
            "34/34 [==============================] - 0s 1ms/step - loss: 6884.0205 - mae: 6884.0205\n",
            "Epoch 33/200\n",
            "34/34 [==============================] - 0s 1ms/step - loss: 6853.4648 - mae: 6853.4648\n",
            "Epoch 34/200\n",
            "34/34 [==============================] - 0s 1ms/step - loss: 6823.0674 - mae: 6823.0674\n",
            "Epoch 35/200\n",
            "34/34 [==============================] - 0s 1ms/step - loss: 6789.6855 - mae: 6789.6855\n",
            "Epoch 36/200\n",
            "34/34 [==============================] - 0s 1ms/step - loss: 6755.7646 - mae: 6755.7646\n",
            "Epoch 37/200\n",
            "34/34 [==============================] - 0s 1ms/step - loss: 6720.2026 - mae: 6720.2026\n",
            "Epoch 38/200\n",
            "34/34 [==============================] - 0s 1ms/step - loss: 6689.7158 - mae: 6689.7158\n",
            "Epoch 39/200\n",
            "34/34 [==============================] - 0s 1ms/step - loss: 6652.4614 - mae: 6652.4614\n",
            "Epoch 40/200\n",
            "34/34 [==============================] - 0s 1ms/step - loss: 6618.1006 - mae: 6618.1006\n",
            "Epoch 41/200\n",
            "34/34 [==============================] - 0s 2ms/step - loss: 6585.8643 - mae: 6585.8643\n",
            "Epoch 42/200\n",
            "34/34 [==============================] - 0s 2ms/step - loss: 6559.4956 - mae: 6559.4956\n",
            "Epoch 43/200\n",
            "34/34 [==============================] - 0s 1ms/step - loss: 6530.0444 - mae: 6530.0444\n",
            "Epoch 44/200\n",
            "34/34 [==============================] - 0s 1ms/step - loss: 6506.8071 - mae: 6506.8071\n",
            "Epoch 45/200\n",
            "34/34 [==============================] - 0s 1ms/step - loss: 6493.5718 - mae: 6493.5718\n",
            "Epoch 46/200\n",
            "34/34 [==============================] - 0s 1ms/step - loss: 6475.9258 - mae: 6475.9258\n",
            "Epoch 47/200\n",
            "34/34 [==============================] - 0s 1ms/step - loss: 6458.8979 - mae: 6458.8979\n",
            "Epoch 48/200\n",
            "34/34 [==============================] - 0s 2ms/step - loss: 6445.1494 - mae: 6445.1494\n",
            "Epoch 49/200\n",
            "34/34 [==============================] - 0s 1ms/step - loss: 6430.9639 - mae: 6430.9639\n",
            "Epoch 50/200\n",
            "34/34 [==============================] - 0s 1ms/step - loss: 6417.7510 - mae: 6417.7510\n",
            "Epoch 51/200\n",
            "34/34 [==============================] - 0s 1ms/step - loss: 6403.2759 - mae: 6403.2759\n",
            "Epoch 52/200\n",
            "34/34 [==============================] - 0s 1ms/step - loss: 6392.4141 - mae: 6392.4141\n",
            "Epoch 53/200\n",
            "34/34 [==============================] - 0s 1ms/step - loss: 6378.7451 - mae: 6378.7451\n",
            "Epoch 54/200\n",
            "34/34 [==============================] - 0s 1ms/step - loss: 6364.9131 - mae: 6364.9131\n",
            "Epoch 55/200\n",
            "34/34 [==============================] - 0s 1ms/step - loss: 6351.5269 - mae: 6351.5269\n",
            "Epoch 56/200\n",
            "34/34 [==============================] - 0s 1ms/step - loss: 6337.6602 - mae: 6337.6602\n",
            "Epoch 57/200\n",
            "34/34 [==============================] - 0s 1ms/step - loss: 6324.8369 - mae: 6324.8369\n",
            "Epoch 58/200\n",
            "34/34 [==============================] - 0s 1ms/step - loss: 6310.1948 - mae: 6310.1948\n",
            "Epoch 59/200\n",
            "34/34 [==============================] - 0s 1ms/step - loss: 6295.6035 - mae: 6295.6035\n",
            "Epoch 60/200\n",
            "34/34 [==============================] - 0s 1ms/step - loss: 6284.8696 - mae: 6284.8696\n",
            "Epoch 61/200\n",
            "34/34 [==============================] - 0s 1ms/step - loss: 6265.6411 - mae: 6265.6411\n",
            "Epoch 62/200\n",
            "34/34 [==============================] - 0s 1ms/step - loss: 6253.0103 - mae: 6253.0103\n",
            "Epoch 63/200\n",
            "34/34 [==============================] - 0s 1ms/step - loss: 6234.9292 - mae: 6234.9292\n",
            "Epoch 64/200\n",
            "34/34 [==============================] - 0s 1ms/step - loss: 6218.0430 - mae: 6218.0430\n",
            "Epoch 65/200\n",
            "34/34 [==============================] - 0s 1ms/step - loss: 6201.1899 - mae: 6201.1899\n",
            "Epoch 66/200\n",
            "34/34 [==============================] - 0s 1ms/step - loss: 6183.9590 - mae: 6183.9590\n",
            "Epoch 67/200\n",
            "34/34 [==============================] - 0s 1ms/step - loss: 6171.2993 - mae: 6171.2993\n",
            "Epoch 68/200\n",
            "34/34 [==============================] - 0s 1ms/step - loss: 6148.8398 - mae: 6148.8398\n",
            "Epoch 69/200\n",
            "34/34 [==============================] - 0s 1ms/step - loss: 6132.5981 - mae: 6132.5981\n",
            "Epoch 70/200\n",
            "34/34 [==============================] - 0s 1ms/step - loss: 6112.3848 - mae: 6112.3848\n",
            "Epoch 71/200\n",
            "34/34 [==============================] - 0s 2ms/step - loss: 6092.7202 - mae: 6092.7202\n",
            "Epoch 72/200\n",
            "34/34 [==============================] - 0s 1ms/step - loss: 6073.7422 - mae: 6073.7422\n",
            "Epoch 73/200\n",
            "34/34 [==============================] - 0s 1ms/step - loss: 6059.4873 - mae: 6059.4873\n",
            "Epoch 74/200\n",
            "34/34 [==============================] - 0s 1ms/step - loss: 6031.3848 - mae: 6031.3848\n",
            "Epoch 75/200\n",
            "34/34 [==============================] - 0s 1ms/step - loss: 6010.3350 - mae: 6010.3350\n",
            "Epoch 76/200\n",
            "34/34 [==============================] - 0s 1ms/step - loss: 5995.2178 - mae: 5995.2178\n",
            "Epoch 77/200\n",
            "34/34 [==============================] - 0s 1ms/step - loss: 5963.0718 - mae: 5963.0718\n",
            "Epoch 78/200\n",
            "34/34 [==============================] - 0s 1ms/step - loss: 5940.0605 - mae: 5940.0605\n",
            "Epoch 79/200\n",
            "34/34 [==============================] - 0s 1ms/step - loss: 5915.1064 - mae: 5915.1064\n",
            "Epoch 80/200\n",
            "34/34 [==============================] - 0s 1ms/step - loss: 5887.9990 - mae: 5887.9990\n",
            "Epoch 81/200\n",
            "34/34 [==============================] - 0s 1ms/step - loss: 5861.6992 - mae: 5861.6992\n",
            "Epoch 82/200\n",
            "34/34 [==============================] - 0s 1ms/step - loss: 5834.3066 - mae: 5834.3066\n",
            "Epoch 83/200\n",
            "34/34 [==============================] - 0s 1ms/step - loss: 5805.8237 - mae: 5805.8237\n",
            "Epoch 84/200\n",
            "34/34 [==============================] - 0s 1ms/step - loss: 5772.3232 - mae: 5772.3232\n",
            "Epoch 85/200\n",
            "34/34 [==============================] - 0s 1ms/step - loss: 5745.1514 - mae: 5745.1514\n",
            "Epoch 86/200\n",
            "34/34 [==============================] - 0s 1ms/step - loss: 5711.3477 - mae: 5711.3477\n",
            "Epoch 87/200\n",
            "34/34 [==============================] - 0s 2ms/step - loss: 5674.5215 - mae: 5674.5215\n",
            "Epoch 88/200\n",
            "34/34 [==============================] - 0s 1ms/step - loss: 5639.4927 - mae: 5639.4927\n",
            "Epoch 89/200\n",
            "34/34 [==============================] - 0s 1ms/step - loss: 5600.6655 - mae: 5600.6655\n",
            "Epoch 90/200\n",
            "34/34 [==============================] - 0s 1ms/step - loss: 5559.4326 - mae: 5559.4326\n",
            "Epoch 91/200\n",
            "34/34 [==============================] - 0s 1ms/step - loss: 5523.6187 - mae: 5523.6187\n",
            "Epoch 92/200\n",
            "34/34 [==============================] - 0s 1ms/step - loss: 5474.1250 - mae: 5474.1250\n",
            "Epoch 93/200\n",
            "34/34 [==============================] - 0s 1ms/step - loss: 5432.2661 - mae: 5432.2661\n",
            "Epoch 94/200\n",
            "34/34 [==============================] - 0s 1ms/step - loss: 5386.0527 - mae: 5386.0527\n",
            "Epoch 95/200\n",
            "34/34 [==============================] - 0s 1ms/step - loss: 5333.1812 - mae: 5333.1812\n",
            "Epoch 96/200\n",
            "34/34 [==============================] - 0s 1ms/step - loss: 5288.8159 - mae: 5288.8159\n",
            "Epoch 97/200\n",
            "34/34 [==============================] - 0s 1ms/step - loss: 5234.6792 - mae: 5234.6792\n",
            "Epoch 98/200\n",
            "34/34 [==============================] - 0s 1ms/step - loss: 5170.9360 - mae: 5170.9360\n",
            "Epoch 99/200\n",
            "34/34 [==============================] - 0s 1ms/step - loss: 5112.9443 - mae: 5112.9443\n",
            "Epoch 100/200\n",
            "34/34 [==============================] - 0s 1ms/step - loss: 5059.8643 - mae: 5059.8643\n",
            "Epoch 101/200\n",
            "34/34 [==============================] - 0s 1ms/step - loss: 4987.6191 - mae: 4987.6191\n",
            "Epoch 102/200\n",
            "34/34 [==============================] - 0s 1ms/step - loss: 4915.2910 - mae: 4915.2910\n",
            "Epoch 103/200\n",
            "34/34 [==============================] - 0s 1ms/step - loss: 4847.3599 - mae: 4847.3599\n",
            "Epoch 104/200\n",
            "34/34 [==============================] - 0s 1ms/step - loss: 4768.0151 - mae: 4768.0151\n",
            "Epoch 105/200\n",
            "34/34 [==============================] - 0s 1ms/step - loss: 4683.4727 - mae: 4683.4727\n",
            "Epoch 106/200\n",
            "34/34 [==============================] - 0s 1ms/step - loss: 4600.5054 - mae: 4600.5054\n",
            "Epoch 107/200\n",
            "34/34 [==============================] - 0s 1ms/step - loss: 4513.1436 - mae: 4513.1436\n",
            "Epoch 108/200\n",
            "34/34 [==============================] - 0s 1ms/step - loss: 4422.2983 - mae: 4422.2983\n",
            "Epoch 109/200\n",
            "34/34 [==============================] - 0s 2ms/step - loss: 4339.9600 - mae: 4339.9600\n",
            "Epoch 110/200\n",
            "34/34 [==============================] - 0s 1ms/step - loss: 4254.3916 - mae: 4254.3916\n",
            "Epoch 111/200\n",
            "34/34 [==============================] - 0s 1ms/step - loss: 4173.1797 - mae: 4173.1797\n",
            "Epoch 112/200\n",
            "34/34 [==============================] - 0s 2ms/step - loss: 4102.2939 - mae: 4102.2939\n",
            "Epoch 113/200\n",
            "34/34 [==============================] - 0s 1ms/step - loss: 4031.9592 - mae: 4031.9592\n",
            "Epoch 114/200\n",
            "34/34 [==============================] - 0s 1ms/step - loss: 3986.0220 - mae: 3986.0220\n",
            "Epoch 115/200\n",
            "34/34 [==============================] - 0s 1ms/step - loss: 3943.2346 - mae: 3943.2346\n",
            "Epoch 116/200\n",
            "34/34 [==============================] - 0s 1ms/step - loss: 3918.8977 - mae: 3918.8977\n",
            "Epoch 117/200\n",
            "34/34 [==============================] - 0s 1ms/step - loss: 3895.5610 - mae: 3895.5610\n",
            "Epoch 118/200\n",
            "34/34 [==============================] - 0s 1ms/step - loss: 3869.5679 - mae: 3869.5679\n",
            "Epoch 119/200\n",
            "34/34 [==============================] - 0s 1ms/step - loss: 3850.2136 - mae: 3850.2136\n",
            "Epoch 120/200\n",
            "34/34 [==============================] - 0s 2ms/step - loss: 3834.7349 - mae: 3834.7349\n",
            "Epoch 121/200\n",
            "34/34 [==============================] - 0s 1ms/step - loss: 3827.0952 - mae: 3827.0952\n",
            "Epoch 122/200\n",
            "34/34 [==============================] - 0s 1ms/step - loss: 3821.6382 - mae: 3821.6382\n",
            "Epoch 123/200\n",
            "34/34 [==============================] - 0s 1ms/step - loss: 3813.8315 - mae: 3813.8315\n",
            "Epoch 124/200\n",
            "34/34 [==============================] - 0s 1ms/step - loss: 3805.7307 - mae: 3805.7307\n",
            "Epoch 125/200\n",
            "34/34 [==============================] - 0s 2ms/step - loss: 3794.7090 - mae: 3794.7090\n",
            "Epoch 126/200\n",
            "34/34 [==============================] - 0s 2ms/step - loss: 3804.4946 - mae: 3804.4946\n",
            "Epoch 127/200\n",
            "34/34 [==============================] - 0s 2ms/step - loss: 3796.0596 - mae: 3796.0596\n",
            "Epoch 128/200\n",
            "34/34 [==============================] - 0s 2ms/step - loss: 3791.0422 - mae: 3791.0422\n",
            "Epoch 129/200\n",
            "34/34 [==============================] - 0s 1ms/step - loss: 3800.0696 - mae: 3800.0696\n",
            "Epoch 130/200\n",
            "34/34 [==============================] - 0s 2ms/step - loss: 3788.5005 - mae: 3788.5005\n",
            "Epoch 131/200\n",
            "34/34 [==============================] - 0s 1ms/step - loss: 3780.8442 - mae: 3780.8442\n",
            "Epoch 132/200\n",
            "34/34 [==============================] - 0s 1ms/step - loss: 3774.5413 - mae: 3774.5413\n",
            "Epoch 133/200\n",
            "34/34 [==============================] - 0s 1ms/step - loss: 3771.0156 - mae: 3771.0156\n",
            "Epoch 134/200\n",
            "34/34 [==============================] - 0s 1ms/step - loss: 3769.3762 - mae: 3769.3762\n",
            "Epoch 135/200\n",
            "34/34 [==============================] - 0s 1ms/step - loss: 3766.7610 - mae: 3766.7610\n",
            "Epoch 136/200\n",
            "34/34 [==============================] - 0s 1ms/step - loss: 3765.5508 - mae: 3765.5508\n",
            "Epoch 137/200\n",
            "34/34 [==============================] - 0s 1ms/step - loss: 3774.5032 - mae: 3774.5032\n",
            "Epoch 138/200\n",
            "34/34 [==============================] - 0s 1ms/step - loss: 3785.3909 - mae: 3785.3909\n",
            "Epoch 139/200\n",
            "34/34 [==============================] - 0s 1ms/step - loss: 3761.1299 - mae: 3761.1299\n",
            "Epoch 140/200\n",
            "34/34 [==============================] - 0s 1ms/step - loss: 3764.1753 - mae: 3764.1753\n",
            "Epoch 141/200\n",
            "34/34 [==============================] - 0s 2ms/step - loss: 3763.9250 - mae: 3763.9250\n",
            "Epoch 142/200\n",
            "34/34 [==============================] - 0s 1ms/step - loss: 3762.7959 - mae: 3762.7959\n",
            "Epoch 143/200\n",
            "34/34 [==============================] - 0s 1ms/step - loss: 3754.4397 - mae: 3754.4397\n",
            "Epoch 144/200\n",
            "34/34 [==============================] - 0s 1ms/step - loss: 3750.3347 - mae: 3750.3347\n",
            "Epoch 145/200\n",
            "34/34 [==============================] - 0s 1ms/step - loss: 3750.4006 - mae: 3750.4006\n",
            "Epoch 146/200\n",
            "34/34 [==============================] - 0s 1ms/step - loss: 3755.4736 - mae: 3755.4736\n",
            "Epoch 147/200\n",
            "34/34 [==============================] - 0s 1ms/step - loss: 3750.3223 - mae: 3750.3223\n",
            "Epoch 148/200\n",
            "34/34 [==============================] - 0s 1ms/step - loss: 3758.1089 - mae: 3758.1089\n",
            "Epoch 149/200\n",
            "34/34 [==============================] - 0s 1ms/step - loss: 3743.4858 - mae: 3743.4858\n",
            "Epoch 150/200\n",
            "34/34 [==============================] - 0s 1ms/step - loss: 3738.5342 - mae: 3738.5342\n",
            "Epoch 151/200\n",
            "34/34 [==============================] - 0s 1ms/step - loss: 3740.1384 - mae: 3740.1384\n",
            "Epoch 152/200\n",
            "34/34 [==============================] - 0s 1ms/step - loss: 3742.4954 - mae: 3742.4954\n",
            "Epoch 153/200\n",
            "34/34 [==============================] - 0s 1ms/step - loss: 3744.4399 - mae: 3744.4399\n",
            "Epoch 154/200\n",
            "34/34 [==============================] - 0s 1ms/step - loss: 3737.1824 - mae: 3737.1824\n",
            "Epoch 155/200\n",
            "34/34 [==============================] - 0s 1ms/step - loss: 3737.6541 - mae: 3737.6541\n",
            "Epoch 156/200\n",
            "34/34 [==============================] - 0s 1ms/step - loss: 3737.1663 - mae: 3737.1663\n",
            "Epoch 157/200\n",
            "34/34 [==============================] - 0s 1ms/step - loss: 3733.1101 - mae: 3733.1101\n",
            "Epoch 158/200\n",
            "34/34 [==============================] - 0s 1ms/step - loss: 3729.5813 - mae: 3729.5813\n",
            "Epoch 159/200\n",
            "34/34 [==============================] - 0s 1ms/step - loss: 3725.9053 - mae: 3725.9053\n",
            "Epoch 160/200\n",
            "34/34 [==============================] - 0s 2ms/step - loss: 3733.2817 - mae: 3733.2817\n",
            "Epoch 161/200\n",
            "34/34 [==============================] - 0s 1ms/step - loss: 3728.2559 - mae: 3728.2559\n",
            "Epoch 162/200\n",
            "34/34 [==============================] - 0s 2ms/step - loss: 3724.5825 - mae: 3724.5825\n",
            "Epoch 163/200\n",
            "34/34 [==============================] - 0s 1ms/step - loss: 3723.0806 - mae: 3723.0806\n",
            "Epoch 164/200\n",
            "34/34 [==============================] - 0s 1ms/step - loss: 3726.9475 - mae: 3726.9475\n",
            "Epoch 165/200\n",
            "34/34 [==============================] - 0s 1ms/step - loss: 3716.5430 - mae: 3716.5430\n",
            "Epoch 166/200\n",
            "34/34 [==============================] - 0s 1ms/step - loss: 3721.9155 - mae: 3721.9155\n",
            "Epoch 167/200\n",
            "34/34 [==============================] - 0s 1ms/step - loss: 3721.1814 - mae: 3721.1814\n",
            "Epoch 168/200\n",
            "34/34 [==============================] - 0s 1ms/step - loss: 3715.2456 - mae: 3715.2456\n",
            "Epoch 169/200\n",
            "34/34 [==============================] - 0s 1ms/step - loss: 3713.9756 - mae: 3713.9756\n",
            "Epoch 170/200\n",
            "34/34 [==============================] - 0s 1ms/step - loss: 3707.9922 - mae: 3707.9922\n",
            "Epoch 171/200\n",
            "34/34 [==============================] - 0s 1ms/step - loss: 3707.4158 - mae: 3707.4158\n",
            "Epoch 172/200\n",
            "34/34 [==============================] - 0s 2ms/step - loss: 3710.6833 - mae: 3710.6833\n",
            "Epoch 173/200\n",
            "34/34 [==============================] - 0s 1ms/step - loss: 3703.3618 - mae: 3703.3618\n",
            "Epoch 174/200\n",
            "34/34 [==============================] - 0s 1ms/step - loss: 3710.9385 - mae: 3710.9385\n",
            "Epoch 175/200\n",
            "34/34 [==============================] - 0s 1ms/step - loss: 3713.0417 - mae: 3713.0417\n",
            "Epoch 176/200\n",
            "34/34 [==============================] - 0s 1ms/step - loss: 3705.0571 - mae: 3705.0571\n",
            "Epoch 177/200\n",
            "34/34 [==============================] - 0s 1ms/step - loss: 3698.9333 - mae: 3698.9333\n",
            "Epoch 178/200\n",
            "34/34 [==============================] - 0s 1ms/step - loss: 3697.9983 - mae: 3697.9983\n",
            "Epoch 179/200\n",
            "34/34 [==============================] - 0s 2ms/step - loss: 3704.9150 - mae: 3704.9150\n",
            "Epoch 180/200\n",
            "34/34 [==============================] - 0s 2ms/step - loss: 3710.3679 - mae: 3710.3679\n",
            "Epoch 181/200\n",
            "34/34 [==============================] - 0s 1ms/step - loss: 3696.6482 - mae: 3696.6482\n",
            "Epoch 182/200\n",
            "34/34 [==============================] - 0s 1ms/step - loss: 3692.7329 - mae: 3692.7329\n",
            "Epoch 183/200\n",
            "34/34 [==============================] - 0s 1ms/step - loss: 3691.1655 - mae: 3691.1655\n",
            "Epoch 184/200\n",
            "34/34 [==============================] - 0s 1ms/step - loss: 3699.2437 - mae: 3699.2437\n",
            "Epoch 185/200\n",
            "34/34 [==============================] - 0s 1ms/step - loss: 3693.2480 - mae: 3693.2480\n",
            "Epoch 186/200\n",
            "34/34 [==============================] - 0s 1ms/step - loss: 3696.1387 - mae: 3696.1387\n",
            "Epoch 187/200\n",
            "34/34 [==============================] - 0s 1ms/step - loss: 3687.8640 - mae: 3687.8640\n",
            "Epoch 188/200\n",
            "34/34 [==============================] - 0s 1ms/step - loss: 3693.3562 - mae: 3693.3562\n",
            "Epoch 189/200\n",
            "34/34 [==============================] - 0s 1ms/step - loss: 3682.7324 - mae: 3682.7324\n",
            "Epoch 190/200\n",
            "34/34 [==============================] - 0s 2ms/step - loss: 3683.2891 - mae: 3683.2891\n",
            "Epoch 191/200\n",
            "34/34 [==============================] - 0s 1ms/step - loss: 3697.6536 - mae: 3697.6536\n",
            "Epoch 192/200\n",
            "34/34 [==============================] - 0s 1ms/step - loss: 3684.6665 - mae: 3684.6665\n",
            "Epoch 193/200\n",
            "34/34 [==============================] - 0s 1ms/step - loss: 3675.5154 - mae: 3675.5154\n",
            "Epoch 194/200\n",
            "34/34 [==============================] - 0s 1ms/step - loss: 3676.3923 - mae: 3676.3923\n",
            "Epoch 195/200\n",
            "34/34 [==============================] - 0s 1ms/step - loss: 3672.8452 - mae: 3672.8452\n",
            "Epoch 196/200\n",
            "34/34 [==============================] - 0s 1ms/step - loss: 3682.0283 - mae: 3682.0283\n",
            "Epoch 197/200\n",
            "34/34 [==============================] - 0s 1ms/step - loss: 3665.7961 - mae: 3665.7961\n",
            "Epoch 198/200\n",
            "34/34 [==============================] - 0s 1ms/step - loss: 3671.7419 - mae: 3671.7419\n",
            "Epoch 199/200\n",
            "34/34 [==============================] - 0s 2ms/step - loss: 3680.5464 - mae: 3680.5464\n",
            "Epoch 200/200\n",
            "34/34 [==============================] - 0s 1ms/step - loss: 3665.6401 - mae: 3665.6401\n"
          ],
          "name": "stdout"
        }
      ]
    },
    {
      "cell_type": "code",
      "metadata": {
        "colab": {
          "base_uri": "https://localhost:8080/"
        },
        "id": "qp0ubQOk0TPz",
        "outputId": "2c20a3c1-0a68-4460-e117-c98a0f2ca9a6"
      },
      "source": [
        "# Evaluate the model\n",
        "insurance_model_3.evaluate(X_test,y_test)"
      ],
      "execution_count": 90,
      "outputs": [
        {
          "output_type": "stream",
          "text": [
            "9/9 [==============================] - 0s 2ms/step - loss: 3491.2961 - mae: 3491.2961\n"
          ],
          "name": "stdout"
        },
        {
          "output_type": "execute_result",
          "data": {
            "text/plain": [
              "[3491.296142578125, 3491.296142578125]"
            ]
          },
          "metadata": {
            "tags": []
          },
          "execution_count": 90
        }
      ]
    },
    {
      "cell_type": "code",
      "metadata": {
        "colab": {
          "base_uri": "https://localhost:8080/",
          "height": 297
        },
        "id": "z4d102vP2PLX",
        "outputId": "03a9a85d-ff39-4dea-e52b-ecef059c098a"
      },
      "source": [
        "# Plot history (also loss curve and training curve)\n",
        "pd.DataFrame(history.history).plot()\n",
        "plt.ylabel(\"loss\")\n",
        "plt.xlabel(\"epochs\")"
      ],
      "execution_count": 91,
      "outputs": [
        {
          "output_type": "execute_result",
          "data": {
            "text/plain": [
              "Text(0.5, 0, 'epochs')"
            ]
          },
          "metadata": {
            "tags": []
          },
          "execution_count": 91
        },
        {
          "output_type": "display_data",
          "data": {
            "image/png": "[encoded data removed]",
            "text/plain": [
              "<Figure size 432x288 with 1 Axes>"
            ]
          },
          "metadata": {
            "tags": [],
            "needs_background": "light"
          }
        }
      ]
    },
    {
      "cell_type": "markdown",
      "metadata": {
        "id": "4Fj6JFQb3BjR"
      },
      "source": [
        "> **Question:** How long should you train for?\n",
        "\n",
        "it depends on:\n",
        "Problem you are working on....However many people have asked this question before..so Tensorflow has a solution!!! it is called the[ ** EarlyStopping Callback**]( https://www.tensorflow.org/api_docs/python/tf/keras/callbacks/EarlyStopping),whic is a Tensorflow component you can add to your model to stop training once it stops improving a certain metrics."
      ]
    },
    {
      "cell_type": "markdown",
      "metadata": {
        "id": "16XQKnK13322"
      },
      "source": [
        "# Preprocessing the data ( normalization and standardization)\n"
      ]
    },
    {
      "cell_type": "code",
      "metadata": {
        "colab": {
          "base_uri": "https://localhost:8080/",
          "height": 407
        },
        "id": "ZU_UlQyj3oyE",
        "outputId": "a95eb62e-b29d-4659-8f8b-083a0097cf83"
      },
      "source": [
        "X"
      ],
      "execution_count": 92,
      "outputs": [
        {
          "output_type": "execute_result",
          "data": {
            "text/html": [
              "<div>\n",
              "<style scoped>\n",
              "    .dataframe tbody tr th:only-of-type {\n",
              "        vertical-align: middle;\n",
              "    }\n",
              "\n",
              "    .dataframe tbody tr th {\n",
              "        vertical-align: top;\n",
              "    }\n",
              "\n",
              "    .dataframe thead th {\n",
              "        text-align: right;\n",
              "    }\n",
              "</style>\n",
              "<table border=\"1\" class=\"dataframe\">\n",
              "  <thead>\n",
              "    <tr style=\"text-align: right;\">\n",
              "      <th></th>\n",
              "      <th>age</th>\n",
              "      <th>bmi</th>\n",
              "      <th>children</th>\n",
              "      <th>sex_female</th>\n",
              "      <th>sex_male</th>\n",
              "      <th>smoker_no</th>\n",
              "      <th>smoker_yes</th>\n",
              "      <th>region_northeast</th>\n",
              "      <th>region_northwest</th>\n",
              "      <th>region_southeast</th>\n",
              "      <th>region_southwest</th>\n",
              "    </tr>\n",
              "  </thead>\n",
              "  <tbody>\n",
              "    <tr>\n",
              "      <th>0</th>\n",
              "      <td>19</td>\n",
              "      <td>27.900</td>\n",
              "      <td>0</td>\n",
              "      <td>1</td>\n",
              "      <td>0</td>\n",
              "      <td>0</td>\n",
              "      <td>1</td>\n",
              "      <td>0</td>\n",
              "      <td>0</td>\n",
              "      <td>0</td>\n",
              "      <td>1</td>\n",
              "    </tr>\n",
              "    <tr>\n",
              "      <th>1</th>\n",
              "      <td>18</td>\n",
              "      <td>33.770</td>\n",
              "      <td>1</td>\n",
              "      <td>0</td>\n",
              "      <td>1</td>\n",
              "      <td>1</td>\n",
              "      <td>0</td>\n",
              "      <td>0</td>\n",
              "      <td>0</td>\n",
              "      <td>1</td>\n",
              "      <td>0</td>\n",
              "    </tr>\n",
              "    <tr>\n",
              "      <th>2</th>\n",
              "      <td>28</td>\n",
              "      <td>33.000</td>\n",
              "      <td>3</td>\n",
              "      <td>0</td>\n",
              "      <td>1</td>\n",
              "      <td>1</td>\n",
              "      <td>0</td>\n",
              "      <td>0</td>\n",
              "      <td>0</td>\n",
              "      <td>1</td>\n",
              "      <td>0</td>\n",
              "    </tr>\n",
              "    <tr>\n",
              "      <th>3</th>\n",
              "      <td>33</td>\n",
              "      <td>22.705</td>\n",
              "      <td>0</td>\n",
              "      <td>0</td>\n",
              "      <td>1</td>\n",
              "      <td>1</td>\n",
              "      <td>0</td>\n",
              "      <td>0</td>\n",
              "      <td>1</td>\n",
              "      <td>0</td>\n",
              "      <td>0</td>\n",
              "    </tr>\n",
              "    <tr>\n",
              "      <th>4</th>\n",
              "      <td>32</td>\n",
              "      <td>28.880</td>\n",
              "      <td>0</td>\n",
              "      <td>0</td>\n",
              "      <td>1</td>\n",
              "      <td>1</td>\n",
              "      <td>0</td>\n",
              "      <td>0</td>\n",
              "      <td>1</td>\n",
              "      <td>0</td>\n",
              "      <td>0</td>\n",
              "    </tr>\n",
              "    <tr>\n",
              "      <th>...</th>\n",
              "      <td>...</td>\n",
              "      <td>...</td>\n",
              "      <td>...</td>\n",
              "      <td>...</td>\n",
              "      <td>...</td>\n",
              "      <td>...</td>\n",
              "      <td>...</td>\n",
              "      <td>...</td>\n",
              "      <td>...</td>\n",
              "      <td>...</td>\n",
              "      <td>...</td>\n",
              "    </tr>\n",
              "    <tr>\n",
              "      <th>1333</th>\n",
              "      <td>50</td>\n",
              "      <td>30.970</td>\n",
              "      <td>3</td>\n",
              "      <td>0</td>\n",
              "      <td>1</td>\n",
              "      <td>1</td>\n",
              "      <td>0</td>\n",
              "      <td>0</td>\n",
              "      <td>1</td>\n",
              "      <td>0</td>\n",
              "      <td>0</td>\n",
              "    </tr>\n",
              "    <tr>\n",
              "      <th>1334</th>\n",
              "      <td>18</td>\n",
              "      <td>31.920</td>\n",
              "      <td>0</td>\n",
              "      <td>1</td>\n",
              "      <td>0</td>\n",
              "      <td>1</td>\n",
              "      <td>0</td>\n",
              "      <td>1</td>\n",
              "      <td>0</td>\n",
              "      <td>0</td>\n",
              "      <td>0</td>\n",
              "    </tr>\n",
              "    <tr>\n",
              "      <th>1335</th>\n",
              "      <td>18</td>\n",
              "      <td>36.850</td>\n",
              "      <td>0</td>\n",
              "      <td>1</td>\n",
              "      <td>0</td>\n",
              "      <td>1</td>\n",
              "      <td>0</td>\n",
              "      <td>0</td>\n",
              "      <td>0</td>\n",
              "      <td>1</td>\n",
              "      <td>0</td>\n",
              "    </tr>\n",
              "    <tr>\n",
              "      <th>1336</th>\n",
              "      <td>21</td>\n",
              "      <td>25.800</td>\n",
              "      <td>0</td>\n",
              "      <td>1</td>\n",
              "      <td>0</td>\n",
              "      <td>1</td>\n",
              "      <td>0</td>\n",
              "      <td>0</td>\n",
              "      <td>0</td>\n",
              "      <td>0</td>\n",
              "      <td>1</td>\n",
              "    </tr>\n",
              "    <tr>\n",
              "      <th>1337</th>\n",
              "      <td>61</td>\n",
              "      <td>29.070</td>\n",
              "      <td>0</td>\n",
              "      <td>1</td>\n",
              "      <td>0</td>\n",
              "      <td>0</td>\n",
              "      <td>1</td>\n",
              "      <td>0</td>\n",
              "      <td>1</td>\n",
              "      <td>0</td>\n",
              "      <td>0</td>\n",
              "    </tr>\n",
              "  </tbody>\n",
              "</table>\n",
              "<p>1338 rows × 11 columns</p>\n",
              "</div>"
            ],
            "text/plain": [
              "      age     bmi  ...  region_southeast  region_southwest\n",
              "0      19  27.900  ...                 0                 1\n",
              "1      18  33.770  ...                 1                 0\n",
              "2      28  33.000  ...                 1                 0\n",
              "3      33  22.705  ...                 0                 0\n",
              "4      32  28.880  ...                 0                 0\n",
              "...   ...     ...  ...               ...               ...\n",
              "1333   50  30.970  ...                 0                 0\n",
              "1334   18  31.920  ...                 0                 0\n",
              "1335   18  36.850  ...                 1                 0\n",
              "1336   21  25.800  ...                 0                 1\n",
              "1337   61  29.070  ...                 0                 0\n",
              "\n",
              "[1338 rows x 11 columns]"
            ]
          },
          "metadata": {
            "tags": []
          },
          "execution_count": 92
        }
      ]
    },
    {
      "cell_type": "code",
      "metadata": {
        "colab": {
          "base_uri": "https://localhost:8080/",
          "height": 283
        },
        "id": "khty8KLf4TrS",
        "outputId": "f5f9257b-3579-46d1-eef4-39610a283b49"
      },
      "source": [
        "X[\"age\"].plot(kind=\"hist\")"
      ],
      "execution_count": 93,
      "outputs": [
        {
          "output_type": "execute_result",
          "data": {
            "text/plain": [
              "<matplotlib.axes._subplots.AxesSubplot at 0x7f40a4053390>"
            ]
          },
          "metadata": {
            "tags": []
          },
          "execution_count": 93
        },
        {
          "output_type": "display_data",
          "data": {
            "image/png": "[encoded data removed]",
            "text/plain": [
              "<Figure size 432x288 with 1 Axes>"
            ]
          },
          "metadata": {
            "tags": [],
            "needs_background": "light"
          }
        }
      ]
    },
    {
      "cell_type": "code",
      "metadata": {
        "colab": {
          "base_uri": "https://localhost:8080/",
          "height": 283
        },
        "id": "fF44GT-T4jpm",
        "outputId": "3d37f115-b4f0-4bad-afa7-61fd92b8dea0"
      },
      "source": [
        "X[\"bmi\"].plot(kind=\"hist\")"
      ],
      "execution_count": 94,
      "outputs": [
        {
          "output_type": "execute_result",
          "data": {
            "text/plain": [
              "<matplotlib.axes._subplots.AxesSubplot at 0x7f4059886b90>"
            ]
          },
          "metadata": {
            "tags": []
          },
          "execution_count": 94
        },
        {
          "output_type": "display_data",
          "data": {
            "image/png": "[encoded data removed]",
            "text/plain": [
              "<Figure size 432x288 with 1 Axes>"
            ]
          },
          "metadata": {
            "tags": [],
            "needs_background": "light"
          }
        }
      ]
    },
    {
      "cell_type": "code",
      "metadata": {
        "colab": {
          "base_uri": "https://localhost:8080/"
        },
        "id": "KA8KUGIc4wZk",
        "outputId": "ae022e09-cd0f-4136-aad3-2f41b88d7469"
      },
      "source": [
        "X[\"children\"].value_counts()"
      ],
      "execution_count": 95,
      "outputs": [
        {
          "output_type": "execute_result",
          "data": {
            "text/plain": [
              "0    574\n",
              "1    324\n",
              "2    240\n",
              "3    157\n",
              "4     25\n",
              "5     18\n",
              "Name: children, dtype: int64"
            ]
          },
          "metadata": {
            "tags": []
          },
          "execution_count": 95
        }
      ]
    },
    {
      "cell_type": "markdown",
      "metadata": {
        "id": "xWjhXUQA4-T3"
      },
      "source": [
        "# In terms of scaling, neural networks tend to prefer normalization\n",
        "\n",
        "> If you are not sure on which to use, you could try use both and see which performs better\n"
      ]
    },
    {
      "cell_type": "code",
      "metadata": {
        "colab": {
          "base_uri": "https://localhost:8080/",
          "height": 198
        },
        "id": "ursVTjUv7I2n",
        "outputId": "e8d9037f-0184-4860-c147-a595bac5287f"
      },
      "source": [
        "import pandas as pd\n",
        "import matplotlib.pyplot as plt\n",
        "import tensorflow as tf\n",
        "# Read in the insurance DataFrame\n",
        "insurance = pd.read_csv(\"https://raw.githubusercontent.com/stedy/Machine-Learning-with-R-datasets/master/insurance.csv\")\n",
        "insurance.head()"
      ],
      "execution_count": 96,
      "outputs": [
        {
          "output_type": "execute_result",
          "data": {
            "text/html": [
              "<div>\n",
              "<style scoped>\n",
              "    .dataframe tbody tr th:only-of-type {\n",
              "        vertical-align: middle;\n",
              "    }\n",
              "\n",
              "    .dataframe tbody tr th {\n",
              "        vertical-align: top;\n",
              "    }\n",
              "\n",
              "    .dataframe thead th {\n",
              "        text-align: right;\n",
              "    }\n",
              "</style>\n",
              "<table border=\"1\" class=\"dataframe\">\n",
              "  <thead>\n",
              "    <tr style=\"text-align: right;\">\n",
              "      <th></th>\n",
              "      <th>age</th>\n",
              "      <th>sex</th>\n",
              "      <th>bmi</th>\n",
              "      <th>children</th>\n",
              "      <th>smoker</th>\n",
              "      <th>region</th>\n",
              "      <th>charges</th>\n",
              "    </tr>\n",
              "  </thead>\n",
              "  <tbody>\n",
              "    <tr>\n",
              "      <th>0</th>\n",
              "      <td>19</td>\n",
              "      <td>female</td>\n",
              "      <td>27.900</td>\n",
              "      <td>0</td>\n",
              "      <td>yes</td>\n",
              "      <td>southwest</td>\n",
              "      <td>16884.92400</td>\n",
              "    </tr>\n",
              "    <tr>\n",
              "      <th>1</th>\n",
              "      <td>18</td>\n",
              "      <td>male</td>\n",
              "      <td>33.770</td>\n",
              "      <td>1</td>\n",
              "      <td>no</td>\n",
              "      <td>southeast</td>\n",
              "      <td>1725.55230</td>\n",
              "    </tr>\n",
              "    <tr>\n",
              "      <th>2</th>\n",
              "      <td>28</td>\n",
              "      <td>male</td>\n",
              "      <td>33.000</td>\n",
              "      <td>3</td>\n",
              "      <td>no</td>\n",
              "      <td>southeast</td>\n",
              "      <td>4449.46200</td>\n",
              "    </tr>\n",
              "    <tr>\n",
              "      <th>3</th>\n",
              "      <td>33</td>\n",
              "      <td>male</td>\n",
              "      <td>22.705</td>\n",
              "      <td>0</td>\n",
              "      <td>no</td>\n",
              "      <td>northwest</td>\n",
              "      <td>21984.47061</td>\n",
              "    </tr>\n",
              "    <tr>\n",
              "      <th>4</th>\n",
              "      <td>32</td>\n",
              "      <td>male</td>\n",
              "      <td>28.880</td>\n",
              "      <td>0</td>\n",
              "      <td>no</td>\n",
              "      <td>northwest</td>\n",
              "      <td>3866.85520</td>\n",
              "    </tr>\n",
              "  </tbody>\n",
              "</table>\n",
              "</div>"
            ],
            "text/plain": [
              "   age     sex     bmi  children smoker     region      charges\n",
              "0   19  female  27.900         0    yes  southwest  16884.92400\n",
              "1   18    male  33.770         1     no  southeast   1725.55230\n",
              "2   28    male  33.000         3     no  southeast   4449.46200\n",
              "3   33    male  22.705         0     no  northwest  21984.47061\n",
              "4   32    male  28.880         0     no  northwest   3866.85520"
            ]
          },
          "metadata": {
            "tags": []
          },
          "execution_count": 96
        }
      ]
    },
    {
      "cell_type": "markdown",
      "metadata": {
        "id": "SIzG4eUtBaFA"
      },
      "source": [
        "#To prepare our data, we can a borrow a few classes from Scikit-Learn"
      ]
    },
    {
      "cell_type": "code",
      "metadata": {
        "id": "9RrN6dBz8oQY"
      },
      "source": [
        "from sklearn.compose import make_column_transformer\n",
        "from sklearn.preprocessing import MinMaxScaler, OneHotEncoder\n",
        "from sklearn.model_selection import train_test_split\n",
        "\n",
        "# Create a column transformer\n",
        "ct =  make_column_transformer(\n",
        "    (MinMaxScaler(),[\"age\",\"bmi\",\"children\"]), #turn all values in these columns  between 0 and 1\n",
        "    (OneHotEncoder(handle_unknown=\"ignore\"),[\"sex\",\"smoker\",\"region\"])\n",
        ")\n",
        "\n",
        "# Create  X and y value\n",
        "X = insurance.drop(\"charges\",axis =1)\n",
        "y = insurance[\"charges\"]\n",
        "\n",
        "# Build our train and test sets\n",
        "X_train,X_test,y_train,y_test=train_test_split(X,y,test_size=0.2,random_state=42 )\n",
        "\n",
        "# Fit the column transformer to our training data\n",
        "ct.fit(X_train)\n",
        "\n",
        "# Transfrom the training  and test data with normalization (MinMaxScaler) and OneHotEncoder\n",
        "X_train_normal = ct.transform(X_train)\n",
        "X_test_normal = ct.transform(X_test)\n",
        "\n"
      ],
      "execution_count": 97,
      "outputs": []
    },
    {
      "cell_type": "code",
      "metadata": {
        "colab": {
          "base_uri": "https://localhost:8080/"
        },
        "id": "Quc4n1RYEnNn",
        "outputId": "35b0473a-d64d-4ac6-f864-e819c12215d5"
      },
      "source": [
        "#What does our data look like?\n",
        "X_train.loc[0]\n"
      ],
      "execution_count": 101,
      "outputs": [
        {
          "output_type": "execute_result",
          "data": {
            "text/plain": [
              "age                19\n",
              "sex            female\n",
              "bmi              27.9\n",
              "children            0\n",
              "smoker            yes\n",
              "region      southwest\n",
              "Name: 0, dtype: object"
            ]
          },
          "metadata": {
            "tags": []
          },
          "execution_count": 101
        }
      ]
    },
    {
      "cell_type": "code",
      "metadata": {
        "colab": {
          "base_uri": "https://localhost:8080/"
        },
        "id": "MFRACiLaHDFk",
        "outputId": "6f5ac962-548e-4afc-917a-3f1268cf2c0d"
      },
      "source": [
        "X_train_normal[0]"
      ],
      "execution_count": 103,
      "outputs": [
        {
          "output_type": "execute_result",
          "data": {
            "text/plain": [
              "array([0.60869565, 0.10734463, 0.4       , 1.        , 0.        ,\n",
              "       1.        , 0.        , 0.        , 1.        , 0.        ,\n",
              "       0.        ])"
            ]
          },
          "metadata": {
            "tags": []
          },
          "execution_count": 103
        }
      ]
    },
    {
      "cell_type": "code",
      "metadata": {
        "colab": {
          "base_uri": "https://localhost:8080/"
        },
        "id": "tTz-9j1dJzuw",
        "outputId": "19ab78c4-c35d-4c6f-d982-8723b14a7ef7"
      },
      "source": [
        "X_train.shape,X_train_normal.shape"
      ],
      "execution_count": 104,
      "outputs": [
        {
          "output_type": "execute_result",
          "data": {
            "text/plain": [
              "((1070, 6), (1070, 11))"
            ]
          },
          "metadata": {
            "tags": []
          },
          "execution_count": 104
        }
      ]
    },
    {
      "cell_type": "code",
      "metadata": {
        "colab": {
          "base_uri": "https://localhost:8080/"
        },
        "id": "rP50RiwTKULY",
        "outputId": "829ffeb7-254d-47b6-de2b-235956fcf080"
      },
      "source": [
        "# build a neural network\n",
        "tf.random.set_seed(42)\n",
        "\n",
        "#Create the model\n",
        "insurance_model_4 = tf.keras.Sequential([\n",
        " tf.keras.layers.Dense(100),\n",
        " tf.keras.layers.Dense(10),\n",
        " tf.keras.layers.Dense(1)\n",
        "])\n",
        "\n",
        "# Compile the model\n",
        "insurance_model_4.compile(loss=tf.keras.losses.mae,\n",
        "                          optimizer=tf.keras.optimizers.Adam(),\n",
        "                          metrics=[\"mae\"])\n",
        "# Fit the model\n",
        "insurance_model_4.fit(X_train_normal,y_train,epochs=100)"
      ],
      "execution_count": 108,
      "outputs": [
        {
          "output_type": "stream",
          "text": [
            "Epoch 1/100\n",
            "34/34 [==============================] - 0s 1ms/step - loss: 13342.6475 - mae: 13342.6475\n",
            "Epoch 2/100\n",
            "34/34 [==============================] - 0s 1ms/step - loss: 13333.4785 - mae: 13333.4785\n",
            "Epoch 3/100\n",
            "34/34 [==============================] - 0s 1ms/step - loss: 13312.0234 - mae: 13312.0234\n",
            "Epoch 4/100\n",
            "34/34 [==============================] - 0s 1ms/step - loss: 13267.7930 - mae: 13267.7930\n",
            "Epoch 5/100\n",
            "34/34 [==============================] - 0s 1ms/step - loss: 13189.5850 - mae: 13189.5850\n",
            "Epoch 6/100\n",
            "34/34 [==============================] - 0s 1ms/step - loss: 13066.4502 - mae: 13066.4502\n",
            "Epoch 7/100\n",
            "34/34 [==============================] - 0s 1ms/step - loss: 12888.1953 - mae: 12888.1953\n",
            "Epoch 8/100\n",
            "34/34 [==============================] - 0s 1ms/step - loss: 12644.6523 - mae: 12644.6523\n",
            "Epoch 9/100\n",
            "34/34 [==============================] - 0s 1ms/step - loss: 12325.5469 - mae: 12325.5469\n",
            "Epoch 10/100\n",
            "34/34 [==============================] - 0s 2ms/step - loss: 11925.9658 - mae: 11925.9658\n",
            "Epoch 11/100\n",
            "34/34 [==============================] - 0s 1ms/step - loss: 11454.3350 - mae: 11454.3350\n",
            "Epoch 12/100\n",
            "34/34 [==============================] - 0s 1ms/step - loss: 10949.8086 - mae: 10949.8086\n",
            "Epoch 13/100\n",
            "34/34 [==============================] - 0s 1ms/step - loss: 10448.9404 - mae: 10448.9404\n",
            "Epoch 14/100\n",
            "34/34 [==============================] - 0s 1ms/step - loss: 9951.6250 - mae: 9951.6250\n",
            "Epoch 15/100\n",
            "34/34 [==============================] - 0s 1ms/step - loss: 9482.7422 - mae: 9482.7422\n",
            "Epoch 16/100\n",
            "34/34 [==============================] - 0s 1ms/step - loss: 9066.7461 - mae: 9066.7461\n",
            "Epoch 17/100\n",
            "34/34 [==============================] - 0s 1ms/step - loss: 8721.9854 - mae: 8721.9854\n",
            "Epoch 18/100\n",
            "34/34 [==============================] - 0s 1ms/step - loss: 8441.2002 - mae: 8441.2002\n",
            "Epoch 19/100\n",
            "34/34 [==============================] - 0s 1ms/step - loss: 8227.5117 - mae: 8227.5117\n",
            "Epoch 20/100\n",
            "34/34 [==============================] - 0s 1ms/step - loss: 8081.9775 - mae: 8081.9775\n",
            "Epoch 21/100\n",
            "34/34 [==============================] - 0s 1ms/step - loss: 7973.8945 - mae: 7973.8945\n",
            "Epoch 22/100\n",
            "34/34 [==============================] - 0s 1ms/step - loss: 7899.1597 - mae: 7899.1597\n",
            "Epoch 23/100\n",
            "34/34 [==============================] - 0s 1ms/step - loss: 7840.3916 - mae: 7840.3916\n",
            "Epoch 24/100\n",
            "34/34 [==============================] - 0s 1ms/step - loss: 7787.9619 - mae: 7787.9619\n",
            "Epoch 25/100\n",
            "34/34 [==============================] - 0s 1ms/step - loss: 7749.2622 - mae: 7749.2622\n",
            "Epoch 26/100\n",
            "34/34 [==============================] - 0s 1ms/step - loss: 7697.9595 - mae: 7697.9595\n",
            "Epoch 27/100\n",
            "34/34 [==============================] - 0s 2ms/step - loss: 7656.0273 - mae: 7656.0273\n",
            "Epoch 28/100\n",
            "34/34 [==============================] - 0s 1ms/step - loss: 7613.4780 - mae: 7613.4780\n",
            "Epoch 29/100\n",
            "34/34 [==============================] - 0s 1ms/step - loss: 7570.9482 - mae: 7570.9482\n",
            "Epoch 30/100\n",
            "34/34 [==============================] - 0s 1ms/step - loss: 7527.4175 - mae: 7527.4175\n",
            "Epoch 31/100\n",
            "34/34 [==============================] - 0s 1ms/step - loss: 7483.5947 - mae: 7483.5947\n",
            "Epoch 32/100\n",
            "34/34 [==============================] - 0s 1ms/step - loss: 7439.4424 - mae: 7439.4424\n",
            "Epoch 33/100\n",
            "34/34 [==============================] - 0s 1ms/step - loss: 7395.0552 - mae: 7395.0552\n",
            "Epoch 34/100\n",
            "34/34 [==============================] - 0s 1ms/step - loss: 7346.8125 - mae: 7346.8125\n",
            "Epoch 35/100\n",
            "34/34 [==============================] - 0s 2ms/step - loss: 7300.0493 - mae: 7300.0493\n",
            "Epoch 36/100\n",
            "34/34 [==============================] - 0s 1ms/step - loss: 7249.8452 - mae: 7249.8452\n",
            "Epoch 37/100\n",
            "34/34 [==============================] - 0s 1ms/step - loss: 7199.5303 - mae: 7199.5303\n",
            "Epoch 38/100\n",
            "34/34 [==============================] - 0s 1ms/step - loss: 7148.4805 - mae: 7148.4805\n",
            "Epoch 39/100\n",
            "34/34 [==============================] - 0s 1ms/step - loss: 7093.6660 - mae: 7093.6660\n",
            "Epoch 40/100\n",
            "34/34 [==============================] - 0s 1ms/step - loss: 7038.1797 - mae: 7038.1797\n",
            "Epoch 41/100\n",
            "34/34 [==============================] - 0s 1ms/step - loss: 6981.7393 - mae: 6981.7393\n",
            "Epoch 42/100\n",
            "34/34 [==============================] - 0s 1ms/step - loss: 6922.7847 - mae: 6922.7847\n",
            "Epoch 43/100\n",
            "34/34 [==============================] - 0s 1ms/step - loss: 6860.1724 - mae: 6860.1724\n",
            "Epoch 44/100\n",
            "34/34 [==============================] - 0s 1ms/step - loss: 6793.7979 - mae: 6793.7979\n",
            "Epoch 45/100\n",
            "34/34 [==============================] - 0s 1ms/step - loss: 6726.6201 - mae: 6726.6201\n",
            "Epoch 46/100\n",
            "34/34 [==============================] - 0s 1ms/step - loss: 6657.4683 - mae: 6657.4683\n",
            "Epoch 47/100\n",
            "34/34 [==============================] - 0s 1ms/step - loss: 6586.3086 - mae: 6586.3086\n",
            "Epoch 48/100\n",
            "34/34 [==============================] - 0s 1ms/step - loss: 6507.5063 - mae: 6507.5063\n",
            "Epoch 49/100\n",
            "34/34 [==============================] - 0s 1ms/step - loss: 6428.6025 - mae: 6428.6025\n",
            "Epoch 50/100\n",
            "34/34 [==============================] - 0s 1ms/step - loss: 6342.7100 - mae: 6342.7100\n",
            "Epoch 51/100\n",
            "34/34 [==============================] - 0s 1ms/step - loss: 6258.0718 - mae: 6258.0718\n",
            "Epoch 52/100\n",
            "34/34 [==============================] - 0s 2ms/step - loss: 6164.7046 - mae: 6164.7046\n",
            "Epoch 53/100\n",
            "34/34 [==============================] - 0s 1ms/step - loss: 6068.6748 - mae: 6068.6748\n",
            "Epoch 54/100\n",
            "34/34 [==============================] - 0s 1ms/step - loss: 5970.0981 - mae: 5970.0981\n",
            "Epoch 55/100\n",
            "34/34 [==============================] - 0s 1ms/step - loss: 5862.5625 - mae: 5862.5625\n",
            "Epoch 56/100\n",
            "34/34 [==============================] - 0s 1ms/step - loss: 5753.9531 - mae: 5753.9531\n",
            "Epoch 57/100\n",
            "34/34 [==============================] - 0s 1ms/step - loss: 5638.0942 - mae: 5638.0942\n",
            "Epoch 58/100\n",
            "34/34 [==============================] - 0s 1ms/step - loss: 5519.8687 - mae: 5519.8687\n",
            "Epoch 59/100\n",
            "34/34 [==============================] - 0s 1ms/step - loss: 5401.3198 - mae: 5401.3198\n",
            "Epoch 60/100\n",
            "34/34 [==============================] - 0s 1ms/step - loss: 5277.3506 - mae: 5277.3506\n",
            "Epoch 61/100\n",
            "34/34 [==============================] - 0s 1ms/step - loss: 5149.7642 - mae: 5149.7642\n",
            "Epoch 62/100\n",
            "34/34 [==============================] - 0s 1ms/step - loss: 5019.3540 - mae: 5019.3540\n",
            "Epoch 63/100\n",
            "34/34 [==============================] - 0s 1ms/step - loss: 4889.6865 - mae: 4889.6865\n",
            "Epoch 64/100\n",
            "34/34 [==============================] - 0s 1ms/step - loss: 4756.8560 - mae: 4756.8560\n",
            "Epoch 65/100\n",
            "34/34 [==============================] - 0s 2ms/step - loss: 4629.4370 - mae: 4629.4370\n",
            "Epoch 66/100\n",
            "34/34 [==============================] - 0s 1ms/step - loss: 4503.5991 - mae: 4503.5991\n",
            "Epoch 67/100\n",
            "34/34 [==============================] - 0s 1ms/step - loss: 4392.9922 - mae: 4392.9922\n",
            "Epoch 68/100\n",
            "34/34 [==============================] - 0s 1ms/step - loss: 4284.3862 - mae: 4284.3862\n",
            "Epoch 69/100\n",
            "34/34 [==============================] - 0s 1ms/step - loss: 4182.6182 - mae: 4182.6182\n",
            "Epoch 70/100\n",
            "34/34 [==============================] - 0s 1ms/step - loss: 4089.5720 - mae: 4089.5720\n",
            "Epoch 71/100\n",
            "34/34 [==============================] - 0s 1ms/step - loss: 4003.3901 - mae: 4003.3901\n",
            "Epoch 72/100\n",
            "34/34 [==============================] - 0s 1ms/step - loss: 3929.0093 - mae: 3929.0093\n",
            "Epoch 73/100\n",
            "34/34 [==============================] - 0s 1ms/step - loss: 3866.3110 - mae: 3866.3110\n",
            "Epoch 74/100\n",
            "34/34 [==============================] - 0s 1ms/step - loss: 3813.7144 - mae: 3813.7144\n",
            "Epoch 75/100\n",
            "34/34 [==============================] - 0s 1ms/step - loss: 3773.0317 - mae: 3773.0317\n",
            "Epoch 76/100\n",
            "34/34 [==============================] - 0s 2ms/step - loss: 3744.1995 - mae: 3744.1995\n",
            "Epoch 77/100\n",
            "34/34 [==============================] - 0s 1ms/step - loss: 3719.6870 - mae: 3719.6870\n",
            "Epoch 78/100\n",
            "34/34 [==============================] - 0s 1ms/step - loss: 3702.9109 - mae: 3702.9109\n",
            "Epoch 79/100\n",
            "34/34 [==============================] - 0s 1ms/step - loss: 3691.8792 - mae: 3691.8792\n",
            "Epoch 80/100\n",
            "34/34 [==============================] - 0s 1ms/step - loss: 3682.8350 - mae: 3682.8350\n",
            "Epoch 81/100\n",
            "34/34 [==============================] - 0s 1ms/step - loss: 3676.9763 - mae: 3676.9763\n",
            "Epoch 82/100\n",
            "34/34 [==============================] - 0s 2ms/step - loss: 3673.9492 - mae: 3673.9492\n",
            "Epoch 83/100\n",
            "34/34 [==============================] - 0s 2ms/step - loss: 3667.8452 - mae: 3667.8452\n",
            "Epoch 84/100\n",
            "34/34 [==============================] - 0s 1ms/step - loss: 3664.5757 - mae: 3664.5757\n",
            "Epoch 85/100\n",
            "34/34 [==============================] - 0s 1ms/step - loss: 3661.8562 - mae: 3661.8562\n",
            "Epoch 86/100\n",
            "34/34 [==============================] - 0s 1ms/step - loss: 3660.3049 - mae: 3660.3049\n",
            "Epoch 87/100\n",
            "34/34 [==============================] - 0s 1ms/step - loss: 3657.5134 - mae: 3657.5134\n",
            "Epoch 88/100\n",
            "34/34 [==============================] - 0s 1ms/step - loss: 3655.2200 - mae: 3655.2200\n",
            "Epoch 89/100\n",
            "34/34 [==============================] - 0s 1ms/step - loss: 3653.8831 - mae: 3653.8831\n",
            "Epoch 90/100\n",
            "34/34 [==============================] - 0s 1ms/step - loss: 3652.0195 - mae: 3652.0195\n",
            "Epoch 91/100\n",
            "34/34 [==============================] - 0s 2ms/step - loss: 3648.9990 - mae: 3648.9990\n",
            "Epoch 92/100\n",
            "34/34 [==============================] - 0s 1ms/step - loss: 3648.4463 - mae: 3648.4463\n",
            "Epoch 93/100\n",
            "34/34 [==============================] - 0s 1ms/step - loss: 3646.2297 - mae: 3646.2297\n",
            "Epoch 94/100\n",
            "34/34 [==============================] - 0s 1ms/step - loss: 3644.4377 - mae: 3644.4377\n",
            "Epoch 95/100\n",
            "34/34 [==============================] - 0s 1ms/step - loss: 3645.8772 - mae: 3645.8772\n",
            "Epoch 96/100\n",
            "34/34 [==============================] - 0s 1ms/step - loss: 3642.2573 - mae: 3642.2573\n",
            "Epoch 97/100\n",
            "34/34 [==============================] - 0s 1ms/step - loss: 3640.1184 - mae: 3640.1184\n",
            "Epoch 98/100\n",
            "34/34 [==============================] - 0s 1ms/step - loss: 3638.0649 - mae: 3638.0649\n",
            "Epoch 99/100\n",
            "34/34 [==============================] - 0s 1ms/step - loss: 3637.2051 - mae: 3637.2051\n",
            "Epoch 100/100\n",
            "34/34 [==============================] - 0s 1ms/step - loss: 3636.1707 - mae: 3636.1707\n"
          ],
          "name": "stdout"
        },
        {
          "output_type": "execute_result",
          "data": {
            "text/plain": [
              "<tensorflow.python.keras.callbacks.History at 0x7f4049da1310>"
            ]
          },
          "metadata": {
            "tags": []
          },
          "execution_count": 108
        }
      ]
    },
    {
      "cell_type": "code",
      "metadata": {
        "colab": {
          "base_uri": "https://localhost:8080/"
        },
        "id": "bo0DxC2sLiRG",
        "outputId": "c0cfab4e-28b2-4b1b-99e1-63c655d86044"
      },
      "source": [
        "insurance_model_2.summary()"
      ],
      "execution_count": 106,
      "outputs": [
        {
          "output_type": "stream",
          "text": [
            "Model: \"sequential_8\"\n",
            "_________________________________________________________________\n",
            "Layer (type)                 Output Shape              Param #   \n",
            "=================================================================\n",
            "dense_12 (Dense)             (None, 100)               1200      \n",
            "_________________________________________________________________\n",
            "dense_13 (Dense)             (None, 10)                1010      \n",
            "_________________________________________________________________\n",
            "dense_14 (Dense)             (None, 1)                 11        \n",
            "=================================================================\n",
            "Total params: 2,221\n",
            "Trainable params: 2,221\n",
            "Non-trainable params: 0\n",
            "_________________________________________________________________\n"
          ],
          "name": "stdout"
        }
      ]
    },
    {
      "cell_type": "code",
      "metadata": {
        "colab": {
          "base_uri": "https://localhost:8080/"
        },
        "id": "dqAEcIU-LmZm",
        "outputId": "bbbbc63a-0852-45db-e869-cf7aefdb8d1f"
      },
      "source": [
        "# Evaluate the model\n",
        "insurance_model_4.evaluate(X_test_normal,y_test)"
      ],
      "execution_count": 109,
      "outputs": [
        {
          "output_type": "stream",
          "text": [
            "9/9 [==============================] - 0s 2ms/step - loss: 3438.7844 - mae: 3438.7844\n"
          ],
          "name": "stdout"
        },
        {
          "output_type": "execute_result",
          "data": {
            "text/plain": [
              "[3438.784423828125, 3438.784423828125]"
            ]
          },
          "metadata": {
            "tags": []
          },
          "execution_count": 109
        }
      ]
    },
    {
      "cell_type": "code",
      "metadata": {
        "id": "bGITuyTHMi2-"
      },
      "source": [
        ""
      ],
      "execution_count": null,
      "outputs": []
    }
  ]
}